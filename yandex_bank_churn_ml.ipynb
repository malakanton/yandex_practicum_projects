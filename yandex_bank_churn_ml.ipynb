{
  "cells": [
    {
      "cell_type": "markdown",
      "metadata": {
        "id": "view-in-github",
        "colab_type": "text"
      },
      "source": [
        "<a href=\"https://colab.research.google.com/github/malakanton/yandex_practicum_projects/blob/main/yandex_bank_churn_ml.ipynb\" target=\"_parent\"><img src=\"https://colab.research.google.com/assets/colab-badge.svg\" alt=\"Open In Colab\"/></a>"
      ]
    },
    {
      "cell_type": "markdown",
      "metadata": {
        "id": "ZkReqYUabkZ8"
      },
      "source": [
        "# Отток клиентов"
      ]
    },
    {
      "cell_type": "markdown",
      "metadata": {
        "id": "eKvkzrfmbobN"
      },
      "source": [
        "<font size=4>Постановка задачи</font>\n",
        "\n",
        "Из «Бета-Банка» стали уходить клиенты. Каждый месяц. Немного, но заметно. Банковские маркетологи посчитали: сохранять текущих клиентов дешевле, чем привлекать новых.\n",
        "\n",
        "<font size=4>Цель проекта:</font>\n",
        "\n",
        "Спрогнозировать, уйдёт клиент из банка в ближайшее время или нет. В нашем распоряжении исторические данные о поведении клиентов и расторжении договоров с банком. \n",
        "\n",
        "Построить модель предсказания максимизируя метрику F-1 и метрику ROC AUC.\n",
        "\n",
        "Источник данных: [https://www.kaggle.com/barelydedicated/bank-customer-churn-modeling](https://www.kaggle.com/barelydedicated/bank-customer-churn-modeling)"
      ]
    },
    {
      "cell_type": "code",
      "execution_count": 1,
      "metadata": {
        "id": "WOz8HrpPUAje"
      },
      "outputs": [],
      "source": [
        "import numpy as np\n",
        "import pandas as pd\n",
        "from sklearn.metrics import accuracy_score, precision_score, recall_score,\\\n",
        "                    f1_score, plot_roc_curve, roc_auc_score, confusion_matrix, roc_curve, precision_recall_curve\n",
        "from sklearn.preprocessing import OrdinalEncoder, StandardScaler, MinMaxScaler\n",
        "from sklearn.model_selection import train_test_split, GridSearchCV, StratifiedKFold, PredefinedSplit\n",
        "from sklearn.utils import shuffle\n",
        "from sklearn.linear_model import LogisticRegression\n",
        "from xgboost import XGBClassifier\n",
        "from sklearn.ensemble import RandomForestClassifier\n",
        "from matplotlib import pyplot as plt\n",
        "import seaborn as sns"
      ]
    },
    {
      "cell_type": "code",
      "execution_count": 2,
      "metadata": {
        "id": "wjvRnZdNTyu3"
      },
      "outputs": [],
      "source": [
        "import warnings\n",
        "warnings.filterwarnings('ignore')"
      ]
    },
    {
      "cell_type": "code",
      "execution_count": 3,
      "metadata": {
        "id": "sxlxs7uZOQuv"
      },
      "outputs": [],
      "source": [
        "sns.set(rc={'figure.figsize':(12,6)}, style=\"darkgrid\")"
      ]
    },
    {
      "cell_type": "markdown",
      "metadata": {
        "id": "qS72VReqb9OQ"
      },
      "source": [
        "## Подготовка данных"
      ]
    },
    {
      "cell_type": "markdown",
      "metadata": {
        "id": "RR6TBXHVTyu5"
      },
      "source": [
        "### Загрузка данных и общая информация"
      ]
    },
    {
      "cell_type": "code",
      "execution_count": 4,
      "metadata": {
        "id": "77bIPXEMDu_6"
      },
      "outputs": [],
      "source": [
        "try:\n",
        "  df_raw = pd.read_csv('/datasets/Churn.csv')\n",
        "except:\n",
        "  df_raw = pd.read_csv('https://code.s3.yandex.net/datasets/Churn.csv')"
      ]
    },
    {
      "cell_type": "code",
      "execution_count": 5,
      "metadata": {
        "colab": {
          "base_uri": "https://localhost:8080/"
        },
        "id": "bvO9TZppEIw_",
        "outputId": "7d15cb0c-8a6e-45d8-9004-55c4082be4d7"
      },
      "outputs": [
        {
          "output_type": "execute_result",
          "data": {
            "text/plain": [
              "(10000, 14)"
            ]
          },
          "metadata": {},
          "execution_count": 5
        }
      ],
      "source": [
        "df_raw.shape"
      ]
    },
    {
      "cell_type": "code",
      "execution_count": 6,
      "metadata": {
        "colab": {
          "base_uri": "https://localhost:8080/"
        },
        "id": "uioLZQruEL1U",
        "outputId": "a9c6f4b5-d0f2-4f50-afdc-cf0a39a49ccd"
      },
      "outputs": [
        {
          "output_type": "stream",
          "name": "stdout",
          "text": [
            "<class 'pandas.core.frame.DataFrame'>\n",
            "RangeIndex: 10000 entries, 0 to 9999\n",
            "Data columns (total 14 columns):\n",
            " #   Column           Non-Null Count  Dtype  \n",
            "---  ------           --------------  -----  \n",
            " 0   RowNumber        10000 non-null  int64  \n",
            " 1   CustomerId       10000 non-null  int64  \n",
            " 2   Surname          10000 non-null  object \n",
            " 3   CreditScore      10000 non-null  int64  \n",
            " 4   Geography        10000 non-null  object \n",
            " 5   Gender           10000 non-null  object \n",
            " 6   Age              10000 non-null  int64  \n",
            " 7   Tenure           9091 non-null   float64\n",
            " 8   Balance          10000 non-null  float64\n",
            " 9   NumOfProducts    10000 non-null  int64  \n",
            " 10  HasCrCard        10000 non-null  int64  \n",
            " 11  IsActiveMember   10000 non-null  int64  \n",
            " 12  EstimatedSalary  10000 non-null  float64\n",
            " 13  Exited           10000 non-null  int64  \n",
            "dtypes: float64(3), int64(8), object(3)\n",
            "memory usage: 1.1+ MB\n"
          ]
        }
      ],
      "source": [
        "df_raw.info()"
      ]
    },
    {
      "cell_type": "markdown",
      "metadata": {
        "id": "CoUTqxJpPSO3"
      },
      "source": [
        "<font size=5> **Описание данных**</font>\n",
        "\n",
        "Признаки\n",
        "- RowNumber — индекс строки в данных\n",
        "- CustomerId — уникальный идентификатор клиента\n",
        "- Surname — фамилия\n",
        "- CreditScore — кредитный рейтинг\n",
        "- Geography — страна проживания\n",
        "- Gender — пол\n",
        "- Age — возраст\n",
        "- Tenure — сколько лет человек является клиентом банка\n",
        "- Balance — баланс на счёте\n",
        "- NumOfProducts — количество продуктов банка, используемых клиентом\n",
        "- HasCrCard — наличие кредитной карты\n",
        "- IsActiveMember — активность клиента\n",
        "- EstimatedSalary — предполагаемая зарплата\n",
        "\n",
        "Целевой признак\n",
        "- Exited — факт ухода клиента"
      ]
    },
    {
      "cell_type": "markdown",
      "metadata": {
        "id": "3R9G03_6Tyu8"
      },
      "source": [
        "### Обработка признаков"
      ]
    },
    {
      "cell_type": "code",
      "execution_count": 7,
      "metadata": {
        "colab": {
          "base_uri": "https://localhost:8080/",
          "height": 248
        },
        "id": "Y1bZbPRSEMzY",
        "outputId": "b62dc81d-7efa-491c-a5fa-b1f386910dc9"
      },
      "outputs": [
        {
          "output_type": "execute_result",
          "data": {
            "text/plain": [
              "   RowNumber  CustomerId   Surname  CreditScore Geography  Gender  Age  \\\n",
              "0          1    15634602  Hargrave          619    France  Female   42   \n",
              "1          2    15647311      Hill          608     Spain  Female   41   \n",
              "2          3    15619304      Onio          502    France  Female   42   \n",
              "3          4    15701354      Boni          699    France  Female   39   \n",
              "4          5    15737888  Mitchell          850     Spain  Female   43   \n",
              "\n",
              "   Tenure    Balance  NumOfProducts  HasCrCard  IsActiveMember  \\\n",
              "0     2.0       0.00              1          1               1   \n",
              "1     1.0   83807.86              1          0               1   \n",
              "2     8.0  159660.80              3          1               0   \n",
              "3     1.0       0.00              2          0               0   \n",
              "4     2.0  125510.82              1          1               1   \n",
              "\n",
              "   EstimatedSalary  Exited  \n",
              "0        101348.88       1  \n",
              "1        112542.58       0  \n",
              "2        113931.57       1  \n",
              "3         93826.63       0  \n",
              "4         79084.10       0  "
            ],
            "text/html": [
              "\n",
              "  <div id=\"df-76d64bab-97be-4563-81f7-f2c71651358e\">\n",
              "    <div class=\"colab-df-container\">\n",
              "      <div>\n",
              "<style scoped>\n",
              "    .dataframe tbody tr th:only-of-type {\n",
              "        vertical-align: middle;\n",
              "    }\n",
              "\n",
              "    .dataframe tbody tr th {\n",
              "        vertical-align: top;\n",
              "    }\n",
              "\n",
              "    .dataframe thead th {\n",
              "        text-align: right;\n",
              "    }\n",
              "</style>\n",
              "<table border=\"1\" class=\"dataframe\">\n",
              "  <thead>\n",
              "    <tr style=\"text-align: right;\">\n",
              "      <th></th>\n",
              "      <th>RowNumber</th>\n",
              "      <th>CustomerId</th>\n",
              "      <th>Surname</th>\n",
              "      <th>CreditScore</th>\n",
              "      <th>Geography</th>\n",
              "      <th>Gender</th>\n",
              "      <th>Age</th>\n",
              "      <th>Tenure</th>\n",
              "      <th>Balance</th>\n",
              "      <th>NumOfProducts</th>\n",
              "      <th>HasCrCard</th>\n",
              "      <th>IsActiveMember</th>\n",
              "      <th>EstimatedSalary</th>\n",
              "      <th>Exited</th>\n",
              "    </tr>\n",
              "  </thead>\n",
              "  <tbody>\n",
              "    <tr>\n",
              "      <th>0</th>\n",
              "      <td>1</td>\n",
              "      <td>15634602</td>\n",
              "      <td>Hargrave</td>\n",
              "      <td>619</td>\n",
              "      <td>France</td>\n",
              "      <td>Female</td>\n",
              "      <td>42</td>\n",
              "      <td>2.0</td>\n",
              "      <td>0.00</td>\n",
              "      <td>1</td>\n",
              "      <td>1</td>\n",
              "      <td>1</td>\n",
              "      <td>101348.88</td>\n",
              "      <td>1</td>\n",
              "    </tr>\n",
              "    <tr>\n",
              "      <th>1</th>\n",
              "      <td>2</td>\n",
              "      <td>15647311</td>\n",
              "      <td>Hill</td>\n",
              "      <td>608</td>\n",
              "      <td>Spain</td>\n",
              "      <td>Female</td>\n",
              "      <td>41</td>\n",
              "      <td>1.0</td>\n",
              "      <td>83807.86</td>\n",
              "      <td>1</td>\n",
              "      <td>0</td>\n",
              "      <td>1</td>\n",
              "      <td>112542.58</td>\n",
              "      <td>0</td>\n",
              "    </tr>\n",
              "    <tr>\n",
              "      <th>2</th>\n",
              "      <td>3</td>\n",
              "      <td>15619304</td>\n",
              "      <td>Onio</td>\n",
              "      <td>502</td>\n",
              "      <td>France</td>\n",
              "      <td>Female</td>\n",
              "      <td>42</td>\n",
              "      <td>8.0</td>\n",
              "      <td>159660.80</td>\n",
              "      <td>3</td>\n",
              "      <td>1</td>\n",
              "      <td>0</td>\n",
              "      <td>113931.57</td>\n",
              "      <td>1</td>\n",
              "    </tr>\n",
              "    <tr>\n",
              "      <th>3</th>\n",
              "      <td>4</td>\n",
              "      <td>15701354</td>\n",
              "      <td>Boni</td>\n",
              "      <td>699</td>\n",
              "      <td>France</td>\n",
              "      <td>Female</td>\n",
              "      <td>39</td>\n",
              "      <td>1.0</td>\n",
              "      <td>0.00</td>\n",
              "      <td>2</td>\n",
              "      <td>0</td>\n",
              "      <td>0</td>\n",
              "      <td>93826.63</td>\n",
              "      <td>0</td>\n",
              "    </tr>\n",
              "    <tr>\n",
              "      <th>4</th>\n",
              "      <td>5</td>\n",
              "      <td>15737888</td>\n",
              "      <td>Mitchell</td>\n",
              "      <td>850</td>\n",
              "      <td>Spain</td>\n",
              "      <td>Female</td>\n",
              "      <td>43</td>\n",
              "      <td>2.0</td>\n",
              "      <td>125510.82</td>\n",
              "      <td>1</td>\n",
              "      <td>1</td>\n",
              "      <td>1</td>\n",
              "      <td>79084.10</td>\n",
              "      <td>0</td>\n",
              "    </tr>\n",
              "  </tbody>\n",
              "</table>\n",
              "</div>\n",
              "      <button class=\"colab-df-convert\" onclick=\"convertToInteractive('df-76d64bab-97be-4563-81f7-f2c71651358e')\"\n",
              "              title=\"Convert this dataframe to an interactive table.\"\n",
              "              style=\"display:none;\">\n",
              "        \n",
              "  <svg xmlns=\"http://www.w3.org/2000/svg\" height=\"24px\"viewBox=\"0 0 24 24\"\n",
              "       width=\"24px\">\n",
              "    <path d=\"M0 0h24v24H0V0z\" fill=\"none\"/>\n",
              "    <path d=\"M18.56 5.44l.94 2.06.94-2.06 2.06-.94-2.06-.94-.94-2.06-.94 2.06-2.06.94zm-11 1L8.5 8.5l.94-2.06 2.06-.94-2.06-.94L8.5 2.5l-.94 2.06-2.06.94zm10 10l.94 2.06.94-2.06 2.06-.94-2.06-.94-.94-2.06-.94 2.06-2.06.94z\"/><path d=\"M17.41 7.96l-1.37-1.37c-.4-.4-.92-.59-1.43-.59-.52 0-1.04.2-1.43.59L10.3 9.45l-7.72 7.72c-.78.78-.78 2.05 0 2.83L4 21.41c.39.39.9.59 1.41.59.51 0 1.02-.2 1.41-.59l7.78-7.78 2.81-2.81c.8-.78.8-2.07 0-2.86zM5.41 20L4 18.59l7.72-7.72 1.47 1.35L5.41 20z\"/>\n",
              "  </svg>\n",
              "      </button>\n",
              "      \n",
              "  <style>\n",
              "    .colab-df-container {\n",
              "      display:flex;\n",
              "      flex-wrap:wrap;\n",
              "      gap: 12px;\n",
              "    }\n",
              "\n",
              "    .colab-df-convert {\n",
              "      background-color: #E8F0FE;\n",
              "      border: none;\n",
              "      border-radius: 50%;\n",
              "      cursor: pointer;\n",
              "      display: none;\n",
              "      fill: #1967D2;\n",
              "      height: 32px;\n",
              "      padding: 0 0 0 0;\n",
              "      width: 32px;\n",
              "    }\n",
              "\n",
              "    .colab-df-convert:hover {\n",
              "      background-color: #E2EBFA;\n",
              "      box-shadow: 0px 1px 2px rgba(60, 64, 67, 0.3), 0px 1px 3px 1px rgba(60, 64, 67, 0.15);\n",
              "      fill: #174EA6;\n",
              "    }\n",
              "\n",
              "    [theme=dark] .colab-df-convert {\n",
              "      background-color: #3B4455;\n",
              "      fill: #D2E3FC;\n",
              "    }\n",
              "\n",
              "    [theme=dark] .colab-df-convert:hover {\n",
              "      background-color: #434B5C;\n",
              "      box-shadow: 0px 1px 3px 1px rgba(0, 0, 0, 0.15);\n",
              "      filter: drop-shadow(0px 1px 2px rgba(0, 0, 0, 0.3));\n",
              "      fill: #FFFFFF;\n",
              "    }\n",
              "  </style>\n",
              "\n",
              "      <script>\n",
              "        const buttonEl =\n",
              "          document.querySelector('#df-76d64bab-97be-4563-81f7-f2c71651358e button.colab-df-convert');\n",
              "        buttonEl.style.display =\n",
              "          google.colab.kernel.accessAllowed ? 'block' : 'none';\n",
              "\n",
              "        async function convertToInteractive(key) {\n",
              "          const element = document.querySelector('#df-76d64bab-97be-4563-81f7-f2c71651358e');\n",
              "          const dataTable =\n",
              "            await google.colab.kernel.invokeFunction('convertToInteractive',\n",
              "                                                     [key], {});\n",
              "          if (!dataTable) return;\n",
              "\n",
              "          const docLinkHtml = 'Like what you see? Visit the ' +\n",
              "            '<a target=\"_blank\" href=https://colab.research.google.com/notebooks/data_table.ipynb>data table notebook</a>'\n",
              "            + ' to learn more about interactive tables.';\n",
              "          element.innerHTML = '';\n",
              "          dataTable['output_type'] = 'display_data';\n",
              "          await google.colab.output.renderOutput(dataTable, element);\n",
              "          const docLink = document.createElement('div');\n",
              "          docLink.innerHTML = docLinkHtml;\n",
              "          element.appendChild(docLink);\n",
              "        }\n",
              "      </script>\n",
              "    </div>\n",
              "  </div>\n",
              "  "
            ]
          },
          "metadata": {},
          "execution_count": 7
        }
      ],
      "source": [
        "df_raw.head()"
      ]
    },
    {
      "cell_type": "markdown",
      "metadata": {
        "id": "LLVpTcJfTyu-"
      },
      "source": [
        "Наша задача - посмтроить модель предсказания, поэтому данные в RowNumber, CustomerId, Surname для нашей задачи не нужны. Использовать их как признаки нельзя, просто удалим их. \n",
        "Приведем названия колонок к должному виду:"
      ]
    },
    {
      "cell_type": "code",
      "execution_count": 8,
      "metadata": {
        "id": "7ko1ncYpE1qK"
      },
      "outputs": [],
      "source": [
        "df_raw.columns = df_raw.columns.str.lower()\n",
        "df = df_raw.drop(['rownumber', 'customerid', 'surname'], axis=1)\n",
        "df = df.rename({'creditscore': 'credit_score',\n",
        "                'numofproducts': 'num_of_products',\n",
        "                'hascrcard': 'has_cr_card',\n",
        "                'isactivemember': 'is_active',\n",
        "                'estimatedsalary': 'estimated_salary'}, axis=1)"
      ]
    },
    {
      "cell_type": "code",
      "execution_count": 9,
      "metadata": {
        "colab": {
          "base_uri": "https://localhost:8080/",
          "height": 204
        },
        "id": "pTfQukPUIoQl",
        "outputId": "a9c0ab8f-15ca-4135-ba5c-be0aa8697773"
      },
      "outputs": [
        {
          "output_type": "execute_result",
          "data": {
            "text/plain": [
              "   credit_score geography  gender  age  tenure    balance  num_of_products  \\\n",
              "0           619    France  Female   42     2.0       0.00                1   \n",
              "1           608     Spain  Female   41     1.0   83807.86                1   \n",
              "2           502    France  Female   42     8.0  159660.80                3   \n",
              "3           699    France  Female   39     1.0       0.00                2   \n",
              "4           850     Spain  Female   43     2.0  125510.82                1   \n",
              "\n",
              "   has_cr_card  is_active  estimated_salary  exited  \n",
              "0            1          1         101348.88       1  \n",
              "1            0          1         112542.58       0  \n",
              "2            1          0         113931.57       1  \n",
              "3            0          0          93826.63       0  \n",
              "4            1          1          79084.10       0  "
            ],
            "text/html": [
              "\n",
              "  <div id=\"df-60b3aa16-c655-4e12-b638-a48c8e968815\">\n",
              "    <div class=\"colab-df-container\">\n",
              "      <div>\n",
              "<style scoped>\n",
              "    .dataframe tbody tr th:only-of-type {\n",
              "        vertical-align: middle;\n",
              "    }\n",
              "\n",
              "    .dataframe tbody tr th {\n",
              "        vertical-align: top;\n",
              "    }\n",
              "\n",
              "    .dataframe thead th {\n",
              "        text-align: right;\n",
              "    }\n",
              "</style>\n",
              "<table border=\"1\" class=\"dataframe\">\n",
              "  <thead>\n",
              "    <tr style=\"text-align: right;\">\n",
              "      <th></th>\n",
              "      <th>credit_score</th>\n",
              "      <th>geography</th>\n",
              "      <th>gender</th>\n",
              "      <th>age</th>\n",
              "      <th>tenure</th>\n",
              "      <th>balance</th>\n",
              "      <th>num_of_products</th>\n",
              "      <th>has_cr_card</th>\n",
              "      <th>is_active</th>\n",
              "      <th>estimated_salary</th>\n",
              "      <th>exited</th>\n",
              "    </tr>\n",
              "  </thead>\n",
              "  <tbody>\n",
              "    <tr>\n",
              "      <th>0</th>\n",
              "      <td>619</td>\n",
              "      <td>France</td>\n",
              "      <td>Female</td>\n",
              "      <td>42</td>\n",
              "      <td>2.0</td>\n",
              "      <td>0.00</td>\n",
              "      <td>1</td>\n",
              "      <td>1</td>\n",
              "      <td>1</td>\n",
              "      <td>101348.88</td>\n",
              "      <td>1</td>\n",
              "    </tr>\n",
              "    <tr>\n",
              "      <th>1</th>\n",
              "      <td>608</td>\n",
              "      <td>Spain</td>\n",
              "      <td>Female</td>\n",
              "      <td>41</td>\n",
              "      <td>1.0</td>\n",
              "      <td>83807.86</td>\n",
              "      <td>1</td>\n",
              "      <td>0</td>\n",
              "      <td>1</td>\n",
              "      <td>112542.58</td>\n",
              "      <td>0</td>\n",
              "    </tr>\n",
              "    <tr>\n",
              "      <th>2</th>\n",
              "      <td>502</td>\n",
              "      <td>France</td>\n",
              "      <td>Female</td>\n",
              "      <td>42</td>\n",
              "      <td>8.0</td>\n",
              "      <td>159660.80</td>\n",
              "      <td>3</td>\n",
              "      <td>1</td>\n",
              "      <td>0</td>\n",
              "      <td>113931.57</td>\n",
              "      <td>1</td>\n",
              "    </tr>\n",
              "    <tr>\n",
              "      <th>3</th>\n",
              "      <td>699</td>\n",
              "      <td>France</td>\n",
              "      <td>Female</td>\n",
              "      <td>39</td>\n",
              "      <td>1.0</td>\n",
              "      <td>0.00</td>\n",
              "      <td>2</td>\n",
              "      <td>0</td>\n",
              "      <td>0</td>\n",
              "      <td>93826.63</td>\n",
              "      <td>0</td>\n",
              "    </tr>\n",
              "    <tr>\n",
              "      <th>4</th>\n",
              "      <td>850</td>\n",
              "      <td>Spain</td>\n",
              "      <td>Female</td>\n",
              "      <td>43</td>\n",
              "      <td>2.0</td>\n",
              "      <td>125510.82</td>\n",
              "      <td>1</td>\n",
              "      <td>1</td>\n",
              "      <td>1</td>\n",
              "      <td>79084.10</td>\n",
              "      <td>0</td>\n",
              "    </tr>\n",
              "  </tbody>\n",
              "</table>\n",
              "</div>\n",
              "      <button class=\"colab-df-convert\" onclick=\"convertToInteractive('df-60b3aa16-c655-4e12-b638-a48c8e968815')\"\n",
              "              title=\"Convert this dataframe to an interactive table.\"\n",
              "              style=\"display:none;\">\n",
              "        \n",
              "  <svg xmlns=\"http://www.w3.org/2000/svg\" height=\"24px\"viewBox=\"0 0 24 24\"\n",
              "       width=\"24px\">\n",
              "    <path d=\"M0 0h24v24H0V0z\" fill=\"none\"/>\n",
              "    <path d=\"M18.56 5.44l.94 2.06.94-2.06 2.06-.94-2.06-.94-.94-2.06-.94 2.06-2.06.94zm-11 1L8.5 8.5l.94-2.06 2.06-.94-2.06-.94L8.5 2.5l-.94 2.06-2.06.94zm10 10l.94 2.06.94-2.06 2.06-.94-2.06-.94-.94-2.06-.94 2.06-2.06.94z\"/><path d=\"M17.41 7.96l-1.37-1.37c-.4-.4-.92-.59-1.43-.59-.52 0-1.04.2-1.43.59L10.3 9.45l-7.72 7.72c-.78.78-.78 2.05 0 2.83L4 21.41c.39.39.9.59 1.41.59.51 0 1.02-.2 1.41-.59l7.78-7.78 2.81-2.81c.8-.78.8-2.07 0-2.86zM5.41 20L4 18.59l7.72-7.72 1.47 1.35L5.41 20z\"/>\n",
              "  </svg>\n",
              "      </button>\n",
              "      \n",
              "  <style>\n",
              "    .colab-df-container {\n",
              "      display:flex;\n",
              "      flex-wrap:wrap;\n",
              "      gap: 12px;\n",
              "    }\n",
              "\n",
              "    .colab-df-convert {\n",
              "      background-color: #E8F0FE;\n",
              "      border: none;\n",
              "      border-radius: 50%;\n",
              "      cursor: pointer;\n",
              "      display: none;\n",
              "      fill: #1967D2;\n",
              "      height: 32px;\n",
              "      padding: 0 0 0 0;\n",
              "      width: 32px;\n",
              "    }\n",
              "\n",
              "    .colab-df-convert:hover {\n",
              "      background-color: #E2EBFA;\n",
              "      box-shadow: 0px 1px 2px rgba(60, 64, 67, 0.3), 0px 1px 3px 1px rgba(60, 64, 67, 0.15);\n",
              "      fill: #174EA6;\n",
              "    }\n",
              "\n",
              "    [theme=dark] .colab-df-convert {\n",
              "      background-color: #3B4455;\n",
              "      fill: #D2E3FC;\n",
              "    }\n",
              "\n",
              "    [theme=dark] .colab-df-convert:hover {\n",
              "      background-color: #434B5C;\n",
              "      box-shadow: 0px 1px 3px 1px rgba(0, 0, 0, 0.15);\n",
              "      filter: drop-shadow(0px 1px 2px rgba(0, 0, 0, 0.3));\n",
              "      fill: #FFFFFF;\n",
              "    }\n",
              "  </style>\n",
              "\n",
              "      <script>\n",
              "        const buttonEl =\n",
              "          document.querySelector('#df-60b3aa16-c655-4e12-b638-a48c8e968815 button.colab-df-convert');\n",
              "        buttonEl.style.display =\n",
              "          google.colab.kernel.accessAllowed ? 'block' : 'none';\n",
              "\n",
              "        async function convertToInteractive(key) {\n",
              "          const element = document.querySelector('#df-60b3aa16-c655-4e12-b638-a48c8e968815');\n",
              "          const dataTable =\n",
              "            await google.colab.kernel.invokeFunction('convertToInteractive',\n",
              "                                                     [key], {});\n",
              "          if (!dataTable) return;\n",
              "\n",
              "          const docLinkHtml = 'Like what you see? Visit the ' +\n",
              "            '<a target=\"_blank\" href=https://colab.research.google.com/notebooks/data_table.ipynb>data table notebook</a>'\n",
              "            + ' to learn more about interactive tables.';\n",
              "          element.innerHTML = '';\n",
              "          dataTable['output_type'] = 'display_data';\n",
              "          await google.colab.output.renderOutput(dataTable, element);\n",
              "          const docLink = document.createElement('div');\n",
              "          docLink.innerHTML = docLinkHtml;\n",
              "          element.appendChild(docLink);\n",
              "        }\n",
              "      </script>\n",
              "    </div>\n",
              "  </div>\n",
              "  "
            ]
          },
          "metadata": {},
          "execution_count": 9
        }
      ],
      "source": [
        "df.head()"
      ]
    },
    {
      "cell_type": "markdown",
      "metadata": {
        "id": "qpPX7eJCTyvB"
      },
      "source": [
        "### Распределение признаков"
      ]
    },
    {
      "cell_type": "markdown",
      "metadata": {
        "id": "WOgJqd1cTyvC"
      },
      "source": [
        "Посмотрим на распределение численных признаков"
      ]
    },
    {
      "cell_type": "code",
      "execution_count": 10,
      "metadata": {
        "colab": {
          "base_uri": "https://localhost:8080/",
          "height": 610
        },
        "id": "7CAeJKgrNzxS",
        "outputId": "58b9b475-6cfd-47c7-ca38-4b32b0fbf78e"
      },
      "outputs": [
        {
          "output_type": "display_data",
          "data": {
            "text/plain": [
              "<Figure size 1080x720 with 6 Axes>"
            ],
            "image/png": "[encoded data removed]"
          },
          "metadata": {}
        }
      ],
      "source": [
        "df[['credit_score','balance','num_of_products','age','estimated_salary','has_cr_card']]\\\n",
        "            .hist(figsize=(15,10), bins=30);"
      ]
    },
    {
      "cell_type": "markdown",
      "metadata": {
        "id": "-ylfr6ZeTyvD"
      },
      "source": [
        "Из гистограмм видно:\n",
        " - Кредитный рейтинг и возраст распределены нормально\n",
        " - Баланс на счете имеет очень много нулевых значений, остальные распределены нормально\n",
        " - Предполагаемая зарплата распределена равномерно\n",
        " - Число продуктов и наличие кредитной карты - категориальные признаки"
      ]
    },
    {
      "cell_type": "markdown",
      "metadata": {
        "id": "U_IDzqehTyvE"
      },
      "source": [
        "Посмотрим какие значения принимают строковые признаки:"
      ]
    },
    {
      "cell_type": "code",
      "execution_count": 11,
      "metadata": {
        "colab": {
          "base_uri": "https://localhost:8080/"
        },
        "id": "JcerjDtZJDj1",
        "outputId": "802c32be-fa91-48f2-996d-3b56cc2e3ad3"
      },
      "outputs": [
        {
          "output_type": "execute_result",
          "data": {
            "text/plain": [
              "array(['Female', 'Male'], dtype=object)"
            ]
          },
          "metadata": {},
          "execution_count": 11
        }
      ],
      "source": [
        "df.gender.unique()"
      ]
    },
    {
      "cell_type": "code",
      "execution_count": 12,
      "metadata": {
        "colab": {
          "base_uri": "https://localhost:8080/"
        },
        "id": "vDjNS-FrTyvF",
        "outputId": "813462cb-0e3b-423a-81f2-77f6fea635bb"
      },
      "outputs": [
        {
          "output_type": "execute_result",
          "data": {
            "text/plain": [
              "Male      0.5457\n",
              "Female    0.4543\n",
              "Name: gender, dtype: float64"
            ]
          },
          "metadata": {},
          "execution_count": 12
        }
      ],
      "source": [
        "df.gender.value_counts(normalize=True)"
      ]
    },
    {
      "cell_type": "markdown",
      "metadata": {
        "id": "wXi4gF5STyvG"
      },
      "source": [
        "Мужчины и женщины представлены почти в равных долях."
      ]
    },
    {
      "cell_type": "code",
      "execution_count": 13,
      "metadata": {
        "colab": {
          "base_uri": "https://localhost:8080/"
        },
        "id": "gSiTK1O-JGD8",
        "outputId": "b0dfa4f7-4ed3-4942-f76b-723beae01902"
      },
      "outputs": [
        {
          "output_type": "execute_result",
          "data": {
            "text/plain": [
              "array(['France', 'Spain', 'Germany'], dtype=object)"
            ]
          },
          "metadata": {},
          "execution_count": 13
        }
      ],
      "source": [
        "df.geography.unique()"
      ]
    },
    {
      "cell_type": "code",
      "execution_count": 14,
      "metadata": {
        "colab": {
          "base_uri": "https://localhost:8080/"
        },
        "id": "DfquJZFwTyvH",
        "outputId": "b60a6268-f49e-435a-e0b8-c66754cd2a01"
      },
      "outputs": [
        {
          "output_type": "execute_result",
          "data": {
            "text/plain": [
              "France     0.5014\n",
              "Germany    0.2509\n",
              "Spain      0.2477\n",
              "Name: geography, dtype: float64"
            ]
          },
          "metadata": {},
          "execution_count": 14
        }
      ],
      "source": [
        "df.geography.value_counts(normalize=True)"
      ]
    },
    {
      "cell_type": "markdown",
      "metadata": {
        "id": "ik6nWrtFTyvI"
      },
      "source": [
        "Больше всего клиентов из Франции, Германия и Испания представлены почти поровну. "
      ]
    },
    {
      "cell_type": "markdown",
      "metadata": {
        "id": "1EU9lozpTyvI"
      },
      "source": [
        "### Обработка пропусков"
      ]
    },
    {
      "cell_type": "code",
      "execution_count": 15,
      "metadata": {
        "colab": {
          "base_uri": "https://localhost:8080/"
        },
        "id": "3aa0kY0sEPK1",
        "outputId": "1a018104-50cb-4b59-c5e6-fcbe783507b7"
      },
      "outputs": [
        {
          "output_type": "execute_result",
          "data": {
            "text/plain": [
              "credit_score        0.0000\n",
              "geography           0.0000\n",
              "gender              0.0000\n",
              "age                 0.0000\n",
              "tenure              0.0909\n",
              "balance             0.0000\n",
              "num_of_products     0.0000\n",
              "has_cr_card         0.0000\n",
              "is_active           0.0000\n",
              "estimated_salary    0.0000\n",
              "exited              0.0000\n",
              "dtype: float64"
            ]
          },
          "metadata": {},
          "execution_count": 15
        }
      ],
      "source": [
        "df.isna().mean()"
      ]
    },
    {
      "cell_type": "markdown",
      "metadata": {
        "id": "FrXIZgg8TyvJ"
      },
      "source": [
        "Около 9% пропусков в признаке tenure. Многовато для того чтобы просто удалить эти строки. Посмотрим на его распределение"
      ]
    },
    {
      "cell_type": "code",
      "execution_count": 16,
      "metadata": {
        "colab": {
          "base_uri": "https://localhost:8080/",
          "height": 393
        },
        "id": "2V22ChQrEQ8t",
        "outputId": "0a1d157c-5de3-4be7-c3e3-78721d5c9160"
      },
      "outputs": [
        {
          "output_type": "display_data",
          "data": {
            "text/plain": [
              "<Figure size 720x432 with 1 Axes>"
            ],
            "image/png": "[encoded data removed]"
          },
          "metadata": {}
        }
      ],
      "source": [
        "df.tenure.hist(bins=10, figsize=(10,6), label ='ef')\n",
        "plt.title('Распределение признака tenure до заполнения пропусков');"
      ]
    },
    {
      "cell_type": "markdown",
      "metadata": {
        "id": "z_l3yeeBTyvL"
      },
      "source": [
        "Мы видим что этот признак распределелен почти равномерно.\n",
        "\n",
        "Заменим пропуски в нем методом KNN:"
      ]
    },
    {
      "cell_type": "code",
      "execution_count": 17,
      "metadata": {
        "colab": {
          "base_uri": "https://localhost:8080/",
          "height": 204
        },
        "id": "SfZIBMIjGbw-",
        "outputId": "c0c0cf7a-4c7b-4068-b5d0-84e7203724db"
      },
      "outputs": [
        {
          "output_type": "execute_result",
          "data": {
            "text/plain": [
              "    credit_score geography  gender  age  tenure    balance  num_of_products  \\\n",
              "30           591     Spain  Female   39     NaN       0.00                3   \n",
              "48           550   Germany    Male   38     NaN  103391.38                1   \n",
              "51           585   Germany    Male   36     NaN  146050.97                2   \n",
              "53           655   Germany    Male   41     NaN  125561.97                1   \n",
              "60           742   Germany    Male   35     NaN  136857.00                1   \n",
              "\n",
              "    has_cr_card  is_active  estimated_salary  exited  \n",
              "30            1          0         140469.38       1  \n",
              "48            0          1          90878.13       0  \n",
              "51            0          0          86424.57       0  \n",
              "53            0          0         164040.94       1  \n",
              "60            0          0          84509.57       0  "
            ],
            "text/html": [
              "\n",
              "  <div id=\"df-fbfb51a2-c842-45b8-8537-b6faff494ba0\">\n",
              "    <div class=\"colab-df-container\">\n",
              "      <div>\n",
              "<style scoped>\n",
              "    .dataframe tbody tr th:only-of-type {\n",
              "        vertical-align: middle;\n",
              "    }\n",
              "\n",
              "    .dataframe tbody tr th {\n",
              "        vertical-align: top;\n",
              "    }\n",
              "\n",
              "    .dataframe thead th {\n",
              "        text-align: right;\n",
              "    }\n",
              "</style>\n",
              "<table border=\"1\" class=\"dataframe\">\n",
              "  <thead>\n",
              "    <tr style=\"text-align: right;\">\n",
              "      <th></th>\n",
              "      <th>credit_score</th>\n",
              "      <th>geography</th>\n",
              "      <th>gender</th>\n",
              "      <th>age</th>\n",
              "      <th>tenure</th>\n",
              "      <th>balance</th>\n",
              "      <th>num_of_products</th>\n",
              "      <th>has_cr_card</th>\n",
              "      <th>is_active</th>\n",
              "      <th>estimated_salary</th>\n",
              "      <th>exited</th>\n",
              "    </tr>\n",
              "  </thead>\n",
              "  <tbody>\n",
              "    <tr>\n",
              "      <th>30</th>\n",
              "      <td>591</td>\n",
              "      <td>Spain</td>\n",
              "      <td>Female</td>\n",
              "      <td>39</td>\n",
              "      <td>NaN</td>\n",
              "      <td>0.00</td>\n",
              "      <td>3</td>\n",
              "      <td>1</td>\n",
              "      <td>0</td>\n",
              "      <td>140469.38</td>\n",
              "      <td>1</td>\n",
              "    </tr>\n",
              "    <tr>\n",
              "      <th>48</th>\n",
              "      <td>550</td>\n",
              "      <td>Germany</td>\n",
              "      <td>Male</td>\n",
              "      <td>38</td>\n",
              "      <td>NaN</td>\n",
              "      <td>103391.38</td>\n",
              "      <td>1</td>\n",
              "      <td>0</td>\n",
              "      <td>1</td>\n",
              "      <td>90878.13</td>\n",
              "      <td>0</td>\n",
              "    </tr>\n",
              "    <tr>\n",
              "      <th>51</th>\n",
              "      <td>585</td>\n",
              "      <td>Germany</td>\n",
              "      <td>Male</td>\n",
              "      <td>36</td>\n",
              "      <td>NaN</td>\n",
              "      <td>146050.97</td>\n",
              "      <td>2</td>\n",
              "      <td>0</td>\n",
              "      <td>0</td>\n",
              "      <td>86424.57</td>\n",
              "      <td>0</td>\n",
              "    </tr>\n",
              "    <tr>\n",
              "      <th>53</th>\n",
              "      <td>655</td>\n",
              "      <td>Germany</td>\n",
              "      <td>Male</td>\n",
              "      <td>41</td>\n",
              "      <td>NaN</td>\n",
              "      <td>125561.97</td>\n",
              "      <td>1</td>\n",
              "      <td>0</td>\n",
              "      <td>0</td>\n",
              "      <td>164040.94</td>\n",
              "      <td>1</td>\n",
              "    </tr>\n",
              "    <tr>\n",
              "      <th>60</th>\n",
              "      <td>742</td>\n",
              "      <td>Germany</td>\n",
              "      <td>Male</td>\n",
              "      <td>35</td>\n",
              "      <td>NaN</td>\n",
              "      <td>136857.00</td>\n",
              "      <td>1</td>\n",
              "      <td>0</td>\n",
              "      <td>0</td>\n",
              "      <td>84509.57</td>\n",
              "      <td>0</td>\n",
              "    </tr>\n",
              "  </tbody>\n",
              "</table>\n",
              "</div>\n",
              "      <button class=\"colab-df-convert\" onclick=\"convertToInteractive('df-fbfb51a2-c842-45b8-8537-b6faff494ba0')\"\n",
              "              title=\"Convert this dataframe to an interactive table.\"\n",
              "              style=\"display:none;\">\n",
              "        \n",
              "  <svg xmlns=\"http://www.w3.org/2000/svg\" height=\"24px\"viewBox=\"0 0 24 24\"\n",
              "       width=\"24px\">\n",
              "    <path d=\"M0 0h24v24H0V0z\" fill=\"none\"/>\n",
              "    <path d=\"M18.56 5.44l.94 2.06.94-2.06 2.06-.94-2.06-.94-.94-2.06-.94 2.06-2.06.94zm-11 1L8.5 8.5l.94-2.06 2.06-.94-2.06-.94L8.5 2.5l-.94 2.06-2.06.94zm10 10l.94 2.06.94-2.06 2.06-.94-2.06-.94-.94-2.06-.94 2.06-2.06.94z\"/><path d=\"M17.41 7.96l-1.37-1.37c-.4-.4-.92-.59-1.43-.59-.52 0-1.04.2-1.43.59L10.3 9.45l-7.72 7.72c-.78.78-.78 2.05 0 2.83L4 21.41c.39.39.9.59 1.41.59.51 0 1.02-.2 1.41-.59l7.78-7.78 2.81-2.81c.8-.78.8-2.07 0-2.86zM5.41 20L4 18.59l7.72-7.72 1.47 1.35L5.41 20z\"/>\n",
              "  </svg>\n",
              "      </button>\n",
              "      \n",
              "  <style>\n",
              "    .colab-df-container {\n",
              "      display:flex;\n",
              "      flex-wrap:wrap;\n",
              "      gap: 12px;\n",
              "    }\n",
              "\n",
              "    .colab-df-convert {\n",
              "      background-color: #E8F0FE;\n",
              "      border: none;\n",
              "      border-radius: 50%;\n",
              "      cursor: pointer;\n",
              "      display: none;\n",
              "      fill: #1967D2;\n",
              "      height: 32px;\n",
              "      padding: 0 0 0 0;\n",
              "      width: 32px;\n",
              "    }\n",
              "\n",
              "    .colab-df-convert:hover {\n",
              "      background-color: #E2EBFA;\n",
              "      box-shadow: 0px 1px 2px rgba(60, 64, 67, 0.3), 0px 1px 3px 1px rgba(60, 64, 67, 0.15);\n",
              "      fill: #174EA6;\n",
              "    }\n",
              "\n",
              "    [theme=dark] .colab-df-convert {\n",
              "      background-color: #3B4455;\n",
              "      fill: #D2E3FC;\n",
              "    }\n",
              "\n",
              "    [theme=dark] .colab-df-convert:hover {\n",
              "      background-color: #434B5C;\n",
              "      box-shadow: 0px 1px 3px 1px rgba(0, 0, 0, 0.15);\n",
              "      filter: drop-shadow(0px 1px 2px rgba(0, 0, 0, 0.3));\n",
              "      fill: #FFFFFF;\n",
              "    }\n",
              "  </style>\n",
              "\n",
              "      <script>\n",
              "        const buttonEl =\n",
              "          document.querySelector('#df-fbfb51a2-c842-45b8-8537-b6faff494ba0 button.colab-df-convert');\n",
              "        buttonEl.style.display =\n",
              "          google.colab.kernel.accessAllowed ? 'block' : 'none';\n",
              "\n",
              "        async function convertToInteractive(key) {\n",
              "          const element = document.querySelector('#df-fbfb51a2-c842-45b8-8537-b6faff494ba0');\n",
              "          const dataTable =\n",
              "            await google.colab.kernel.invokeFunction('convertToInteractive',\n",
              "                                                     [key], {});\n",
              "          if (!dataTable) return;\n",
              "\n",
              "          const docLinkHtml = 'Like what you see? Visit the ' +\n",
              "            '<a target=\"_blank\" href=https://colab.research.google.com/notebooks/data_table.ipynb>data table notebook</a>'\n",
              "            + ' to learn more about interactive tables.';\n",
              "          element.innerHTML = '';\n",
              "          dataTable['output_type'] = 'display_data';\n",
              "          await google.colab.output.renderOutput(dataTable, element);\n",
              "          const docLink = document.createElement('div');\n",
              "          docLink.innerHTML = docLinkHtml;\n",
              "          element.appendChild(docLink);\n",
              "        }\n",
              "      </script>\n",
              "    </div>\n",
              "  </div>\n",
              "  "
            ]
          },
          "metadata": {},
          "execution_count": 17
        }
      ],
      "source": [
        "df[df.tenure.isna()].head()"
      ]
    },
    {
      "cell_type": "code",
      "execution_count": 18,
      "metadata": {
        "id": "NcqaBkOsGNWq"
      },
      "outputs": [],
      "source": [
        "from sklearn.impute import KNNImputer\n",
        "knn_imputer = KNNImputer(n_neighbors=1, weights='uniform', metric='nan_euclidean')"
      ]
    },
    {
      "cell_type": "code",
      "execution_count": 19,
      "metadata": {
        "colab": {
          "base_uri": "https://localhost:8080/",
          "height": 248
        },
        "id": "uuR3PdIgJSDb",
        "outputId": "a1136fb6-2c61-4e2d-a4bd-6e682fb0759b"
      },
      "outputs": [
        {
          "output_type": "execute_result",
          "data": {
            "text/plain": [
              "   credit_score       age  tenure   balance  num_of_products  has_cr_card  \\\n",
              "0         0.538  0.324324     0.2  0.000000         0.000000          1.0   \n",
              "1         0.516  0.310811     0.1  0.334031         0.000000          0.0   \n",
              "2         0.304  0.324324     0.8  0.636357         0.666667          1.0   \n",
              "3         0.698  0.283784     0.1  0.000000         0.333333          0.0   \n",
              "4         1.000  0.337838     0.2  0.500246         0.000000          1.0   \n",
              "\n",
              "   is_active  estimated_salary  exited  geography_Germany  geography_Spain  \\\n",
              "0        1.0          0.506735     1.0                0.0              0.0   \n",
              "1        1.0          0.562709     0.0                0.0              1.0   \n",
              "2        0.0          0.569654     1.0                0.0              0.0   \n",
              "3        0.0          0.469120     0.0                0.0              0.0   \n",
              "4        1.0          0.395400     0.0                0.0              1.0   \n",
              "\n",
              "   gender_Male  \n",
              "0          0.0  \n",
              "1          0.0  \n",
              "2          0.0  \n",
              "3          0.0  \n",
              "4          0.0  "
            ],
            "text/html": [
              "\n",
              "  <div id=\"df-15ededbe-d9b9-4b6b-84c0-39575742b36e\">\n",
              "    <div class=\"colab-df-container\">\n",
              "      <div>\n",
              "<style scoped>\n",
              "    .dataframe tbody tr th:only-of-type {\n",
              "        vertical-align: middle;\n",
              "    }\n",
              "\n",
              "    .dataframe tbody tr th {\n",
              "        vertical-align: top;\n",
              "    }\n",
              "\n",
              "    .dataframe thead th {\n",
              "        text-align: right;\n",
              "    }\n",
              "</style>\n",
              "<table border=\"1\" class=\"dataframe\">\n",
              "  <thead>\n",
              "    <tr style=\"text-align: right;\">\n",
              "      <th></th>\n",
              "      <th>credit_score</th>\n",
              "      <th>age</th>\n",
              "      <th>tenure</th>\n",
              "      <th>balance</th>\n",
              "      <th>num_of_products</th>\n",
              "      <th>has_cr_card</th>\n",
              "      <th>is_active</th>\n",
              "      <th>estimated_salary</th>\n",
              "      <th>exited</th>\n",
              "      <th>geography_Germany</th>\n",
              "      <th>geography_Spain</th>\n",
              "      <th>gender_Male</th>\n",
              "    </tr>\n",
              "  </thead>\n",
              "  <tbody>\n",
              "    <tr>\n",
              "      <th>0</th>\n",
              "      <td>0.538</td>\n",
              "      <td>0.324324</td>\n",
              "      <td>0.2</td>\n",
              "      <td>0.000000</td>\n",
              "      <td>0.000000</td>\n",
              "      <td>1.0</td>\n",
              "      <td>1.0</td>\n",
              "      <td>0.506735</td>\n",
              "      <td>1.0</td>\n",
              "      <td>0.0</td>\n",
              "      <td>0.0</td>\n",
              "      <td>0.0</td>\n",
              "    </tr>\n",
              "    <tr>\n",
              "      <th>1</th>\n",
              "      <td>0.516</td>\n",
              "      <td>0.310811</td>\n",
              "      <td>0.1</td>\n",
              "      <td>0.334031</td>\n",
              "      <td>0.000000</td>\n",
              "      <td>0.0</td>\n",
              "      <td>1.0</td>\n",
              "      <td>0.562709</td>\n",
              "      <td>0.0</td>\n",
              "      <td>0.0</td>\n",
              "      <td>1.0</td>\n",
              "      <td>0.0</td>\n",
              "    </tr>\n",
              "    <tr>\n",
              "      <th>2</th>\n",
              "      <td>0.304</td>\n",
              "      <td>0.324324</td>\n",
              "      <td>0.8</td>\n",
              "      <td>0.636357</td>\n",
              "      <td>0.666667</td>\n",
              "      <td>1.0</td>\n",
              "      <td>0.0</td>\n",
              "      <td>0.569654</td>\n",
              "      <td>1.0</td>\n",
              "      <td>0.0</td>\n",
              "      <td>0.0</td>\n",
              "      <td>0.0</td>\n",
              "    </tr>\n",
              "    <tr>\n",
              "      <th>3</th>\n",
              "      <td>0.698</td>\n",
              "      <td>0.283784</td>\n",
              "      <td>0.1</td>\n",
              "      <td>0.000000</td>\n",
              "      <td>0.333333</td>\n",
              "      <td>0.0</td>\n",
              "      <td>0.0</td>\n",
              "      <td>0.469120</td>\n",
              "      <td>0.0</td>\n",
              "      <td>0.0</td>\n",
              "      <td>0.0</td>\n",
              "      <td>0.0</td>\n",
              "    </tr>\n",
              "    <tr>\n",
              "      <th>4</th>\n",
              "      <td>1.000</td>\n",
              "      <td>0.337838</td>\n",
              "      <td>0.2</td>\n",
              "      <td>0.500246</td>\n",
              "      <td>0.000000</td>\n",
              "      <td>1.0</td>\n",
              "      <td>1.0</td>\n",
              "      <td>0.395400</td>\n",
              "      <td>0.0</td>\n",
              "      <td>0.0</td>\n",
              "      <td>1.0</td>\n",
              "      <td>0.0</td>\n",
              "    </tr>\n",
              "  </tbody>\n",
              "</table>\n",
              "</div>\n",
              "      <button class=\"colab-df-convert\" onclick=\"convertToInteractive('df-15ededbe-d9b9-4b6b-84c0-39575742b36e')\"\n",
              "              title=\"Convert this dataframe to an interactive table.\"\n",
              "              style=\"display:none;\">\n",
              "        \n",
              "  <svg xmlns=\"http://www.w3.org/2000/svg\" height=\"24px\"viewBox=\"0 0 24 24\"\n",
              "       width=\"24px\">\n",
              "    <path d=\"M0 0h24v24H0V0z\" fill=\"none\"/>\n",
              "    <path d=\"M18.56 5.44l.94 2.06.94-2.06 2.06-.94-2.06-.94-.94-2.06-.94 2.06-2.06.94zm-11 1L8.5 8.5l.94-2.06 2.06-.94-2.06-.94L8.5 2.5l-.94 2.06-2.06.94zm10 10l.94 2.06.94-2.06 2.06-.94-2.06-.94-.94-2.06-.94 2.06-2.06.94z\"/><path d=\"M17.41 7.96l-1.37-1.37c-.4-.4-.92-.59-1.43-.59-.52 0-1.04.2-1.43.59L10.3 9.45l-7.72 7.72c-.78.78-.78 2.05 0 2.83L4 21.41c.39.39.9.59 1.41.59.51 0 1.02-.2 1.41-.59l7.78-7.78 2.81-2.81c.8-.78.8-2.07 0-2.86zM5.41 20L4 18.59l7.72-7.72 1.47 1.35L5.41 20z\"/>\n",
              "  </svg>\n",
              "      </button>\n",
              "      \n",
              "  <style>\n",
              "    .colab-df-container {\n",
              "      display:flex;\n",
              "      flex-wrap:wrap;\n",
              "      gap: 12px;\n",
              "    }\n",
              "\n",
              "    .colab-df-convert {\n",
              "      background-color: #E8F0FE;\n",
              "      border: none;\n",
              "      border-radius: 50%;\n",
              "      cursor: pointer;\n",
              "      display: none;\n",
              "      fill: #1967D2;\n",
              "      height: 32px;\n",
              "      padding: 0 0 0 0;\n",
              "      width: 32px;\n",
              "    }\n",
              "\n",
              "    .colab-df-convert:hover {\n",
              "      background-color: #E2EBFA;\n",
              "      box-shadow: 0px 1px 2px rgba(60, 64, 67, 0.3), 0px 1px 3px 1px rgba(60, 64, 67, 0.15);\n",
              "      fill: #174EA6;\n",
              "    }\n",
              "\n",
              "    [theme=dark] .colab-df-convert {\n",
              "      background-color: #3B4455;\n",
              "      fill: #D2E3FC;\n",
              "    }\n",
              "\n",
              "    [theme=dark] .colab-df-convert:hover {\n",
              "      background-color: #434B5C;\n",
              "      box-shadow: 0px 1px 3px 1px rgba(0, 0, 0, 0.15);\n",
              "      filter: drop-shadow(0px 1px 2px rgba(0, 0, 0, 0.3));\n",
              "      fill: #FFFFFF;\n",
              "    }\n",
              "  </style>\n",
              "\n",
              "      <script>\n",
              "        const buttonEl =\n",
              "          document.querySelector('#df-15ededbe-d9b9-4b6b-84c0-39575742b36e button.colab-df-convert');\n",
              "        buttonEl.style.display =\n",
              "          google.colab.kernel.accessAllowed ? 'block' : 'none';\n",
              "\n",
              "        async function convertToInteractive(key) {\n",
              "          const element = document.querySelector('#df-15ededbe-d9b9-4b6b-84c0-39575742b36e');\n",
              "          const dataTable =\n",
              "            await google.colab.kernel.invokeFunction('convertToInteractive',\n",
              "                                                     [key], {});\n",
              "          if (!dataTable) return;\n",
              "\n",
              "          const docLinkHtml = 'Like what you see? Visit the ' +\n",
              "            '<a target=\"_blank\" href=https://colab.research.google.com/notebooks/data_table.ipynb>data table notebook</a>'\n",
              "            + ' to learn more about interactive tables.';\n",
              "          element.innerHTML = '';\n",
              "          dataTable['output_type'] = 'display_data';\n",
              "          await google.colab.output.renderOutput(dataTable, element);\n",
              "          const docLink = document.createElement('div');\n",
              "          docLink.innerHTML = docLinkHtml;\n",
              "          element.appendChild(docLink);\n",
              "        }\n",
              "      </script>\n",
              "    </div>\n",
              "  </div>\n",
              "  "
            ]
          },
          "metadata": {},
          "execution_count": 19
        }
      ],
      "source": [
        "df_scaled = df.copy()\n",
        "dummies = pd.get_dummies(df_scaled[['geography', 'gender']], drop_first=True)\n",
        "df_scaled = df_scaled.drop(['geography','gender'], axis=1)\n",
        "df_scaled = pd.concat([df_scaled, dummies], axis=1)\n",
        "\n",
        "min_max_scaler = MinMaxScaler()\n",
        "df_scaled = pd.DataFrame(min_max_scaler.fit_transform(df_scaled), columns = df_scaled.columns)\n",
        "df_scaled.head()"
      ]
    },
    {
      "cell_type": "code",
      "execution_count": 20,
      "metadata": {
        "colab": {
          "base_uri": "https://localhost:8080/",
          "height": 394
        },
        "id": "AZQgNJmhL04J",
        "outputId": "5429787c-acaa-4eff-a5cc-2c0d10afd417"
      },
      "outputs": [
        {
          "output_type": "execute_result",
          "data": {
            "text/plain": [
              "<matplotlib.axes._subplots.AxesSubplot at 0x7f623e18b0d0>"
            ]
          },
          "metadata": {},
          "execution_count": 20
        },
        {
          "output_type": "display_data",
          "data": {
            "text/plain": [
              "<Figure size 864x432 with 1 Axes>"
            ],
            "image/png": "[encoded data removed]"
          },
          "metadata": {}
        }
      ],
      "source": [
        "df_scaled.tenure.hist()"
      ]
    },
    {
      "cell_type": "code",
      "execution_count": 21,
      "metadata": {
        "id": "9SfHxj2iIvbB"
      },
      "outputs": [],
      "source": [
        "df_scaled = pd.DataFrame(knn_imputer.fit_transform(df_scaled),columns = df_scaled.columns)"
      ]
    },
    {
      "cell_type": "code",
      "execution_count": 22,
      "metadata": {
        "id": "MCGWc9hkLdIO"
      },
      "outputs": [],
      "source": [
        "df['tenure'] = df_scaled.tenure"
      ]
    },
    {
      "cell_type": "code",
      "execution_count": 23,
      "metadata": {
        "colab": {
          "base_uri": "https://localhost:8080/"
        },
        "id": "fd9vanLfLdv9",
        "outputId": "5c05ad35-f23e-4db2-f7c3-bd8e13f9884c"
      },
      "outputs": [
        {
          "output_type": "execute_result",
          "data": {
            "text/plain": [
              "0"
            ]
          },
          "metadata": {},
          "execution_count": 23
        }
      ],
      "source": [
        "df.tenure.isna().sum()"
      ]
    },
    {
      "cell_type": "code",
      "execution_count": 24,
      "metadata": {
        "colab": {
          "base_uri": "https://localhost:8080/",
          "height": 393
        },
        "id": "YHmnL6IcKiQG",
        "outputId": "d0fd5160-fb55-4ef9-95b7-0caa91129167"
      },
      "outputs": [
        {
          "output_type": "display_data",
          "data": {
            "text/plain": [
              "<Figure size 720x432 with 1 Axes>"
            ],
            "image/png": "[encoded data removed]"
          },
          "metadata": {}
        }
      ],
      "source": [
        "df.tenure.hist(bins=10, figsize=(10,6))\n",
        "plt.title('Распределение признака tenure после заполнения пропусков');"
      ]
    },
    {
      "cell_type": "markdown",
      "metadata": {
        "id": "Ik_63fNJTyvR"
      },
      "source": [
        " Распределение не поменялось при параметре n_neighbors=1 (при других значениях этого параметра распределение заметно искажается). Получилось более осмысленное заполнение пропусков чем просто рандомные значения конечно. Это не должно повлиять на качество модели, при этом мы сохранили 9% данных что наоборот приведет к более высокому качеству из-за бОльшего количества данных. "
      ]
    },
    {
      "cell_type": "markdown",
      "metadata": {
        "id": "w9zoVMz5TyvS"
      },
      "source": [
        "## Исследование данных"
      ]
    },
    {
      "cell_type": "markdown",
      "metadata": {
        "id": "uYosDDXbTyvT"
      },
      "source": [
        "Посмотрим как распределена целевая переменная:"
      ]
    },
    {
      "cell_type": "code",
      "execution_count": 25,
      "metadata": {
        "colab": {
          "base_uri": "https://localhost:8080/"
        },
        "id": "2gMaQHciQgWo",
        "outputId": "9411a46a-d0fd-4e3c-9f17-f062a7f7d96a"
      },
      "outputs": [
        {
          "output_type": "execute_result",
          "data": {
            "text/plain": [
              "0    0.7963\n",
              "1    0.2037\n",
              "Name: exited, dtype: float64"
            ]
          },
          "metadata": {},
          "execution_count": 25
        }
      ],
      "source": [
        "df.exited.value_counts(normalize=True)"
      ]
    },
    {
      "cell_type": "markdown",
      "metadata": {
        "id": "w4luVpKZTyvU"
      },
      "source": [
        "Налицо явный дисбаланс 80% на 20%"
      ]
    },
    {
      "cell_type": "code",
      "execution_count": 26,
      "metadata": {
        "colab": {
          "base_uri": "https://localhost:8080/",
          "height": 328
        },
        "id": "uwrJF1bALbln",
        "outputId": "1f6d04cc-6d53-473d-f714-77d83d10b60c"
      },
      "outputs": [
        {
          "output_type": "execute_result",
          "data": {
            "text/plain": [
              "                  credit_score       age    tenure   balance  num_of_products  \\\n",
              "credit_score          1.000000 -0.003965 -0.002247  0.006268         0.012238   \n",
              "age                  -0.003965  1.000000 -0.013858  0.028308        -0.030680   \n",
              "tenure               -0.002247 -0.013858  1.000000 -0.012785         0.012994   \n",
              "balance               0.006268  0.028308 -0.012785  1.000000        -0.304180   \n",
              "num_of_products       0.012238 -0.030680  0.012994 -0.304180         1.000000   \n",
              "has_cr_card          -0.005458 -0.011721  0.029180 -0.014858         0.003183   \n",
              "is_active             0.025651  0.085472 -0.029752 -0.010084         0.009612   \n",
              "estimated_salary     -0.001384 -0.007201  0.007930  0.012797         0.014204   \n",
              "exited               -0.027094  0.285323 -0.015294  0.118533        -0.047820   \n",
              "\n",
              "                  has_cr_card  is_active  estimated_salary    exited  \n",
              "credit_score        -0.005458   0.025651         -0.001384 -0.027094  \n",
              "age                 -0.011721   0.085472         -0.007201  0.285323  \n",
              "tenure               0.029180  -0.029752          0.007930 -0.015294  \n",
              "balance             -0.014858  -0.010084          0.012797  0.118533  \n",
              "num_of_products      0.003183   0.009612          0.014204 -0.047820  \n",
              "has_cr_card          1.000000  -0.011866         -0.009933 -0.007138  \n",
              "is_active           -0.011866   1.000000         -0.011421 -0.156128  \n",
              "estimated_salary    -0.009933  -0.011421          1.000000  0.012097  \n",
              "exited              -0.007138  -0.156128          0.012097  1.000000  "
            ],
            "text/html": [
              "\n",
              "  <div id=\"df-9bdf76f0-c357-4e37-ade7-1361734fc80e\">\n",
              "    <div class=\"colab-df-container\">\n",
              "      <div>\n",
              "<style scoped>\n",
              "    .dataframe tbody tr th:only-of-type {\n",
              "        vertical-align: middle;\n",
              "    }\n",
              "\n",
              "    .dataframe tbody tr th {\n",
              "        vertical-align: top;\n",
              "    }\n",
              "\n",
              "    .dataframe thead th {\n",
              "        text-align: right;\n",
              "    }\n",
              "</style>\n",
              "<table border=\"1\" class=\"dataframe\">\n",
              "  <thead>\n",
              "    <tr style=\"text-align: right;\">\n",
              "      <th></th>\n",
              "      <th>credit_score</th>\n",
              "      <th>age</th>\n",
              "      <th>tenure</th>\n",
              "      <th>balance</th>\n",
              "      <th>num_of_products</th>\n",
              "      <th>has_cr_card</th>\n",
              "      <th>is_active</th>\n",
              "      <th>estimated_salary</th>\n",
              "      <th>exited</th>\n",
              "    </tr>\n",
              "  </thead>\n",
              "  <tbody>\n",
              "    <tr>\n",
              "      <th>credit_score</th>\n",
              "      <td>1.000000</td>\n",
              "      <td>-0.003965</td>\n",
              "      <td>-0.002247</td>\n",
              "      <td>0.006268</td>\n",
              "      <td>0.012238</td>\n",
              "      <td>-0.005458</td>\n",
              "      <td>0.025651</td>\n",
              "      <td>-0.001384</td>\n",
              "      <td>-0.027094</td>\n",
              "    </tr>\n",
              "    <tr>\n",
              "      <th>age</th>\n",
              "      <td>-0.003965</td>\n",
              "      <td>1.000000</td>\n",
              "      <td>-0.013858</td>\n",
              "      <td>0.028308</td>\n",
              "      <td>-0.030680</td>\n",
              "      <td>-0.011721</td>\n",
              "      <td>0.085472</td>\n",
              "      <td>-0.007201</td>\n",
              "      <td>0.285323</td>\n",
              "    </tr>\n",
              "    <tr>\n",
              "      <th>tenure</th>\n",
              "      <td>-0.002247</td>\n",
              "      <td>-0.013858</td>\n",
              "      <td>1.000000</td>\n",
              "      <td>-0.012785</td>\n",
              "      <td>0.012994</td>\n",
              "      <td>0.029180</td>\n",
              "      <td>-0.029752</td>\n",
              "      <td>0.007930</td>\n",
              "      <td>-0.015294</td>\n",
              "    </tr>\n",
              "    <tr>\n",
              "      <th>balance</th>\n",
              "      <td>0.006268</td>\n",
              "      <td>0.028308</td>\n",
              "      <td>-0.012785</td>\n",
              "      <td>1.000000</td>\n",
              "      <td>-0.304180</td>\n",
              "      <td>-0.014858</td>\n",
              "      <td>-0.010084</td>\n",
              "      <td>0.012797</td>\n",
              "      <td>0.118533</td>\n",
              "    </tr>\n",
              "    <tr>\n",
              "      <th>num_of_products</th>\n",
              "      <td>0.012238</td>\n",
              "      <td>-0.030680</td>\n",
              "      <td>0.012994</td>\n",
              "      <td>-0.304180</td>\n",
              "      <td>1.000000</td>\n",
              "      <td>0.003183</td>\n",
              "      <td>0.009612</td>\n",
              "      <td>0.014204</td>\n",
              "      <td>-0.047820</td>\n",
              "    </tr>\n",
              "    <tr>\n",
              "      <th>has_cr_card</th>\n",
              "      <td>-0.005458</td>\n",
              "      <td>-0.011721</td>\n",
              "      <td>0.029180</td>\n",
              "      <td>-0.014858</td>\n",
              "      <td>0.003183</td>\n",
              "      <td>1.000000</td>\n",
              "      <td>-0.011866</td>\n",
              "      <td>-0.009933</td>\n",
              "      <td>-0.007138</td>\n",
              "    </tr>\n",
              "    <tr>\n",
              "      <th>is_active</th>\n",
              "      <td>0.025651</td>\n",
              "      <td>0.085472</td>\n",
              "      <td>-0.029752</td>\n",
              "      <td>-0.010084</td>\n",
              "      <td>0.009612</td>\n",
              "      <td>-0.011866</td>\n",
              "      <td>1.000000</td>\n",
              "      <td>-0.011421</td>\n",
              "      <td>-0.156128</td>\n",
              "    </tr>\n",
              "    <tr>\n",
              "      <th>estimated_salary</th>\n",
              "      <td>-0.001384</td>\n",
              "      <td>-0.007201</td>\n",
              "      <td>0.007930</td>\n",
              "      <td>0.012797</td>\n",
              "      <td>0.014204</td>\n",
              "      <td>-0.009933</td>\n",
              "      <td>-0.011421</td>\n",
              "      <td>1.000000</td>\n",
              "      <td>0.012097</td>\n",
              "    </tr>\n",
              "    <tr>\n",
              "      <th>exited</th>\n",
              "      <td>-0.027094</td>\n",
              "      <td>0.285323</td>\n",
              "      <td>-0.015294</td>\n",
              "      <td>0.118533</td>\n",
              "      <td>-0.047820</td>\n",
              "      <td>-0.007138</td>\n",
              "      <td>-0.156128</td>\n",
              "      <td>0.012097</td>\n",
              "      <td>1.000000</td>\n",
              "    </tr>\n",
              "  </tbody>\n",
              "</table>\n",
              "</div>\n",
              "      <button class=\"colab-df-convert\" onclick=\"convertToInteractive('df-9bdf76f0-c357-4e37-ade7-1361734fc80e')\"\n",
              "              title=\"Convert this dataframe to an interactive table.\"\n",
              "              style=\"display:none;\">\n",
              "        \n",
              "  <svg xmlns=\"http://www.w3.org/2000/svg\" height=\"24px\"viewBox=\"0 0 24 24\"\n",
              "       width=\"24px\">\n",
              "    <path d=\"M0 0h24v24H0V0z\" fill=\"none\"/>\n",
              "    <path d=\"M18.56 5.44l.94 2.06.94-2.06 2.06-.94-2.06-.94-.94-2.06-.94 2.06-2.06.94zm-11 1L8.5 8.5l.94-2.06 2.06-.94-2.06-.94L8.5 2.5l-.94 2.06-2.06.94zm10 10l.94 2.06.94-2.06 2.06-.94-2.06-.94-.94-2.06-.94 2.06-2.06.94z\"/><path d=\"M17.41 7.96l-1.37-1.37c-.4-.4-.92-.59-1.43-.59-.52 0-1.04.2-1.43.59L10.3 9.45l-7.72 7.72c-.78.78-.78 2.05 0 2.83L4 21.41c.39.39.9.59 1.41.59.51 0 1.02-.2 1.41-.59l7.78-7.78 2.81-2.81c.8-.78.8-2.07 0-2.86zM5.41 20L4 18.59l7.72-7.72 1.47 1.35L5.41 20z\"/>\n",
              "  </svg>\n",
              "      </button>\n",
              "      \n",
              "  <style>\n",
              "    .colab-df-container {\n",
              "      display:flex;\n",
              "      flex-wrap:wrap;\n",
              "      gap: 12px;\n",
              "    }\n",
              "\n",
              "    .colab-df-convert {\n",
              "      background-color: #E8F0FE;\n",
              "      border: none;\n",
              "      border-radius: 50%;\n",
              "      cursor: pointer;\n",
              "      display: none;\n",
              "      fill: #1967D2;\n",
              "      height: 32px;\n",
              "      padding: 0 0 0 0;\n",
              "      width: 32px;\n",
              "    }\n",
              "\n",
              "    .colab-df-convert:hover {\n",
              "      background-color: #E2EBFA;\n",
              "      box-shadow: 0px 1px 2px rgba(60, 64, 67, 0.3), 0px 1px 3px 1px rgba(60, 64, 67, 0.15);\n",
              "      fill: #174EA6;\n",
              "    }\n",
              "\n",
              "    [theme=dark] .colab-df-convert {\n",
              "      background-color: #3B4455;\n",
              "      fill: #D2E3FC;\n",
              "    }\n",
              "\n",
              "    [theme=dark] .colab-df-convert:hover {\n",
              "      background-color: #434B5C;\n",
              "      box-shadow: 0px 1px 3px 1px rgba(0, 0, 0, 0.15);\n",
              "      filter: drop-shadow(0px 1px 2px rgba(0, 0, 0, 0.3));\n",
              "      fill: #FFFFFF;\n",
              "    }\n",
              "  </style>\n",
              "\n",
              "      <script>\n",
              "        const buttonEl =\n",
              "          document.querySelector('#df-9bdf76f0-c357-4e37-ade7-1361734fc80e button.colab-df-convert');\n",
              "        buttonEl.style.display =\n",
              "          google.colab.kernel.accessAllowed ? 'block' : 'none';\n",
              "\n",
              "        async function convertToInteractive(key) {\n",
              "          const element = document.querySelector('#df-9bdf76f0-c357-4e37-ade7-1361734fc80e');\n",
              "          const dataTable =\n",
              "            await google.colab.kernel.invokeFunction('convertToInteractive',\n",
              "                                                     [key], {});\n",
              "          if (!dataTable) return;\n",
              "\n",
              "          const docLinkHtml = 'Like what you see? Visit the ' +\n",
              "            '<a target=\"_blank\" href=https://colab.research.google.com/notebooks/data_table.ipynb>data table notebook</a>'\n",
              "            + ' to learn more about interactive tables.';\n",
              "          element.innerHTML = '';\n",
              "          dataTable['output_type'] = 'display_data';\n",
              "          await google.colab.output.renderOutput(dataTable, element);\n",
              "          const docLink = document.createElement('div');\n",
              "          docLink.innerHTML = docLinkHtml;\n",
              "          element.appendChild(docLink);\n",
              "        }\n",
              "      </script>\n",
              "    </div>\n",
              "  </div>\n",
              "  "
            ]
          },
          "metadata": {},
          "execution_count": 26
        }
      ],
      "source": [
        "df.corr()"
      ]
    },
    {
      "cell_type": "markdown",
      "metadata": {
        "id": "OXMbfocwTyvW"
      },
      "source": [
        "Какой-либо значимой линейной зависимости нет ни по одному из признаков."
      ]
    },
    {
      "cell_type": "markdown",
      "metadata": {
        "id": "9UrDa8nZTyvX"
      },
      "source": [
        "<b> Возраст</b>"
      ]
    },
    {
      "cell_type": "code",
      "execution_count": 27,
      "metadata": {
        "colab": {
          "base_uri": "https://localhost:8080/",
          "height": 414
        },
        "id": "dMb3dbGjRoqs",
        "outputId": "1453b7c2-3cb5-4a76-f2ec-bcde65e3c02c"
      },
      "outputs": [
        {
          "output_type": "display_data",
          "data": {
            "text/plain": [
              "<Figure size 864x432 with 1 Axes>"
            ],
            "image/png": "[encoded data removed]"
          },
          "metadata": {}
        }
      ],
      "source": [
        "df.groupby('age')['exited'].mean().reset_index(drop=True).plot(kind='bar')\n",
        "plt.xlabel('Age')\n",
        "plt.title('Зависимость возраста и доли расторгнувших договор');"
      ]
    },
    {
      "cell_type": "markdown",
      "metadata": {
        "id": "eWKlhx1ZyZ10"
      },
      "source": [
        "<div class=\"alert alert-success\">\n",
        "<b>Комментарий ревьюера V3✔️:</b>Кстати, как вариант тут можно на 45 повернуть возраст (чтобы читабельней стала ось OX)\n",
        "</div>"
      ]
    },
    {
      "cell_type": "markdown",
      "metadata": {
        "id": "eoXnnVOYTyvY"
      },
      "source": [
        "До 20 лет мы видим незначительное число клиентов покидающих банк. Скорее всего это родители которые открывают счета на имя своих детей и менять банки им особенно нет смысла. \n",
        "\n",
        "Далее мы видим рост доли покидающих банк к 38 годам, затем спад. Люди часто меняют банк в среднем возрасте.\n",
        "\n",
        "После 56 лет клиенты не расторгают договор вообще, однако, есть выброс на значении в 66 лет. Похоже на аномалию в данных и по-хорошему нам надо бы обратиться к источнику данных чтобы узнать причину такой аномалии."
      ]
    },
    {
      "cell_type": "markdown",
      "metadata": {
        "id": "OsMY4w2CTyvY"
      },
      "source": [
        "<b> Пол</b>"
      ]
    },
    {
      "cell_type": "code",
      "execution_count": 28,
      "metadata": {
        "colab": {
          "base_uri": "https://localhost:8080/",
          "height": 111
        },
        "id": "J9k9irKROhp9",
        "outputId": "e183971b-b815-45a0-d37e-5a82a7136611"
      },
      "outputs": [
        {
          "output_type": "execute_result",
          "data": {
            "text/plain": [
              "   gender  exited_share\n",
              "0  Female      0.250715\n",
              "1    Male      0.164559"
            ],
            "text/html": [
              "\n",
              "  <div id=\"df-1ba2e496-90d2-452e-aaee-a411719e3b4e\">\n",
              "    <div class=\"colab-df-container\">\n",
              "      <div>\n",
              "<style scoped>\n",
              "    .dataframe tbody tr th:only-of-type {\n",
              "        vertical-align: middle;\n",
              "    }\n",
              "\n",
              "    .dataframe tbody tr th {\n",
              "        vertical-align: top;\n",
              "    }\n",
              "\n",
              "    .dataframe thead th {\n",
              "        text-align: right;\n",
              "    }\n",
              "</style>\n",
              "<table border=\"1\" class=\"dataframe\">\n",
              "  <thead>\n",
              "    <tr style=\"text-align: right;\">\n",
              "      <th></th>\n",
              "      <th>gender</th>\n",
              "      <th>exited_share</th>\n",
              "    </tr>\n",
              "  </thead>\n",
              "  <tbody>\n",
              "    <tr>\n",
              "      <th>0</th>\n",
              "      <td>Female</td>\n",
              "      <td>0.250715</td>\n",
              "    </tr>\n",
              "    <tr>\n",
              "      <th>1</th>\n",
              "      <td>Male</td>\n",
              "      <td>0.164559</td>\n",
              "    </tr>\n",
              "  </tbody>\n",
              "</table>\n",
              "</div>\n",
              "      <button class=\"colab-df-convert\" onclick=\"convertToInteractive('df-1ba2e496-90d2-452e-aaee-a411719e3b4e')\"\n",
              "              title=\"Convert this dataframe to an interactive table.\"\n",
              "              style=\"display:none;\">\n",
              "        \n",
              "  <svg xmlns=\"http://www.w3.org/2000/svg\" height=\"24px\"viewBox=\"0 0 24 24\"\n",
              "       width=\"24px\">\n",
              "    <path d=\"M0 0h24v24H0V0z\" fill=\"none\"/>\n",
              "    <path d=\"M18.56 5.44l.94 2.06.94-2.06 2.06-.94-2.06-.94-.94-2.06-.94 2.06-2.06.94zm-11 1L8.5 8.5l.94-2.06 2.06-.94-2.06-.94L8.5 2.5l-.94 2.06-2.06.94zm10 10l.94 2.06.94-2.06 2.06-.94-2.06-.94-.94-2.06-.94 2.06-2.06.94z\"/><path d=\"M17.41 7.96l-1.37-1.37c-.4-.4-.92-.59-1.43-.59-.52 0-1.04.2-1.43.59L10.3 9.45l-7.72 7.72c-.78.78-.78 2.05 0 2.83L4 21.41c.39.39.9.59 1.41.59.51 0 1.02-.2 1.41-.59l7.78-7.78 2.81-2.81c.8-.78.8-2.07 0-2.86zM5.41 20L4 18.59l7.72-7.72 1.47 1.35L5.41 20z\"/>\n",
              "  </svg>\n",
              "      </button>\n",
              "      \n",
              "  <style>\n",
              "    .colab-df-container {\n",
              "      display:flex;\n",
              "      flex-wrap:wrap;\n",
              "      gap: 12px;\n",
              "    }\n",
              "\n",
              "    .colab-df-convert {\n",
              "      background-color: #E8F0FE;\n",
              "      border: none;\n",
              "      border-radius: 50%;\n",
              "      cursor: pointer;\n",
              "      display: none;\n",
              "      fill: #1967D2;\n",
              "      height: 32px;\n",
              "      padding: 0 0 0 0;\n",
              "      width: 32px;\n",
              "    }\n",
              "\n",
              "    .colab-df-convert:hover {\n",
              "      background-color: #E2EBFA;\n",
              "      box-shadow: 0px 1px 2px rgba(60, 64, 67, 0.3), 0px 1px 3px 1px rgba(60, 64, 67, 0.15);\n",
              "      fill: #174EA6;\n",
              "    }\n",
              "\n",
              "    [theme=dark] .colab-df-convert {\n",
              "      background-color: #3B4455;\n",
              "      fill: #D2E3FC;\n",
              "    }\n",
              "\n",
              "    [theme=dark] .colab-df-convert:hover {\n",
              "      background-color: #434B5C;\n",
              "      box-shadow: 0px 1px 3px 1px rgba(0, 0, 0, 0.15);\n",
              "      filter: drop-shadow(0px 1px 2px rgba(0, 0, 0, 0.3));\n",
              "      fill: #FFFFFF;\n",
              "    }\n",
              "  </style>\n",
              "\n",
              "      <script>\n",
              "        const buttonEl =\n",
              "          document.querySelector('#df-1ba2e496-90d2-452e-aaee-a411719e3b4e button.colab-df-convert');\n",
              "        buttonEl.style.display =\n",
              "          google.colab.kernel.accessAllowed ? 'block' : 'none';\n",
              "\n",
              "        async function convertToInteractive(key) {\n",
              "          const element = document.querySelector('#df-1ba2e496-90d2-452e-aaee-a411719e3b4e');\n",
              "          const dataTable =\n",
              "            await google.colab.kernel.invokeFunction('convertToInteractive',\n",
              "                                                     [key], {});\n",
              "          if (!dataTable) return;\n",
              "\n",
              "          const docLinkHtml = 'Like what you see? Visit the ' +\n",
              "            '<a target=\"_blank\" href=https://colab.research.google.com/notebooks/data_table.ipynb>data table notebook</a>'\n",
              "            + ' to learn more about interactive tables.';\n",
              "          element.innerHTML = '';\n",
              "          dataTable['output_type'] = 'display_data';\n",
              "          await google.colab.output.renderOutput(dataTable, element);\n",
              "          const docLink = document.createElement('div');\n",
              "          docLink.innerHTML = docLinkHtml;\n",
              "          element.appendChild(docLink);\n",
              "        }\n",
              "      </script>\n",
              "    </div>\n",
              "  </div>\n",
              "  "
            ]
          },
          "metadata": {},
          "execution_count": 28
        }
      ],
      "source": [
        "df.groupby('gender')['exited'].mean().reset_index().rename({'exited':'exited_share'},axis=1)"
      ]
    },
    {
      "cell_type": "markdown",
      "metadata": {
        "id": "X58LM7alTyvZ"
      },
      "source": [
        "Здесь мы видим что доля женщим меняющих банк значительно выше доли мужчин. Тоже важный признак для обучения модели. "
      ]
    },
    {
      "cell_type": "markdown",
      "metadata": {
        "id": "XuphFfrmTyva"
      },
      "source": [
        "**Страна**"
      ]
    },
    {
      "cell_type": "code",
      "execution_count": 29,
      "metadata": {
        "colab": {
          "base_uri": "https://localhost:8080/",
          "height": 142
        },
        "id": "-Q8iUbEDRTgE",
        "outputId": "a42e641b-6ed3-49b4-dff6-3dbfdab4a101"
      },
      "outputs": [
        {
          "output_type": "execute_result",
          "data": {
            "text/plain": [
              "  geography  exited_share\n",
              "0    France      0.161548\n",
              "1   Germany      0.324432\n",
              "2     Spain      0.166734"
            ],
            "text/html": [
              "\n",
              "  <div id=\"df-1da760ef-7457-4f72-af7a-86f8e136f237\">\n",
              "    <div class=\"colab-df-container\">\n",
              "      <div>\n",
              "<style scoped>\n",
              "    .dataframe tbody tr th:only-of-type {\n",
              "        vertical-align: middle;\n",
              "    }\n",
              "\n",
              "    .dataframe tbody tr th {\n",
              "        vertical-align: top;\n",
              "    }\n",
              "\n",
              "    .dataframe thead th {\n",
              "        text-align: right;\n",
              "    }\n",
              "</style>\n",
              "<table border=\"1\" class=\"dataframe\">\n",
              "  <thead>\n",
              "    <tr style=\"text-align: right;\">\n",
              "      <th></th>\n",
              "      <th>geography</th>\n",
              "      <th>exited_share</th>\n",
              "    </tr>\n",
              "  </thead>\n",
              "  <tbody>\n",
              "    <tr>\n",
              "      <th>0</th>\n",
              "      <td>France</td>\n",
              "      <td>0.161548</td>\n",
              "    </tr>\n",
              "    <tr>\n",
              "      <th>1</th>\n",
              "      <td>Germany</td>\n",
              "      <td>0.324432</td>\n",
              "    </tr>\n",
              "    <tr>\n",
              "      <th>2</th>\n",
              "      <td>Spain</td>\n",
              "      <td>0.166734</td>\n",
              "    </tr>\n",
              "  </tbody>\n",
              "</table>\n",
              "</div>\n",
              "      <button class=\"colab-df-convert\" onclick=\"convertToInteractive('df-1da760ef-7457-4f72-af7a-86f8e136f237')\"\n",
              "              title=\"Convert this dataframe to an interactive table.\"\n",
              "              style=\"display:none;\">\n",
              "        \n",
              "  <svg xmlns=\"http://www.w3.org/2000/svg\" height=\"24px\"viewBox=\"0 0 24 24\"\n",
              "       width=\"24px\">\n",
              "    <path d=\"M0 0h24v24H0V0z\" fill=\"none\"/>\n",
              "    <path d=\"M18.56 5.44l.94 2.06.94-2.06 2.06-.94-2.06-.94-.94-2.06-.94 2.06-2.06.94zm-11 1L8.5 8.5l.94-2.06 2.06-.94-2.06-.94L8.5 2.5l-.94 2.06-2.06.94zm10 10l.94 2.06.94-2.06 2.06-.94-2.06-.94-.94-2.06-.94 2.06-2.06.94z\"/><path d=\"M17.41 7.96l-1.37-1.37c-.4-.4-.92-.59-1.43-.59-.52 0-1.04.2-1.43.59L10.3 9.45l-7.72 7.72c-.78.78-.78 2.05 0 2.83L4 21.41c.39.39.9.59 1.41.59.51 0 1.02-.2 1.41-.59l7.78-7.78 2.81-2.81c.8-.78.8-2.07 0-2.86zM5.41 20L4 18.59l7.72-7.72 1.47 1.35L5.41 20z\"/>\n",
              "  </svg>\n",
              "      </button>\n",
              "      \n",
              "  <style>\n",
              "    .colab-df-container {\n",
              "      display:flex;\n",
              "      flex-wrap:wrap;\n",
              "      gap: 12px;\n",
              "    }\n",
              "\n",
              "    .colab-df-convert {\n",
              "      background-color: #E8F0FE;\n",
              "      border: none;\n",
              "      border-radius: 50%;\n",
              "      cursor: pointer;\n",
              "      display: none;\n",
              "      fill: #1967D2;\n",
              "      height: 32px;\n",
              "      padding: 0 0 0 0;\n",
              "      width: 32px;\n",
              "    }\n",
              "\n",
              "    .colab-df-convert:hover {\n",
              "      background-color: #E2EBFA;\n",
              "      box-shadow: 0px 1px 2px rgba(60, 64, 67, 0.3), 0px 1px 3px 1px rgba(60, 64, 67, 0.15);\n",
              "      fill: #174EA6;\n",
              "    }\n",
              "\n",
              "    [theme=dark] .colab-df-convert {\n",
              "      background-color: #3B4455;\n",
              "      fill: #D2E3FC;\n",
              "    }\n",
              "\n",
              "    [theme=dark] .colab-df-convert:hover {\n",
              "      background-color: #434B5C;\n",
              "      box-shadow: 0px 1px 3px 1px rgba(0, 0, 0, 0.15);\n",
              "      filter: drop-shadow(0px 1px 2px rgba(0, 0, 0, 0.3));\n",
              "      fill: #FFFFFF;\n",
              "    }\n",
              "  </style>\n",
              "\n",
              "      <script>\n",
              "        const buttonEl =\n",
              "          document.querySelector('#df-1da760ef-7457-4f72-af7a-86f8e136f237 button.colab-df-convert');\n",
              "        buttonEl.style.display =\n",
              "          google.colab.kernel.accessAllowed ? 'block' : 'none';\n",
              "\n",
              "        async function convertToInteractive(key) {\n",
              "          const element = document.querySelector('#df-1da760ef-7457-4f72-af7a-86f8e136f237');\n",
              "          const dataTable =\n",
              "            await google.colab.kernel.invokeFunction('convertToInteractive',\n",
              "                                                     [key], {});\n",
              "          if (!dataTable) return;\n",
              "\n",
              "          const docLinkHtml = 'Like what you see? Visit the ' +\n",
              "            '<a target=\"_blank\" href=https://colab.research.google.com/notebooks/data_table.ipynb>data table notebook</a>'\n",
              "            + ' to learn more about interactive tables.';\n",
              "          element.innerHTML = '';\n",
              "          dataTable['output_type'] = 'display_data';\n",
              "          await google.colab.output.renderOutput(dataTable, element);\n",
              "          const docLink = document.createElement('div');\n",
              "          docLink.innerHTML = docLinkHtml;\n",
              "          element.appendChild(docLink);\n",
              "        }\n",
              "      </script>\n",
              "    </div>\n",
              "  </div>\n",
              "  "
            ]
          },
          "metadata": {},
          "execution_count": 29
        }
      ],
      "source": [
        "df.groupby('geography')['exited'].mean().reset_index().rename({'exited':'exited_share'},axis=1)"
      ]
    },
    {
      "cell_type": "markdown",
      "metadata": {
        "id": "OZH-SZsETyvb"
      },
      "source": [
        "Клиенты из Германии в два раза чаще расторгают договор с банком чем клиенты из Франции и Испании. "
      ]
    },
    {
      "cell_type": "markdown",
      "metadata": {
        "id": "dxayyVYWTyvb"
      },
      "source": [
        "**Продолжительность пользования услугами банка**"
      ]
    },
    {
      "cell_type": "code",
      "execution_count": 30,
      "metadata": {
        "colab": {
          "base_uri": "https://localhost:8080/",
          "height": 394
        },
        "id": "qs0gEQW0TZUT",
        "outputId": "4eec9b6c-02c3-43c4-bf2b-f7fed91e4e9f"
      },
      "outputs": [
        {
          "output_type": "display_data",
          "data": {
            "text/plain": [
              "<Figure size 864x432 with 1 Axes>"
            ],
            "image/png": "[encoded data removed]"
          },
          "metadata": {}
        }
      ],
      "source": [
        "df.groupby('tenure')['exited'].mean()\\\n",
        "    .reset_index().rename({'exited':'exited_share'},axis=1)\\\n",
        "    .sort_values(by='exited_share', ascending=False).plot(y='exited_share', x='tenure', kind='barh');\n",
        "plt.xlabel('Доля ушедших')\n",
        "plt.ylabel('Сколько лет является клиентом');"
      ]
    },
    {
      "cell_type": "markdown",
      "metadata": {
        "id": "5riArjFGTyvc"
      },
      "source": [
        "Видно, что клиенты чаще уходят на первом и втором годах пользования услугами банка. Хотя разница не столь значительная чтобы говорить о сильном влиянии на целевую переменную. "
      ]
    },
    {
      "cell_type": "markdown",
      "metadata": {
        "id": "fBfv-lQcTyvd"
      },
      "source": [
        "**Активность клиента**"
      ]
    },
    {
      "cell_type": "code",
      "execution_count": 31,
      "metadata": {
        "colab": {
          "base_uri": "https://localhost:8080/",
          "height": 111
        },
        "id": "MSjog-iST20F",
        "outputId": "0e66ca02-927b-4afa-cf29-977473c98d93"
      },
      "outputs": [
        {
          "output_type": "execute_result",
          "data": {
            "text/plain": [
              "   is_active  exited_share\n",
              "0          0      0.268509\n",
              "1          1      0.142691"
            ],
            "text/html": [
              "\n",
              "  <div id=\"df-8f00542d-487f-41d6-a0e3-37dc0ebc64da\">\n",
              "    <div class=\"colab-df-container\">\n",
              "      <div>\n",
              "<style scoped>\n",
              "    .dataframe tbody tr th:only-of-type {\n",
              "        vertical-align: middle;\n",
              "    }\n",
              "\n",
              "    .dataframe tbody tr th {\n",
              "        vertical-align: top;\n",
              "    }\n",
              "\n",
              "    .dataframe thead th {\n",
              "        text-align: right;\n",
              "    }\n",
              "</style>\n",
              "<table border=\"1\" class=\"dataframe\">\n",
              "  <thead>\n",
              "    <tr style=\"text-align: right;\">\n",
              "      <th></th>\n",
              "      <th>is_active</th>\n",
              "      <th>exited_share</th>\n",
              "    </tr>\n",
              "  </thead>\n",
              "  <tbody>\n",
              "    <tr>\n",
              "      <th>0</th>\n",
              "      <td>0</td>\n",
              "      <td>0.268509</td>\n",
              "    </tr>\n",
              "    <tr>\n",
              "      <th>1</th>\n",
              "      <td>1</td>\n",
              "      <td>0.142691</td>\n",
              "    </tr>\n",
              "  </tbody>\n",
              "</table>\n",
              "</div>\n",
              "      <button class=\"colab-df-convert\" onclick=\"convertToInteractive('df-8f00542d-487f-41d6-a0e3-37dc0ebc64da')\"\n",
              "              title=\"Convert this dataframe to an interactive table.\"\n",
              "              style=\"display:none;\">\n",
              "        \n",
              "  <svg xmlns=\"http://www.w3.org/2000/svg\" height=\"24px\"viewBox=\"0 0 24 24\"\n",
              "       width=\"24px\">\n",
              "    <path d=\"M0 0h24v24H0V0z\" fill=\"none\"/>\n",
              "    <path d=\"M18.56 5.44l.94 2.06.94-2.06 2.06-.94-2.06-.94-.94-2.06-.94 2.06-2.06.94zm-11 1L8.5 8.5l.94-2.06 2.06-.94-2.06-.94L8.5 2.5l-.94 2.06-2.06.94zm10 10l.94 2.06.94-2.06 2.06-.94-2.06-.94-.94-2.06-.94 2.06-2.06.94z\"/><path d=\"M17.41 7.96l-1.37-1.37c-.4-.4-.92-.59-1.43-.59-.52 0-1.04.2-1.43.59L10.3 9.45l-7.72 7.72c-.78.78-.78 2.05 0 2.83L4 21.41c.39.39.9.59 1.41.59.51 0 1.02-.2 1.41-.59l7.78-7.78 2.81-2.81c.8-.78.8-2.07 0-2.86zM5.41 20L4 18.59l7.72-7.72 1.47 1.35L5.41 20z\"/>\n",
              "  </svg>\n",
              "      </button>\n",
              "      \n",
              "  <style>\n",
              "    .colab-df-container {\n",
              "      display:flex;\n",
              "      flex-wrap:wrap;\n",
              "      gap: 12px;\n",
              "    }\n",
              "\n",
              "    .colab-df-convert {\n",
              "      background-color: #E8F0FE;\n",
              "      border: none;\n",
              "      border-radius: 50%;\n",
              "      cursor: pointer;\n",
              "      display: none;\n",
              "      fill: #1967D2;\n",
              "      height: 32px;\n",
              "      padding: 0 0 0 0;\n",
              "      width: 32px;\n",
              "    }\n",
              "\n",
              "    .colab-df-convert:hover {\n",
              "      background-color: #E2EBFA;\n",
              "      box-shadow: 0px 1px 2px rgba(60, 64, 67, 0.3), 0px 1px 3px 1px rgba(60, 64, 67, 0.15);\n",
              "      fill: #174EA6;\n",
              "    }\n",
              "\n",
              "    [theme=dark] .colab-df-convert {\n",
              "      background-color: #3B4455;\n",
              "      fill: #D2E3FC;\n",
              "    }\n",
              "\n",
              "    [theme=dark] .colab-df-convert:hover {\n",
              "      background-color: #434B5C;\n",
              "      box-shadow: 0px 1px 3px 1px rgba(0, 0, 0, 0.15);\n",
              "      filter: drop-shadow(0px 1px 2px rgba(0, 0, 0, 0.3));\n",
              "      fill: #FFFFFF;\n",
              "    }\n",
              "  </style>\n",
              "\n",
              "      <script>\n",
              "        const buttonEl =\n",
              "          document.querySelector('#df-8f00542d-487f-41d6-a0e3-37dc0ebc64da button.colab-df-convert');\n",
              "        buttonEl.style.display =\n",
              "          google.colab.kernel.accessAllowed ? 'block' : 'none';\n",
              "\n",
              "        async function convertToInteractive(key) {\n",
              "          const element = document.querySelector('#df-8f00542d-487f-41d6-a0e3-37dc0ebc64da');\n",
              "          const dataTable =\n",
              "            await google.colab.kernel.invokeFunction('convertToInteractive',\n",
              "                                                     [key], {});\n",
              "          if (!dataTable) return;\n",
              "\n",
              "          const docLinkHtml = 'Like what you see? Visit the ' +\n",
              "            '<a target=\"_blank\" href=https://colab.research.google.com/notebooks/data_table.ipynb>data table notebook</a>'\n",
              "            + ' to learn more about interactive tables.';\n",
              "          element.innerHTML = '';\n",
              "          dataTable['output_type'] = 'display_data';\n",
              "          await google.colab.output.renderOutput(dataTable, element);\n",
              "          const docLink = document.createElement('div');\n",
              "          docLink.innerHTML = docLinkHtml;\n",
              "          element.appendChild(docLink);\n",
              "        }\n",
              "      </script>\n",
              "    </div>\n",
              "  </div>\n",
              "  "
            ]
          },
          "metadata": {},
          "execution_count": 31
        }
      ],
      "source": [
        "df.groupby('is_active')['exited'].mean().reset_index().rename({'exited':'exited_share'},axis=1)"
      ]
    },
    {
      "cell_type": "markdown",
      "metadata": {
        "id": "ytJDaDI1UFKg"
      },
      "source": [
        "Довольно очевидная закономерность - если клиент не активен, он чаще расторгает договор. Однако, здесь самым важным аспектом является период неактивности по которому выставляется этот критерий. Но данных об этом у нас к сожалению нет. "
      ]
    },
    {
      "cell_type": "markdown",
      "metadata": {
        "id": "TUn9Bf8qTyve"
      },
      "source": [
        "## Подготовка признаков и выборок"
      ]
    },
    {
      "cell_type": "markdown",
      "metadata": {
        "id": "zqe8GyTpTyvf"
      },
      "source": [
        "### Подготовка категориальных признаков"
      ]
    },
    {
      "cell_type": "markdown",
      "metadata": {
        "id": "pQZs3vncTyvf"
      },
      "source": [
        "Методом One Hot Encoding преобразуем признак gender:"
      ]
    },
    {
      "cell_type": "code",
      "execution_count": 32,
      "metadata": {
        "id": "eovnK7rITyvf"
      },
      "outputs": [],
      "source": [
        "df['gender'] = pd.get_dummies(df['gender'], drop_first=True)"
      ]
    },
    {
      "cell_type": "code",
      "execution_count": 33,
      "metadata": {
        "colab": {
          "base_uri": "https://localhost:8080/",
          "height": 204
        },
        "id": "zvL6Ma-dTyvg",
        "outputId": "63966a18-06e9-42d9-9998-884d951a1afa"
      },
      "outputs": [
        {
          "output_type": "execute_result",
          "data": {
            "text/plain": [
              "   credit_score geography  gender  age  tenure    balance  num_of_products  \\\n",
              "0           619    France       0   42     0.2       0.00                1   \n",
              "1           608     Spain       0   41     0.1   83807.86                1   \n",
              "2           502    France       0   42     0.8  159660.80                3   \n",
              "3           699    France       0   39     0.1       0.00                2   \n",
              "4           850     Spain       0   43     0.2  125510.82                1   \n",
              "\n",
              "   has_cr_card  is_active  estimated_salary  exited  \n",
              "0            1          1         101348.88       1  \n",
              "1            0          1         112542.58       0  \n",
              "2            1          0         113931.57       1  \n",
              "3            0          0          93826.63       0  \n",
              "4            1          1          79084.10       0  "
            ],
            "text/html": [
              "\n",
              "  <div id=\"df-5a18232d-2dbd-4986-9cec-3503b419a067\">\n",
              "    <div class=\"colab-df-container\">\n",
              "      <div>\n",
              "<style scoped>\n",
              "    .dataframe tbody tr th:only-of-type {\n",
              "        vertical-align: middle;\n",
              "    }\n",
              "\n",
              "    .dataframe tbody tr th {\n",
              "        vertical-align: top;\n",
              "    }\n",
              "\n",
              "    .dataframe thead th {\n",
              "        text-align: right;\n",
              "    }\n",
              "</style>\n",
              "<table border=\"1\" class=\"dataframe\">\n",
              "  <thead>\n",
              "    <tr style=\"text-align: right;\">\n",
              "      <th></th>\n",
              "      <th>credit_score</th>\n",
              "      <th>geography</th>\n",
              "      <th>gender</th>\n",
              "      <th>age</th>\n",
              "      <th>tenure</th>\n",
              "      <th>balance</th>\n",
              "      <th>num_of_products</th>\n",
              "      <th>has_cr_card</th>\n",
              "      <th>is_active</th>\n",
              "      <th>estimated_salary</th>\n",
              "      <th>exited</th>\n",
              "    </tr>\n",
              "  </thead>\n",
              "  <tbody>\n",
              "    <tr>\n",
              "      <th>0</th>\n",
              "      <td>619</td>\n",
              "      <td>France</td>\n",
              "      <td>0</td>\n",
              "      <td>42</td>\n",
              "      <td>0.2</td>\n",
              "      <td>0.00</td>\n",
              "      <td>1</td>\n",
              "      <td>1</td>\n",
              "      <td>1</td>\n",
              "      <td>101348.88</td>\n",
              "      <td>1</td>\n",
              "    </tr>\n",
              "    <tr>\n",
              "      <th>1</th>\n",
              "      <td>608</td>\n",
              "      <td>Spain</td>\n",
              "      <td>0</td>\n",
              "      <td>41</td>\n",
              "      <td>0.1</td>\n",
              "      <td>83807.86</td>\n",
              "      <td>1</td>\n",
              "      <td>0</td>\n",
              "      <td>1</td>\n",
              "      <td>112542.58</td>\n",
              "      <td>0</td>\n",
              "    </tr>\n",
              "    <tr>\n",
              "      <th>2</th>\n",
              "      <td>502</td>\n",
              "      <td>France</td>\n",
              "      <td>0</td>\n",
              "      <td>42</td>\n",
              "      <td>0.8</td>\n",
              "      <td>159660.80</td>\n",
              "      <td>3</td>\n",
              "      <td>1</td>\n",
              "      <td>0</td>\n",
              "      <td>113931.57</td>\n",
              "      <td>1</td>\n",
              "    </tr>\n",
              "    <tr>\n",
              "      <th>3</th>\n",
              "      <td>699</td>\n",
              "      <td>France</td>\n",
              "      <td>0</td>\n",
              "      <td>39</td>\n",
              "      <td>0.1</td>\n",
              "      <td>0.00</td>\n",
              "      <td>2</td>\n",
              "      <td>0</td>\n",
              "      <td>0</td>\n",
              "      <td>93826.63</td>\n",
              "      <td>0</td>\n",
              "    </tr>\n",
              "    <tr>\n",
              "      <th>4</th>\n",
              "      <td>850</td>\n",
              "      <td>Spain</td>\n",
              "      <td>0</td>\n",
              "      <td>43</td>\n",
              "      <td>0.2</td>\n",
              "      <td>125510.82</td>\n",
              "      <td>1</td>\n",
              "      <td>1</td>\n",
              "      <td>1</td>\n",
              "      <td>79084.10</td>\n",
              "      <td>0</td>\n",
              "    </tr>\n",
              "  </tbody>\n",
              "</table>\n",
              "</div>\n",
              "      <button class=\"colab-df-convert\" onclick=\"convertToInteractive('df-5a18232d-2dbd-4986-9cec-3503b419a067')\"\n",
              "              title=\"Convert this dataframe to an interactive table.\"\n",
              "              style=\"display:none;\">\n",
              "        \n",
              "  <svg xmlns=\"http://www.w3.org/2000/svg\" height=\"24px\"viewBox=\"0 0 24 24\"\n",
              "       width=\"24px\">\n",
              "    <path d=\"M0 0h24v24H0V0z\" fill=\"none\"/>\n",
              "    <path d=\"M18.56 5.44l.94 2.06.94-2.06 2.06-.94-2.06-.94-.94-2.06-.94 2.06-2.06.94zm-11 1L8.5 8.5l.94-2.06 2.06-.94-2.06-.94L8.5 2.5l-.94 2.06-2.06.94zm10 10l.94 2.06.94-2.06 2.06-.94-2.06-.94-.94-2.06-.94 2.06-2.06.94z\"/><path d=\"M17.41 7.96l-1.37-1.37c-.4-.4-.92-.59-1.43-.59-.52 0-1.04.2-1.43.59L10.3 9.45l-7.72 7.72c-.78.78-.78 2.05 0 2.83L4 21.41c.39.39.9.59 1.41.59.51 0 1.02-.2 1.41-.59l7.78-7.78 2.81-2.81c.8-.78.8-2.07 0-2.86zM5.41 20L4 18.59l7.72-7.72 1.47 1.35L5.41 20z\"/>\n",
              "  </svg>\n",
              "      </button>\n",
              "      \n",
              "  <style>\n",
              "    .colab-df-container {\n",
              "      display:flex;\n",
              "      flex-wrap:wrap;\n",
              "      gap: 12px;\n",
              "    }\n",
              "\n",
              "    .colab-df-convert {\n",
              "      background-color: #E8F0FE;\n",
              "      border: none;\n",
              "      border-radius: 50%;\n",
              "      cursor: pointer;\n",
              "      display: none;\n",
              "      fill: #1967D2;\n",
              "      height: 32px;\n",
              "      padding: 0 0 0 0;\n",
              "      width: 32px;\n",
              "    }\n",
              "\n",
              "    .colab-df-convert:hover {\n",
              "      background-color: #E2EBFA;\n",
              "      box-shadow: 0px 1px 2px rgba(60, 64, 67, 0.3), 0px 1px 3px 1px rgba(60, 64, 67, 0.15);\n",
              "      fill: #174EA6;\n",
              "    }\n",
              "\n",
              "    [theme=dark] .colab-df-convert {\n",
              "      background-color: #3B4455;\n",
              "      fill: #D2E3FC;\n",
              "    }\n",
              "\n",
              "    [theme=dark] .colab-df-convert:hover {\n",
              "      background-color: #434B5C;\n",
              "      box-shadow: 0px 1px 3px 1px rgba(0, 0, 0, 0.15);\n",
              "      filter: drop-shadow(0px 1px 2px rgba(0, 0, 0, 0.3));\n",
              "      fill: #FFFFFF;\n",
              "    }\n",
              "  </style>\n",
              "\n",
              "      <script>\n",
              "        const buttonEl =\n",
              "          document.querySelector('#df-5a18232d-2dbd-4986-9cec-3503b419a067 button.colab-df-convert');\n",
              "        buttonEl.style.display =\n",
              "          google.colab.kernel.accessAllowed ? 'block' : 'none';\n",
              "\n",
              "        async function convertToInteractive(key) {\n",
              "          const element = document.querySelector('#df-5a18232d-2dbd-4986-9cec-3503b419a067');\n",
              "          const dataTable =\n",
              "            await google.colab.kernel.invokeFunction('convertToInteractive',\n",
              "                                                     [key], {});\n",
              "          if (!dataTable) return;\n",
              "\n",
              "          const docLinkHtml = 'Like what you see? Visit the ' +\n",
              "            '<a target=\"_blank\" href=https://colab.research.google.com/notebooks/data_table.ipynb>data table notebook</a>'\n",
              "            + ' to learn more about interactive tables.';\n",
              "          element.innerHTML = '';\n",
              "          dataTable['output_type'] = 'display_data';\n",
              "          await google.colab.output.renderOutput(dataTable, element);\n",
              "          const docLink = document.createElement('div');\n",
              "          docLink.innerHTML = docLinkHtml;\n",
              "          element.appendChild(docLink);\n",
              "        }\n",
              "      </script>\n",
              "    </div>\n",
              "  </div>\n",
              "  "
            ]
          },
          "metadata": {},
          "execution_count": 33
        }
      ],
      "source": [
        "df.head()"
      ]
    },
    {
      "cell_type": "code",
      "execution_count": 34,
      "metadata": {
        "colab": {
          "base_uri": "https://localhost:8080/"
        },
        "id": "bY2nCwTcTyvg",
        "outputId": "79da7659-8e34-4d1e-de62-5177c52df0d2"
      },
      "outputs": [
        {
          "output_type": "execute_result",
          "data": {
            "text/plain": [
              "1    0.5457\n",
              "0    0.4543\n",
              "Name: gender, dtype: float64"
            ]
          },
          "metadata": {},
          "execution_count": 34
        }
      ],
      "source": [
        "df.gender.value_counts(normalize=True)"
      ]
    },
    {
      "cell_type": "markdown",
      "metadata": {
        "id": "elPyK4U7Tyvh"
      },
      "source": [
        "Методом так же преобразуем geography:"
      ]
    },
    {
      "cell_type": "code",
      "execution_count": 35,
      "metadata": {
        "colab": {
          "base_uri": "https://localhost:8080/",
          "height": 204
        },
        "id": "DWUw35aYmUfF",
        "outputId": "ed2e6c88-89be-41ae-e740-9b4699a3d65a"
      },
      "outputs": [
        {
          "output_type": "execute_result",
          "data": {
            "text/plain": [
              "   credit_score  gender  age  tenure    balance  num_of_products  has_cr_card  \\\n",
              "0           619       0   42     0.2       0.00                1            1   \n",
              "1           608       0   41     0.1   83807.86                1            0   \n",
              "2           502       0   42     0.8  159660.80                3            1   \n",
              "3           699       0   39     0.1       0.00                2            0   \n",
              "4           850       0   43     0.2  125510.82                1            1   \n",
              "\n",
              "   is_active  estimated_salary  exited  germany  spain  \n",
              "0          1         101348.88       1        0      0  \n",
              "1          1         112542.58       0        0      1  \n",
              "2          0         113931.57       1        0      0  \n",
              "3          0          93826.63       0        0      0  \n",
              "4          1          79084.10       0        0      1  "
            ],
            "text/html": [
              "\n",
              "  <div id=\"df-b1b8d134-2860-4a39-a325-941a2dff596f\">\n",
              "    <div class=\"colab-df-container\">\n",
              "      <div>\n",
              "<style scoped>\n",
              "    .dataframe tbody tr th:only-of-type {\n",
              "        vertical-align: middle;\n",
              "    }\n",
              "\n",
              "    .dataframe tbody tr th {\n",
              "        vertical-align: top;\n",
              "    }\n",
              "\n",
              "    .dataframe thead th {\n",
              "        text-align: right;\n",
              "    }\n",
              "</style>\n",
              "<table border=\"1\" class=\"dataframe\">\n",
              "  <thead>\n",
              "    <tr style=\"text-align: right;\">\n",
              "      <th></th>\n",
              "      <th>credit_score</th>\n",
              "      <th>gender</th>\n",
              "      <th>age</th>\n",
              "      <th>tenure</th>\n",
              "      <th>balance</th>\n",
              "      <th>num_of_products</th>\n",
              "      <th>has_cr_card</th>\n",
              "      <th>is_active</th>\n",
              "      <th>estimated_salary</th>\n",
              "      <th>exited</th>\n",
              "      <th>germany</th>\n",
              "      <th>spain</th>\n",
              "    </tr>\n",
              "  </thead>\n",
              "  <tbody>\n",
              "    <tr>\n",
              "      <th>0</th>\n",
              "      <td>619</td>\n",
              "      <td>0</td>\n",
              "      <td>42</td>\n",
              "      <td>0.2</td>\n",
              "      <td>0.00</td>\n",
              "      <td>1</td>\n",
              "      <td>1</td>\n",
              "      <td>1</td>\n",
              "      <td>101348.88</td>\n",
              "      <td>1</td>\n",
              "      <td>0</td>\n",
              "      <td>0</td>\n",
              "    </tr>\n",
              "    <tr>\n",
              "      <th>1</th>\n",
              "      <td>608</td>\n",
              "      <td>0</td>\n",
              "      <td>41</td>\n",
              "      <td>0.1</td>\n",
              "      <td>83807.86</td>\n",
              "      <td>1</td>\n",
              "      <td>0</td>\n",
              "      <td>1</td>\n",
              "      <td>112542.58</td>\n",
              "      <td>0</td>\n",
              "      <td>0</td>\n",
              "      <td>1</td>\n",
              "    </tr>\n",
              "    <tr>\n",
              "      <th>2</th>\n",
              "      <td>502</td>\n",
              "      <td>0</td>\n",
              "      <td>42</td>\n",
              "      <td>0.8</td>\n",
              "      <td>159660.80</td>\n",
              "      <td>3</td>\n",
              "      <td>1</td>\n",
              "      <td>0</td>\n",
              "      <td>113931.57</td>\n",
              "      <td>1</td>\n",
              "      <td>0</td>\n",
              "      <td>0</td>\n",
              "    </tr>\n",
              "    <tr>\n",
              "      <th>3</th>\n",
              "      <td>699</td>\n",
              "      <td>0</td>\n",
              "      <td>39</td>\n",
              "      <td>0.1</td>\n",
              "      <td>0.00</td>\n",
              "      <td>2</td>\n",
              "      <td>0</td>\n",
              "      <td>0</td>\n",
              "      <td>93826.63</td>\n",
              "      <td>0</td>\n",
              "      <td>0</td>\n",
              "      <td>0</td>\n",
              "    </tr>\n",
              "    <tr>\n",
              "      <th>4</th>\n",
              "      <td>850</td>\n",
              "      <td>0</td>\n",
              "      <td>43</td>\n",
              "      <td>0.2</td>\n",
              "      <td>125510.82</td>\n",
              "      <td>1</td>\n",
              "      <td>1</td>\n",
              "      <td>1</td>\n",
              "      <td>79084.10</td>\n",
              "      <td>0</td>\n",
              "      <td>0</td>\n",
              "      <td>1</td>\n",
              "    </tr>\n",
              "  </tbody>\n",
              "</table>\n",
              "</div>\n",
              "      <button class=\"colab-df-convert\" onclick=\"convertToInteractive('df-b1b8d134-2860-4a39-a325-941a2dff596f')\"\n",
              "              title=\"Convert this dataframe to an interactive table.\"\n",
              "              style=\"display:none;\">\n",
              "        \n",
              "  <svg xmlns=\"http://www.w3.org/2000/svg\" height=\"24px\"viewBox=\"0 0 24 24\"\n",
              "       width=\"24px\">\n",
              "    <path d=\"M0 0h24v24H0V0z\" fill=\"none\"/>\n",
              "    <path d=\"M18.56 5.44l.94 2.06.94-2.06 2.06-.94-2.06-.94-.94-2.06-.94 2.06-2.06.94zm-11 1L8.5 8.5l.94-2.06 2.06-.94-2.06-.94L8.5 2.5l-.94 2.06-2.06.94zm10 10l.94 2.06.94-2.06 2.06-.94-2.06-.94-.94-2.06-.94 2.06-2.06.94z\"/><path d=\"M17.41 7.96l-1.37-1.37c-.4-.4-.92-.59-1.43-.59-.52 0-1.04.2-1.43.59L10.3 9.45l-7.72 7.72c-.78.78-.78 2.05 0 2.83L4 21.41c.39.39.9.59 1.41.59.51 0 1.02-.2 1.41-.59l7.78-7.78 2.81-2.81c.8-.78.8-2.07 0-2.86zM5.41 20L4 18.59l7.72-7.72 1.47 1.35L5.41 20z\"/>\n",
              "  </svg>\n",
              "      </button>\n",
              "      \n",
              "  <style>\n",
              "    .colab-df-container {\n",
              "      display:flex;\n",
              "      flex-wrap:wrap;\n",
              "      gap: 12px;\n",
              "    }\n",
              "\n",
              "    .colab-df-convert {\n",
              "      background-color: #E8F0FE;\n",
              "      border: none;\n",
              "      border-radius: 50%;\n",
              "      cursor: pointer;\n",
              "      display: none;\n",
              "      fill: #1967D2;\n",
              "      height: 32px;\n",
              "      padding: 0 0 0 0;\n",
              "      width: 32px;\n",
              "    }\n",
              "\n",
              "    .colab-df-convert:hover {\n",
              "      background-color: #E2EBFA;\n",
              "      box-shadow: 0px 1px 2px rgba(60, 64, 67, 0.3), 0px 1px 3px 1px rgba(60, 64, 67, 0.15);\n",
              "      fill: #174EA6;\n",
              "    }\n",
              "\n",
              "    [theme=dark] .colab-df-convert {\n",
              "      background-color: #3B4455;\n",
              "      fill: #D2E3FC;\n",
              "    }\n",
              "\n",
              "    [theme=dark] .colab-df-convert:hover {\n",
              "      background-color: #434B5C;\n",
              "      box-shadow: 0px 1px 3px 1px rgba(0, 0, 0, 0.15);\n",
              "      filter: drop-shadow(0px 1px 2px rgba(0, 0, 0, 0.3));\n",
              "      fill: #FFFFFF;\n",
              "    }\n",
              "  </style>\n",
              "\n",
              "      <script>\n",
              "        const buttonEl =\n",
              "          document.querySelector('#df-b1b8d134-2860-4a39-a325-941a2dff596f button.colab-df-convert');\n",
              "        buttonEl.style.display =\n",
              "          google.colab.kernel.accessAllowed ? 'block' : 'none';\n",
              "\n",
              "        async function convertToInteractive(key) {\n",
              "          const element = document.querySelector('#df-b1b8d134-2860-4a39-a325-941a2dff596f');\n",
              "          const dataTable =\n",
              "            await google.colab.kernel.invokeFunction('convertToInteractive',\n",
              "                                                     [key], {});\n",
              "          if (!dataTable) return;\n",
              "\n",
              "          const docLinkHtml = 'Like what you see? Visit the ' +\n",
              "            '<a target=\"_blank\" href=https://colab.research.google.com/notebooks/data_table.ipynb>data table notebook</a>'\n",
              "            + ' to learn more about interactive tables.';\n",
              "          element.innerHTML = '';\n",
              "          dataTable['output_type'] = 'display_data';\n",
              "          await google.colab.output.renderOutput(dataTable, element);\n",
              "          const docLink = document.createElement('div');\n",
              "          docLink.innerHTML = docLinkHtml;\n",
              "          element.appendChild(docLink);\n",
              "        }\n",
              "      </script>\n",
              "    </div>\n",
              "  </div>\n",
              "  "
            ]
          },
          "metadata": {},
          "execution_count": 35
        }
      ],
      "source": [
        "geography = pd.get_dummies(df['geography'], drop_first=True)\n",
        "df = df.drop('geography', axis=1)\n",
        "df = pd.concat([df, geography], axis=1)\n",
        "df.columns = df.columns.str.lower()\n",
        "df.head()"
      ]
    },
    {
      "cell_type": "markdown",
      "metadata": {
        "id": "sDRkNZ0KTyvj"
      },
      "source": [
        "### Подготовка непрерывных признаков"
      ]
    },
    {
      "cell_type": "markdown",
      "metadata": {
        "id": "hFaOpnNzTyvj"
      },
      "source": [
        "Для масштабирования непрерывных признаков применим StandardScaler"
      ]
    },
    {
      "cell_type": "code",
      "execution_count": 36,
      "metadata": {
        "id": "26UP90WvTyvj"
      },
      "outputs": [],
      "source": [
        "num_features = ['credit_score','age', 'balance', 'estimated_salary']"
      ]
    },
    {
      "cell_type": "markdown",
      "metadata": {
        "id": "apnp-PA-Tyvl"
      },
      "source": [
        "### Разбиение на выборки"
      ]
    },
    {
      "cell_type": "markdown",
      "metadata": {
        "id": "UZi2w9w3eggs"
      },
      "source": [
        "Так как в дальнейшем мы будем использовать кросс-валидацию, нам потребуется только обучающая и тестовая выборки. "
      ]
    },
    {
      "cell_type": "code",
      "execution_count": 37,
      "metadata": {
        "id": "9gduQEBrTyvl"
      },
      "outputs": [],
      "source": [
        "X = df.drop('exited', axis=1)\n",
        "y = df.exited"
      ]
    },
    {
      "cell_type": "code",
      "execution_count": 38,
      "metadata": {
        "id": "jrofC9RITyvm"
      },
      "outputs": [],
      "source": [
        "X_train, X_test, y_train, y_test = train_test_split(X, y, test_size=.2, random_state=42, stratify=y)"
      ]
    },
    {
      "cell_type": "markdown",
      "metadata": {
        "id": "fpcpYGnMTyvm"
      },
      "source": [
        "Проверим баланс классов в обучающей и тестовой выборках:"
      ]
    },
    {
      "cell_type": "code",
      "execution_count": 39,
      "metadata": {
        "colab": {
          "base_uri": "https://localhost:8080/"
        },
        "id": "nw6Pt3SbTyvm",
        "outputId": "dd80e218-98fc-472f-e2dd-fc2a57b88bf2"
      },
      "outputs": [
        {
          "output_type": "execute_result",
          "data": {
            "text/plain": [
              "0    0.79625\n",
              "1    0.20375\n",
              "Name: exited, dtype: float64"
            ]
          },
          "metadata": {},
          "execution_count": 39
        }
      ],
      "source": [
        "y_train.value_counts(normalize=True)"
      ]
    },
    {
      "cell_type": "code",
      "execution_count": 40,
      "metadata": {
        "colab": {
          "base_uri": "https://localhost:8080/"
        },
        "id": "_xNp_97XTyvn",
        "outputId": "49579e98-0f2c-48ff-fd62-236dc822b5dd"
      },
      "outputs": [
        {
          "output_type": "execute_result",
          "data": {
            "text/plain": [
              "0    0.7965\n",
              "1    0.2035\n",
              "Name: exited, dtype: float64"
            ]
          },
          "metadata": {},
          "execution_count": 40
        }
      ],
      "source": [
        "y_test.value_counts(normalize=True)"
      ]
    },
    {
      "cell_type": "markdown",
      "metadata": {
        "id": "fbF-MFmCTyvn"
      },
      "source": [
        "Выборки разбиты в соответствии с балансом классов изначальных данных, можно приступать к обучению."
      ]
    },
    {
      "cell_type": "markdown",
      "metadata": {
        "id": "F8m2kLZaLto2"
      },
      "source": [
        "Масштабирование признаков:"
      ]
    },
    {
      "cell_type": "code",
      "execution_count": 41,
      "metadata": {
        "id": "7ux8NCdELxYx"
      },
      "outputs": [],
      "source": [
        "scaler = StandardScaler() \n",
        "scaler.fit(X_train[num_features]) \n",
        "X_train[num_features] = scaler.transform(X_train[num_features])\n",
        "X_test[num_features] = scaler.transform(X_test[num_features])"
      ]
    },
    {
      "cell_type": "markdown",
      "metadata": {
        "id": "tD0Is-pHTyvo"
      },
      "source": [
        "## Обучение без учета дисбаланса"
      ]
    },
    {
      "cell_type": "markdown",
      "metadata": {
        "id": "t0OBrZDaTyvo"
      },
      "source": [
        "### Логистическая регрессия"
      ]
    },
    {
      "cell_type": "code",
      "execution_count": 42,
      "metadata": {
        "id": "0mPIamn_m7zr"
      },
      "outputs": [],
      "source": [
        "kfold = StratifiedKFold(n_splits=3, shuffle=True, random_state=42)"
      ]
    },
    {
      "cell_type": "markdown",
      "metadata": {
        "id": "aGrNey6ETyvo"
      },
      "source": [
        "Обучим модель с подбором гиперпараметров и кросс-валидацией на обучающей выборке:"
      ]
    },
    {
      "cell_type": "code",
      "execution_count": 43,
      "metadata": {
        "colab": {
          "base_uri": "https://localhost:8080/"
        },
        "id": "19robAlxTyvo",
        "outputId": "d26febde-1a3b-4a2e-f2d3-56095715746a"
      },
      "outputs": [
        {
          "output_type": "stream",
          "name": "stdout",
          "text": [
            "Logistic Regression best params: {'max_iter': 100, 'solver': 'lbfgs'}\n",
            "\n",
            "Logistic Regression best f1: 0.3110685484451358\n",
            "Logistic Regression best AUC: 0.7626014673325617\n"
          ]
        }
      ],
      "source": [
        "grid_params = {'max_iter': range(100, 1000, 100),\n",
        "              'solver': ['lbfgs', 'liblinear']}\n",
        "scoring = {\"AUC\": \"roc_auc\", \"F1-score\": 'f1'}\n",
        "\n",
        "lr = LogisticRegression(random_state=25, n_jobs=-1)\n",
        "grid_search_cv_lr = GridSearchCV(lr, grid_params, cv=kfold, n_jobs=-1, scoring=scoring, refit='F1-score')\n",
        "grid_search_cv_lr.fit(X_train, y_train)\n",
        "\n",
        "best_lr = grid_search_cv_lr.best_estimator_\n",
        "ix = grid_search_cv_lr.best_index_\n",
        "\n",
        "print('Logistic Regression best params:', grid_search_cv_lr.best_params_)\n",
        "print()\n",
        "print('Logistic Regression best f1:', grid_search_cv_lr.best_score_)\n",
        "print('Logistic Regression best AUC:', grid_search_cv_lr.cv_results_['mean_test_AUC'][ix])"
      ]
    },
    {
      "cell_type": "markdown",
      "metadata": {
        "id": "ddvFO82LTyvr"
      },
      "source": [
        "Логистическая регрессия без учета дисбаланса показала очень слабый результат: метрика F1 крайне низкая, а ROC AUC не сильно выше 0.5. Очевидно, что такая модель не подходит для использования."
      ]
    },
    {
      "cell_type": "markdown",
      "metadata": {
        "id": "WtenF7HPTyvr"
      },
      "source": [
        "### Случайный лес"
      ]
    },
    {
      "cell_type": "markdown",
      "metadata": {
        "id": "lQX0Cfn3Tyvr"
      },
      "source": [
        "Обучим модель с подбором гиперпараметров и кросс-валидацией на обучающей выборке:"
      ]
    },
    {
      "cell_type": "code",
      "execution_count": 44,
      "metadata": {
        "colab": {
          "base_uri": "https://localhost:8080/"
        },
        "id": "2rfHMGeETyvr",
        "outputId": "844eab41-7daf-4140-aff8-c7ecd3af996a"
      },
      "outputs": [
        {
          "output_type": "stream",
          "name": "stdout",
          "text": [
            "Random Forest best params: {'max_depth': 12, 'min_samples_leaf': 1, 'min_samples_split': 4, 'n_estimators': 50}\n",
            "\n",
            "Random Forest best f1: 0.5709814088838335\n",
            "Random Forest best AUC: 0.8518034522676629\n"
          ]
        }
      ],
      "source": [
        "grid_params = {'min_samples_split': [2,4],\n",
        "               'min_samples_leaf': [1,2],\n",
        "              'n_estimators':[50,75,100,200,400],\n",
        "              'max_depth':[4,6,8,12],\n",
        "               }\n",
        "scoring = {\"AUC\": \"roc_auc\", \"F1-score\": 'f1'}\n",
        "\n",
        "rf = RandomForestClassifier(random_state=42, n_jobs=-1)\n",
        "grid_search_cv_rf = GridSearchCV(rf, grid_params, cv=kfold, n_jobs=-1, scoring=scoring, refit='F1-score')\n",
        "grid_search_cv_rf.fit(X_train, y_train)\n",
        "\n",
        "best_rf = grid_search_cv_rf.best_estimator_\n",
        "ix = grid_search_cv_rf.best_index_\n",
        "\n",
        "print('Random Forest best params:', grid_search_cv_rf.best_params_)\n",
        "print()\n",
        "print('Random Forest best f1:', grid_search_cv_rf.best_score_)\n",
        "print('Random Forest best AUC:', grid_search_cv_rf.cv_results_['mean_test_AUC'][ix])\n",
        "\n"
      ]
    },
    {
      "cell_type": "markdown",
      "metadata": {
        "id": "q7DGhL6WmniA"
      },
      "source": [
        "Случайный лес немного лучше лог регрессии, хотя все равно F1 очень низкий."
      ]
    },
    {
      "cell_type": "markdown",
      "metadata": {
        "id": "nlYqPtFtl3CD"
      },
      "source": [
        "Посмотрим на важность признаков по которым модель принимает решения:"
      ]
    },
    {
      "cell_type": "code",
      "execution_count": 45,
      "metadata": {
        "colab": {
          "base_uri": "https://localhost:8080/",
          "height": 393
        },
        "id": "9GXkc-GrTyvs",
        "outputId": "78f454d5-4b1d-4007-f8cc-9bf228a814f1"
      },
      "outputs": [
        {
          "output_type": "display_data",
          "data": {
            "text/plain": [
              "<Figure size 864x432 with 1 Axes>"
            ],
            "image/png": "[encoded data removed]"
          },
          "metadata": {}
        }
      ],
      "source": [
        "sort = best_rf.feature_importances_.argsort()\n",
        "plt.barh(X_train.columns[sort], best_rf.feature_importances_[sort])\n",
        "plt.title('Random Forest Feature Importances');"
      ]
    },
    {
      "cell_type": "markdown",
      "metadata": {
        "id": "hLjEhhOaTyvs"
      },
      "source": [
        "### XGBoost"
      ]
    },
    {
      "cell_type": "code",
      "execution_count": 46,
      "metadata": {
        "colab": {
          "base_uri": "https://localhost:8080/"
        },
        "id": "_ne7ZY1JTyvs",
        "outputId": "4cb65d03-2453-475c-aca2-011aa05aedbe"
      },
      "outputs": [
        {
          "output_type": "stream",
          "name": "stdout",
          "text": [
            "XGBoost best params: {'colsample_bylevel': 0.8, 'colsample_bynode': 0.8, 'colsample_bytree': 0.95, 'learning_rate': 0.1, 'max_depth': 8, 'n_estimators': 95}\n",
            "\n",
            "XGBoost best f1: 0.5823574552551425\n",
            "XGBoost best AUC: 0.8510815473519769\n"
          ]
        }
      ],
      "source": [
        "grid_params = {'max_depth': [2,4,8,12],\n",
        "             'n_estimators': [75,85,95],\n",
        "             'colsample_bylevel':[0.8],\n",
        "             'colsample_bynode':[0.8],\n",
        "             'colsample_bytree':[0.95],\n",
        "             'learning_rate':[0.01, 0.1]\n",
        "             }\n",
        "scoring = {\"AUC\": \"roc_auc\", \"F1-score\": 'f1'}\n",
        "\n",
        "clf = XGBClassifier(random_state=42, verbosity=0)\n",
        "grid_search_xgb = GridSearchCV(estimator=clf, param_grid=grid_params, cv=kfold, n_jobs=-1, scoring=scoring, refit='F1-score')\n",
        "\n",
        "grid_search_xgb.fit(X_train, y_train)\n",
        "\n",
        "best_xgb= grid_search_xgb.best_estimator_\n",
        "ix = grid_search_xgb.best_index_\n",
        "\n",
        "print('XGBoost best params:', grid_search_xgb.best_params_)\n",
        "print()\n",
        "print('XGBoost best f1:', grid_search_xgb.best_score_)\n",
        "print('XGBoost best AUC:', grid_search_xgb.cv_results_['mean_test_AUC'][ix])"
      ]
    },
    {
      "cell_type": "markdown",
      "metadata": {
        "id": "tS2As0VjmwWi"
      },
      "source": [
        "XGBoost приблизился к целевому показателю метрики F1, но все равно еще требует корректировки."
      ]
    },
    {
      "cell_type": "code",
      "execution_count": 47,
      "metadata": {
        "colab": {
          "base_uri": "https://localhost:8080/",
          "height": 393
        },
        "id": "mBuRMLCflvKb",
        "outputId": "d3e30176-ada7-4173-977f-bcb1a79f4a68"
      },
      "outputs": [
        {
          "output_type": "display_data",
          "data": {
            "text/plain": [
              "<Figure size 864x432 with 1 Axes>"
            ],
            "image/png": "[encoded data removed]"
          },
          "metadata": {}
        }
      ],
      "source": [
        "sort = best_xgb.feature_importances_.argsort()\n",
        "plt.barh(X_train.columns[sort], best_xgb.feature_importances_[sort])\n",
        "plt.title('XGB Feature Importances');"
      ]
    },
    {
      "cell_type": "markdown",
      "metadata": {
        "id": "REJlmfkPcDWg"
      },
      "source": [
        "## Борьба с дисбалансом"
      ]
    },
    {
      "cell_type": "markdown",
      "metadata": {
        "id": "JRMdaVoVTyvu"
      },
      "source": [
        "### Изменение порога принятия решения"
      ]
    },
    {
      "cell_type": "markdown",
      "metadata": {
        "id": "D6ex_kvKnE8I"
      },
      "source": [
        "Посмотрим как можно изменить порог принятия решения для случайного леса."
      ]
    },
    {
      "cell_type": "markdown",
      "metadata": {
        "id": "Cfu5aRB9eul5"
      },
      "source": [
        "А вот здесь нам все-таки понадобится валидационная выборка:"
      ]
    },
    {
      "cell_type": "code",
      "execution_count": 48,
      "metadata": {
        "colab": {
          "base_uri": "https://localhost:8080/"
        },
        "id": "Yh7GxCAaewQB",
        "outputId": "9a76fc0d-6ac7-448c-92d4-4cf13d755ad3"
      },
      "outputs": [
        {
          "output_type": "stream",
          "name": "stdout",
          "text": [
            "Валидационная выборка (1000, 11)\n",
            "Тестовая выборка (1000, 11)\n"
          ]
        }
      ],
      "source": [
        "X_valid, X_test_thr, y_valid, y_test_thr = train_test_split(X_test, y_test, test_size=.5, \n",
        "                                                            random_state=42, stratify=y_test)\n",
        "print('Валидационная выборка', X_valid.shape)\n",
        "print('Тестовая выборка', X_test_thr.shape)"
      ]
    },
    {
      "cell_type": "markdown",
      "metadata": {
        "id": "pV3ZVoVTTyvu"
      },
      "source": [
        "#### Лучший порог на ROC кривой"
      ]
    },
    {
      "cell_type": "code",
      "execution_count": 49,
      "metadata": {
        "id": "wzuUlV8TTyvu"
      },
      "outputs": [],
      "source": [
        "sns.set(rc={'figure.figsize':(8,8)}, style=\"darkgrid\")"
      ]
    },
    {
      "cell_type": "markdown",
      "metadata": {
        "id": "rNXhIsXffA19"
      },
      "source": [
        "Посчитаем метрику G-mean по формуле G-Mean = sqrt(Sensitivity * Specificity), чтобы найти идеальный баланс TPR и FPR.\n",
        "\n",
        "Sensitivity = TPR\n",
        "\n",
        "Specificity = 1 - FPR\n",
        "\n",
        "Далее найдем максимальное значение этой метрики и отобразим все на графике:"
      ]
    },
    {
      "cell_type": "code",
      "execution_count": 50,
      "metadata": {
        "colab": {
          "base_uri": "https://localhost:8080/",
          "height": 535
        },
        "id": "JUwHWT0LTyvv",
        "outputId": "098b2f08-d736-4c1d-d17d-de39f7695a8e"
      },
      "outputs": [
        {
          "output_type": "stream",
          "name": "stdout",
          "text": [
            "Best Threshold= 0.23994728866043172\n"
          ]
        },
        {
          "output_type": "display_data",
          "data": {
            "text/plain": [
              "<Figure size 576x576 with 1 Axes>"
            ],
            "image/png": "[encoded data removed]"
          },
          "metadata": {}
        }
      ],
      "source": [
        "y_pred_proba = best_rf.predict_proba(X_valid)[:,1]\n",
        "fpr, tpr, thresholds = roc_curve(y_valid, y_pred_proba)\n",
        "gmeans = np.sqrt(tpr * (1-fpr))\n",
        "ix = np.argmax(gmeans)\n",
        "best_threshold = thresholds[ix]\n",
        "print('Best Threshold=',best_threshold)\n",
        "\n",
        "plt.plot([0,1], [0,1], linestyle='--')\n",
        "plt.plot(fpr, tpr, marker='.', label='Logistic')\n",
        "plt.scatter(fpr[ix], tpr[ix], marker='s', color='black', label='Best')\n",
        "plt.xlabel('False Positive Rate')\n",
        "plt.ylabel('True Positive Rate')\n",
        "plt.title('ROC кривая')\n",
        "plt.legend()\n",
        "plt.show()"
      ]
    },
    {
      "cell_type": "markdown",
      "metadata": {
        "id": "54mN-3dIfEVn"
      },
      "source": [
        "Порог принятия решения при котором достигается оптимальный баланс TPR и FPR найден, теперь сделаем предсказания на валидационной выборке и посмотрим метрики F1 и ROC-AUC:"
      ]
    },
    {
      "cell_type": "code",
      "execution_count": 51,
      "metadata": {
        "colab": {
          "base_uri": "https://localhost:8080/"
        },
        "id": "rlbaavmDTyvv",
        "outputId": "9a5f0a7a-205f-42fd-ef42-07aac3c7b755"
      },
      "outputs": [
        {
          "output_type": "stream",
          "name": "stdout",
          "text": [
            "Random Forest valid Accuracy: 0.817\n",
            "Random Forest valid F1-score 0.6257668711656442\n",
            "Random Forest valid ROC-AUC 0.8613163858508226\n"
          ]
        }
      ],
      "source": [
        "y_pred_new_trhd = (y_pred_proba >= best_threshold) * 1\n",
        "\n",
        "print('Random Forest valid Accuracy:', accuracy_score(y_valid, y_pred_new_trhd))\n",
        "print('Random Forest valid F1-score', f1_score(y_valid, y_pred_new_trhd))\n",
        "print('Random Forest valid ROC-AUC', roc_auc_score(y_valid, y_pred_proba))"
      ]
    },
    {
      "cell_type": "markdown",
      "metadata": {
        "id": "g1o68wO6Tyvw"
      },
      "source": [
        "#### Определение порога по PR кривой (через F1-score)"
      ]
    },
    {
      "cell_type": "code",
      "execution_count": 52,
      "metadata": {
        "colab": {
          "base_uri": "https://localhost:8080/",
          "height": 535
        },
        "id": "4ew7cuPUTyvw",
        "outputId": "82f32062-8d49-4b7a-ac19-3c8c6a070c32"
      },
      "outputs": [
        {
          "output_type": "stream",
          "name": "stdout",
          "text": [
            "Best Threshold=0.3469638215842148:.f, F1-Score=0.6531645569620254:.3f\n"
          ]
        },
        {
          "output_type": "display_data",
          "data": {
            "text/plain": [
              "<Figure size 576x576 with 1 Axes>"
            ],
            "image/png": "[encoded data removed]"
          },
          "metadata": {}
        }
      ],
      "source": [
        "prec, rec, thresholds = precision_recall_curve(y_valid, y_pred_proba)\n",
        "\n",
        "fscore = (2 * prec * rec) / (prec + rec)\n",
        "ix = np.argmax(fscore)\n",
        "print(f'Best Threshold={thresholds[ix]}:.f, F1-Score={fscore[ix]}:.3f')\n",
        "plt.plot(rec, prec)\n",
        "plt.scatter(rec[ix], prec[ix], marker='s', color='black', label='Best')\n",
        "\n",
        "plt.xlabel('Recall')\n",
        "plt.ylabel('Precision')\n",
        "plt.title('Precision-Recall кривая')\n",
        "plt.show()"
      ]
    },
    {
      "cell_type": "code",
      "execution_count": 53,
      "metadata": {
        "colab": {
          "base_uri": "https://localhost:8080/"
        },
        "id": "cFwwMJKfTyvx",
        "outputId": "42e1a4f0-1214-4be2-be1a-86ad84536892"
      },
      "outputs": [
        {
          "output_type": "stream",
          "name": "stdout",
          "text": [
            "Random Forest Accuracy: 0.863\n",
            "Random Forest F1-score 0.6531645569620254\n",
            "Random Forest ROC-AUC 0.8613163858508226\n"
          ]
        }
      ],
      "source": [
        "best_threshold = thresholds[ix]\n",
        "y_pred_new_trhd = (y_pred_proba >= best_threshold) * 1\n",
        "print('Random Forest Accuracy:', accuracy_score(y_valid, y_pred_new_trhd))\n",
        "print('Random Forest F1-score', f1_score(y_valid, y_pred_new_trhd))\n",
        "print('Random Forest ROC-AUC', roc_auc_score(y_valid, y_pred_proba))"
      ]
    },
    {
      "cell_type": "markdown",
      "metadata": {
        "id": "QsUF6XLtm7ii"
      },
      "source": [
        "Значительно удалось увеличить метрики для случайного леса при помощи изменения порога принятия решения.\n",
        "\n",
        "Однако стоит учесть что для этого пришлось использовать данные валидационной выборки и тем самым подстроиться под нее. Нельзя утверждать что на новых незнакомых данных модель покажет такие же высокие показатели или близкие к ним."
      ]
    },
    {
      "cell_type": "markdown",
      "metadata": {
        "id": "ukllTC_eTyvy"
      },
      "source": [
        "### Борьба с дисбалансом при помощи метода upsampling"
      ]
    },
    {
      "cell_type": "markdown",
      "metadata": {
        "id": "UNmdLTkzzKNZ"
      },
      "source": [
        "Сбалансируем обучающую выборку методом upsampling чтобы классы были представлены более равнозначно:"
      ]
    },
    {
      "cell_type": "code",
      "execution_count": 54,
      "metadata": {
        "id": "evJOcqeTTyvz"
      },
      "outputs": [],
      "source": [
        "def upsample(X, y, repeat):\n",
        "    X_0 = X[y == 0]\n",
        "    X_1 = X[y == 1]\n",
        "    y_0 = y[y == 0]\n",
        "    y_1 = y[y == 1]\n",
        "\n",
        "    X_upsampled = pd.concat([X_0] + [X_1] * repeat)\n",
        "    y_upsampled = pd.concat([y_0] + [y_1] * repeat)\n",
        "    \n",
        "    X_upsampled, y_upsampled = shuffle(X_upsampled, y_upsampled, random_state=42)\n",
        "    \n",
        "    return X_upsampled, y_upsampled\n",
        "\n"
      ]
    },
    {
      "cell_type": "markdown",
      "metadata": {
        "id": "TBJchHaKTyvz"
      },
      "source": [
        "#### Логистическая регрессия"
      ]
    },
    {
      "cell_type": "code",
      "execution_count": 56,
      "metadata": {
        "id": "lyBEtwy7NZ3c"
      },
      "outputs": [],
      "source": [
        "X_train_temp, X_valid_temp, y_train_temp, y_valid_temp = train_test_split(X_train, y_train, test_size=.2, random_state=42)"
      ]
    },
    {
      "cell_type": "code",
      "execution_count": 57,
      "metadata": {
        "id": "BNObHx6lPXUu"
      },
      "outputs": [],
      "source": [
        "X_train_temp, y_train_temp = upsample(X_train_temp, y_train_temp, 4)"
      ]
    },
    {
      "cell_type": "code",
      "execution_count": 58,
      "metadata": {
        "id": "Z1TyFQGDPuAN"
      },
      "outputs": [],
      "source": [
        "X_train_up = pd.concat([X_train_temp, X_valid_temp])\n",
        "y_train_up = pd.concat([y_train_temp, y_valid_temp])"
      ]
    },
    {
      "cell_type": "code",
      "execution_count": 59,
      "metadata": {
        "id": "ZjmHHBgeRSWm"
      },
      "outputs": [],
      "source": [
        "test_fold = [0 if x in X_valid_temp.index else -1 for x in X_train_up.index ]"
      ]
    },
    {
      "cell_type": "code",
      "execution_count": 60,
      "metadata": {
        "id": "fubQi4qSc3XT"
      },
      "outputs": [],
      "source": [
        "ps = PredefinedSplit(test_fold)"
      ]
    },
    {
      "cell_type": "code",
      "execution_count": 61,
      "metadata": {
        "colab": {
          "base_uri": "https://localhost:8080/"
        },
        "id": "xCraOthodd-b",
        "outputId": "0cb090fe-b405-4591-fe92-0e1f38e1ffba"
      },
      "outputs": [
        {
          "output_type": "stream",
          "name": "stdout",
          "text": [
            "Logistic Regression best params: {'max_iter': 100, 'solver': 'liblinear'}\n",
            "\n",
            "Logistic Regression best f1: 0.47754654983570644\n",
            "Logistic Regression best AUC: 0.7610387482591956\n"
          ]
        }
      ],
      "source": [
        "grid_params = {'max_iter': range(100, 1000, 100),\n",
        "              'solver': ['lbfgs', 'liblinear']}\n",
        "scoring = {\"AUC\": \"roc_auc\", \"F1-score\": 'f1'}\n",
        "\n",
        "lr = LogisticRegression(random_state=25, n_jobs=-1)\n",
        "grid_search_cv_lr = GridSearchCV(lr, grid_params, cv=ps, n_jobs=-1, scoring=scoring, refit='F1-score')\n",
        "grid_search_cv_lr.fit(X_train_up, y_train_up)\n",
        "\n",
        "best_lr = grid_search_cv_lr.best_estimator_\n",
        "ix = grid_search_cv_lr.best_index_\n",
        "\n",
        "print('Logistic Regression best params:', grid_search_cv_lr.best_params_)\n",
        "print()\n",
        "print('Logistic Regression best f1:', grid_search_cv_lr.best_score_)\n",
        "print('Logistic Regression best AUC:', grid_search_cv_lr.cv_results_['mean_test_AUC'][ix])"
      ]
    },
    {
      "cell_type": "markdown",
      "metadata": {
        "id": "Xtz4KsGJTyv1"
      },
      "source": [
        "#### Случайный лес"
      ]
    },
    {
      "cell_type": "code",
      "execution_count": 62,
      "metadata": {
        "colab": {
          "base_uri": "https://localhost:8080/"
        },
        "id": "R3d6MBLPTyv1",
        "outputId": "81d6aef1-834a-4743-fc34-fe1627f1a4d0"
      },
      "outputs": [
        {
          "output_type": "stream",
          "name": "stdout",
          "text": [
            "Random Forest best params: {'max_depth': 12, 'min_samples_leaf': 1, 'min_samples_split': 2, 'n_estimators': 50}\n",
            "\n",
            "Random Forest best f1: 0.6228070175438597\n",
            "Random Forest best AUC: 0.8587323219911078\n"
          ]
        }
      ],
      "source": [
        "grid_params = {'min_samples_split': [2,4],\n",
        "               'min_samples_leaf': [1,2],\n",
        "              'n_estimators':[50,75,100,200,400],\n",
        "              'max_depth':[4,6,8,12],\n",
        "               }\n",
        "scoring = {\"AUC\": \"roc_auc\", \"F1-score\": 'f1'}\n",
        "\n",
        "rf = RandomForestClassifier(random_state=42, n_jobs=-1)\n",
        "grid_search_cv_rf = GridSearchCV(rf, grid_params, cv=ps, n_jobs=-1, scoring=scoring, refit='F1-score')\n",
        "grid_search_cv_rf.fit(X_train_up, y_train_up)\n",
        "\n",
        "best_rf = grid_search_cv_rf.best_estimator_\n",
        "ix = grid_search_cv_rf.best_index_\n",
        "\n",
        "print('Random Forest best params:', grid_search_cv_rf.best_params_)\n",
        "print()\n",
        "print('Random Forest best f1:', grid_search_cv_rf.best_score_)\n",
        "print('Random Forest best AUC:', grid_search_cv_rf.cv_results_['mean_test_AUC'][ix])\n",
        "\n"
      ]
    },
    {
      "cell_type": "markdown",
      "metadata": {
        "id": "l6k5Ahl_Tyv1"
      },
      "source": [
        "#### XGBoost"
      ]
    },
    {
      "cell_type": "code",
      "execution_count": 63,
      "metadata": {
        "colab": {
          "base_uri": "https://localhost:8080/"
        },
        "id": "rE-fZLtRTyv2",
        "outputId": "76004c5e-a48c-4a0c-d657-a11277658919"
      },
      "outputs": [
        {
          "output_type": "stream",
          "name": "stdout",
          "text": [
            "XGBoost best params: {'colsample_bylevel': 0.8, 'colsample_bynode': 1, 'colsample_bytree': 1, 'learning_rate': 0.1, 'max_depth': 8, 'n_estimators': 85}\n",
            "\n",
            "XGBoost best f1: 0.6051873198847264\n",
            "XGBoost best AUC: 0.8568456747370486\n"
          ]
        }
      ],
      "source": [
        "grid_params = {'max_depth': [2,4,8,12],\n",
        "             'n_estimators': [75,85,95],\n",
        "             'colsample_bylevel':[0.8,1],\n",
        "             'colsample_bynode':[0.8,1],\n",
        "             'colsample_bytree':[0.95,1],\n",
        "             'learning_rate':[0.01, 0.1]\n",
        "             }\n",
        "scoring = {\"AUC\": \"roc_auc\", \"F1-score\": 'f1'}\n",
        "\n",
        "clf = XGBClassifier(random_state=42, verbosity=0)\n",
        "grid_search_xgb = GridSearchCV(estimator=clf, param_grid=grid_params, cv=ps, n_jobs=-1, scoring=scoring, refit='F1-score')\n",
        "\n",
        "grid_search_xgb.fit(X_train_up, y_train_up)\n",
        "\n",
        "best_xgb= grid_search_xgb.best_estimator_\n",
        "ix = grid_search_xgb.best_index_\n",
        "\n",
        "print('XGBoost best params:', grid_search_xgb.best_params_)\n",
        "print()\n",
        "print('XGBoost best f1:', grid_search_xgb.best_score_)\n",
        "print('XGBoost best AUC:', grid_search_xgb.cv_results_['mean_test_AUC'][ix])"
      ]
    },
    {
      "cell_type": "markdown",
      "metadata": {
        "id": "c340o6Sg4Vb6"
      },
      "source": [
        "Так как мы изменили баланс классов(а по сути изменили данные), то вполне ожидаемо, что метрики находятся на высочайшем уровне. Необходимо проверить как поведут себя модели на валидации:"
      ]
    },
    {
      "cell_type": "code",
      "execution_count": 64,
      "metadata": {
        "colab": {
          "base_uri": "https://localhost:8080/"
        },
        "id": "aaZUmuR64sQP",
        "outputId": "98011a75-b539-46bc-f569-f8546490f5e2"
      },
      "outputs": [
        {
          "output_type": "stream",
          "name": "stdout",
          "text": [
            "Logistic Regression Validation Upsampled f1: 0.5223880597014925\n",
            "Logistic Regression Validation Upsampled AUC: 0.7859025519755641\n",
            "\n",
            "Random Forest Validation Upsampled f1: 0.625\n",
            "Random Forest Validation Upsampled AUC: 0.8603433835845895\n",
            "\n",
            "XGBoost Validation Upsampled f1: 0.6264501160092808\n",
            "XGBoost Validation Upsampled AUC: 0.8543760469011724\n"
          ]
        }
      ],
      "source": [
        "print('Logistic Regression Validation Upsampled f1:', f1_score(y_valid, best_lr.predict(X_valid)))\n",
        "print('Logistic Regression Validation Upsampled AUC:', roc_auc_score(y_valid, best_lr.predict_proba(X_valid)[:,1]))\n",
        "print()\n",
        "print('Random Forest Validation Upsampled f1:', f1_score(y_valid, best_rf.predict(X_valid)))\n",
        "print('Random Forest Validation Upsampled AUC:', roc_auc_score(y_valid, best_rf.predict_proba(X_valid)[:,1]))\n",
        "print()\n",
        "print('XGBoost Validation Upsampled f1:', f1_score(y_valid, best_xgb.predict(X_valid)))\n",
        "print('XGBoost Validation Upsampled AUC:', roc_auc_score(y_valid, best_xgb.predict_proba(X_valid)[:,1]))"
      ]
    },
    {
      "cell_type": "markdown",
      "metadata": {
        "id": "PzTDbyYanv5u"
      },
      "source": [
        "На валидационной выборке модели показали себя значительно хуже чем на данных, которые были изменены и ребалансированнны. Разница в метриках на обучающих и валидационных данных свидетельствует о переобучении моделей."
      ]
    },
    {
      "cell_type": "markdown",
      "metadata": {
        "id": "gG73e1aITyv2"
      },
      "source": [
        "### Борьба с дисбалансом при помощи изменения весов классов"
      ]
    },
    {
      "cell_type": "markdown",
      "metadata": {
        "id": "WE74zKS8Tyv2"
      },
      "source": [
        "#### Логистическая регрессия"
      ]
    },
    {
      "cell_type": "code",
      "execution_count": 65,
      "metadata": {
        "colab": {
          "base_uri": "https://localhost:8080/"
        },
        "id": "EwmDdnm5Tyv3",
        "outputId": "efa13e00-fe2c-4d42-ec0d-48a33ed9b43d"
      },
      "outputs": [
        {
          "output_type": "stream",
          "name": "stdout",
          "text": [
            "Logistic Regression best params: {'max_iter': 100, 'solver': 'lbfgs'}\n",
            "\n",
            "Logistic Regression best f1: 0.681587492482421\n",
            "Logistic Regression best AUC: 0.7679477796881645\n"
          ]
        }
      ],
      "source": [
        "grid_params = {'max_iter': range(100, 1000, 100),\n",
        "              'solver': ['lbfgs', 'liblinear']}\n",
        "scoring = {\"AUC\": \"roc_auc\", \"F1-score\": 'f1'}\n",
        "\n",
        "lr = LogisticRegression(random_state=25, n_jobs=-1, class_weight='balanced')\n",
        "grid_search_cv_lr = GridSearchCV(lr, grid_params, cv=kfold, n_jobs=-1, scoring=scoring, refit='F1-score')\n",
        "grid_search_cv_lr.fit(X_train_up, y_train_up)\n",
        "\n",
        "best_lr = grid_search_cv_lr.best_estimator_\n",
        "ix = grid_search_cv_lr.best_index_\n",
        "\n",
        "print('Logistic Regression best params:', grid_search_cv_lr.best_params_)\n",
        "print()\n",
        "print('Logistic Regression best f1:', grid_search_cv_lr.best_score_)\n",
        "print('Logistic Regression best AUC:', grid_search_cv_lr.cv_results_['mean_test_AUC'][ix])"
      ]
    },
    {
      "cell_type": "markdown",
      "metadata": {
        "id": "MHpvsmnXTyv3"
      },
      "source": [
        "#### Random Forest"
      ]
    },
    {
      "cell_type": "code",
      "execution_count": 66,
      "metadata": {
        "colab": {
          "base_uri": "https://localhost:8080/"
        },
        "id": "0NO7_BdyTyv3",
        "outputId": "7ed8e011-686a-45e8-9331-bcab0f1f7f78"
      },
      "outputs": [
        {
          "output_type": "stream",
          "name": "stdout",
          "text": [
            "Random Forest best params: {'class_weight': {0: 1, 1: 4}, 'max_depth': 10, 'min_samples_split': 2, 'n_estimators': 400}\n",
            "\n",
            "Random Forest best f1: 0.6122280519933558\n",
            "Random Forest best AUC: 0.8556067612383268\n"
          ]
        }
      ],
      "source": [
        "grid_params = {'min_samples_split': [2],\n",
        "              'n_estimators':[50,75,100,200,400],\n",
        "              'max_depth':[10,12,16],\n",
        "               'class_weight': [{0:1, 1:2}, {0:1, 1:4}, {0:1, 1:6}]}\n",
        "scoring = {\"AUC\": \"roc_auc\", \"F1-score\": 'f1'}\n",
        "\n",
        "rf = RandomForestClassifier(random_state=42, n_jobs=-1)\n",
        "grid_search_cv_rf = GridSearchCV(rf, grid_params, cv=kfold, n_jobs=-1, scoring=scoring, refit='F1-score')\n",
        "grid_search_cv_rf.fit(X_train, y_train)\n",
        "\n",
        "best_rf = grid_search_cv_rf.best_estimator_\n",
        "ix = grid_search_cv_rf.best_index_\n",
        "\n",
        "print('Random Forest best params:', grid_search_cv_rf.best_params_)\n",
        "print()\n",
        "print('Random Forest best f1:', grid_search_cv_rf.best_score_)\n",
        "print('Random Forest best AUC:', grid_search_cv_rf.cv_results_['mean_test_AUC'][ix])"
      ]
    },
    {
      "cell_type": "markdown",
      "metadata": {
        "id": "DGujCywLTyv4"
      },
      "source": [
        "#### XGBoost"
      ]
    },
    {
      "cell_type": "code",
      "execution_count": 67,
      "metadata": {
        "id": "xyZT81z4Tyv4"
      },
      "outputs": [],
      "source": [
        "grid_params = {'max_depth': [2,4,8,12],\n",
        "             'n_estimators': [75,85,95],\n",
        "             'colsample_bylevel':[0.8,1],\n",
        "             'colsample_bynode':[0.8,1],\n",
        "             'colsample_bytree':[0.95,1],\n",
        "             'learning_rate':[0.01, 0.1],\n",
        "             'scale_pos_weight': [2,3]\n",
        "             }\n",
        "scoring = {\"AUC\": \"roc_auc\", \"F1-score\": 'f1'}"
      ]
    },
    {
      "cell_type": "code",
      "execution_count": 68,
      "metadata": {
        "colab": {
          "base_uri": "https://localhost:8080/"
        },
        "id": "7aZR1S0sTyv4",
        "outputId": "f0739f49-9d01-4bf3-d57b-c55ee64b231b"
      },
      "outputs": [
        {
          "output_type": "stream",
          "name": "stdout",
          "text": [
            "Best XGB params {'colsample_bylevel': 0.8, 'colsample_bynode': 1, 'colsample_bytree': 0.95, 'learning_rate': 0.1, 'max_depth': 4, 'n_estimators': 75, 'scale_pos_weight': 2}\n",
            "Best XGB F1 0.6247855498405959\n"
          ]
        }
      ],
      "source": [
        "xgb_cl = XGBClassifier(verbosity=0, random_state=42)\n",
        "grid_cv_xgb = GridSearchCV(xgb_cl, grid_params, n_jobs=-1, cv=kfold, scoring=scoring, refit='F1-score')\n",
        "grid_cv_xgb.fit(X_train, y_train)\n",
        "print('Best XGB params', grid_cv_xgb.best_params_)\n",
        "print('Best XGB F1', grid_cv_xgb.best_score_)"
      ]
    },
    {
      "cell_type": "code",
      "execution_count": 69,
      "metadata": {
        "colab": {
          "base_uri": "https://localhost:8080/"
        },
        "id": "w-rWOaCXTyv5",
        "outputId": "39460309-eff6-42b0-eee3-6d9eee84c2d5"
      },
      "outputs": [
        {
          "output_type": "stream",
          "name": "stdout",
          "text": [
            "XGBoost best params: {'colsample_bylevel': 0.8, 'colsample_bynode': 1, 'colsample_bytree': 0.95, 'learning_rate': 0.1, 'max_depth': 4, 'n_estimators': 75, 'scale_pos_weight': 2}\n",
            "\n",
            "XGBoost best F1: 0.6247855498405959\n",
            "XGBoost best AUC: 0.8624610712828235\n"
          ]
        }
      ],
      "source": [
        "best_xgb= grid_cv_xgb.best_estimator_\n",
        "ix = grid_cv_xgb.best_index_\n",
        "\n",
        "print('XGBoost best params:', grid_cv_xgb.best_params_)\n",
        "print()\n",
        "print('XGBoost best F1:', grid_cv_xgb.best_score_)\n",
        "print('XGBoost best AUC:', grid_cv_xgb.cv_results_['mean_test_AUC'][ix])"
      ]
    },
    {
      "cell_type": "markdown",
      "metadata": {
        "id": "XVPYwJTccDT2"
      },
      "source": [
        "## Тестирование модели"
      ]
    },
    {
      "cell_type": "markdown",
      "metadata": {
        "id": "N7li3Tu5eNwh"
      },
      "source": [
        "Протестируем модель показавшую лучшие результаты на валидации:"
      ]
    },
    {
      "cell_type": "code",
      "execution_count": 70,
      "metadata": {
        "colab": {
          "base_uri": "https://localhost:8080/"
        },
        "id": "KxAyoRgLeNDf",
        "outputId": "44fcb2a9-35b3-4865-b803-7a7804eb9e8f"
      },
      "outputs": [
        {
          "output_type": "stream",
          "name": "stdout",
          "text": [
            "XGBoost Accuracy: 0.856\n",
            "XGBoost F1: 0.634517766497462\n",
            "XGBoost AUC: 0.8724263554772029\n"
          ]
        }
      ],
      "source": [
        "print('XGBoost Accuracy:', accuracy_score(y_test, best_xgb.predict(X_test)))\n",
        "print('XGBoost F1:', f1_score(y_test, best_xgb.predict(X_test)))\n",
        "print('XGBoost AUC:', roc_auc_score(y_test, best_xgb.predict_proba(X_test)[:,1]))"
      ]
    },
    {
      "cell_type": "markdown",
      "metadata": {
        "id": "VlyOpaL-cDR4"
      },
      "source": [
        "## Итоговый вывод:\n",
        "\n",
        "1. Были проанализированны данные клиентов банка расторгнувших или не расторгнувших договор. Клиентов, расторгнувших договор, гораздо меньше чем тех кто остался.\n",
        "2. Признаками для обучения предсказательной модели были такие параметры как пол, возраст, страна проживания, предположительный доход, количество продуктов и др.\n",
        "3. Для борьбы с дисбалансом классов использовались методы: изменение порога принятия решения, upsampling и подбор весов классов. Все методы показали достаточную эффективность, но на upsampling  модели очевидно переобучились, а при изменении порога принятия решения мы подстраивались под валидационные данные, что не очень хорошо в контексте будущих новых данных.\n",
        "4. Наилучшие результаты показала модель XGBoost с показателями f1 = 0.6345 и roc auc = 0.8724"
      ]
    },
    {
      "cell_type": "code",
      "source": [],
      "metadata": {
        "id": "jC3INBgE46nR"
      },
      "execution_count": null,
      "outputs": []
    }
  ],
  "metadata": {
    "ExecuteTimeLog": [
      {
        "duration": 1564,
        "start_time": "2022-09-03T08:27:26.052Z"
      },
      {
        "duration": 4,
        "start_time": "2022-09-03T08:27:27.619Z"
      },
      {
        "duration": 79,
        "start_time": "2022-09-03T08:27:27.810Z"
      },
      {
        "duration": 5,
        "start_time": "2022-09-03T08:27:28.227Z"
      },
      {
        "duration": 19,
        "start_time": "2022-09-03T08:27:28.994Z"
      },
      {
        "duration": 122,
        "start_time": "2022-09-03T08:36:00.468Z"
      },
      {
        "duration": 4,
        "start_time": "2022-09-03T08:36:12.447Z"
      },
      {
        "duration": 10,
        "start_time": "2022-09-03T08:36:12.454Z"
      },
      {
        "duration": 49,
        "start_time": "2022-09-03T08:36:12.466Z"
      },
      {
        "duration": 5,
        "start_time": "2022-09-03T08:36:12.519Z"
      },
      {
        "duration": 32,
        "start_time": "2022-09-03T08:36:12.525Z"
      },
      {
        "duration": 18,
        "start_time": "2022-09-03T08:36:12.560Z"
      },
      {
        "duration": 25,
        "start_time": "2022-09-03T08:36:12.580Z"
      },
      {
        "duration": 13,
        "start_time": "2022-09-03T08:36:12.606Z"
      },
      {
        "duration": 1350,
        "start_time": "2022-09-03T08:36:12.621Z"
      },
      {
        "duration": 6,
        "start_time": "2022-09-03T08:36:13.976Z"
      },
      {
        "duration": 29,
        "start_time": "2022-09-03T08:36:13.984Z"
      },
      {
        "duration": 16,
        "start_time": "2022-09-03T08:36:14.016Z"
      },
      {
        "duration": 222,
        "start_time": "2022-09-03T08:36:14.034Z"
      },
      {
        "duration": 8,
        "start_time": "2022-09-03T08:36:14.258Z"
      },
      {
        "duration": 13,
        "start_time": "2022-09-03T08:36:14.268Z"
      },
      {
        "duration": 223,
        "start_time": "2022-09-03T08:36:14.283Z"
      },
      {
        "duration": 10,
        "start_time": "2022-09-03T08:36:14.508Z"
      },
      {
        "duration": 30,
        "start_time": "2022-09-03T08:36:14.520Z"
      },
      {
        "duration": 16,
        "start_time": "2022-09-03T08:36:14.552Z"
      },
      {
        "duration": 2357,
        "start_time": "2022-09-03T08:36:14.602Z"
      },
      {
        "duration": 13,
        "start_time": "2022-09-03T08:36:16.961Z"
      },
      {
        "duration": 29,
        "start_time": "2022-09-03T08:36:16.975Z"
      },
      {
        "duration": 12,
        "start_time": "2022-09-03T08:36:17.006Z"
      },
      {
        "duration": 252,
        "start_time": "2022-09-03T08:36:17.020Z"
      },
      {
        "duration": 11,
        "start_time": "2022-09-03T08:36:17.274Z"
      },
      {
        "duration": 7,
        "start_time": "2022-09-03T08:39:39.664Z"
      },
      {
        "duration": 9,
        "start_time": "2022-09-03T08:39:53.213Z"
      },
      {
        "duration": 50,
        "start_time": "2022-09-03T08:44:05.696Z"
      },
      {
        "duration": 7,
        "start_time": "2022-09-03T08:44:13.712Z"
      },
      {
        "duration": 5,
        "start_time": "2022-09-03T08:44:14.656Z"
      },
      {
        "duration": 46,
        "start_time": "2022-09-03T13:57:51.237Z"
      },
      {
        "duration": 7,
        "start_time": "2022-09-03T13:59:45.436Z"
      },
      {
        "duration": 8,
        "start_time": "2022-09-03T13:59:53.847Z"
      },
      {
        "duration": 1893,
        "start_time": "2022-09-03T13:59:55.765Z"
      },
      {
        "duration": 4,
        "start_time": "2022-09-03T13:59:57.660Z"
      },
      {
        "duration": 108,
        "start_time": "2022-09-03T13:59:57.666Z"
      },
      {
        "duration": 6,
        "start_time": "2022-09-03T13:59:57.777Z"
      },
      {
        "duration": 55,
        "start_time": "2022-09-03T13:59:57.790Z"
      },
      {
        "duration": 21,
        "start_time": "2022-09-03T13:59:57.847Z"
      },
      {
        "duration": 21,
        "start_time": "2022-09-03T13:59:57.871Z"
      },
      {
        "duration": 34,
        "start_time": "2022-09-03T13:59:57.903Z"
      },
      {
        "duration": 1435,
        "start_time": "2022-09-03T13:59:57.939Z"
      },
      {
        "duration": 10,
        "start_time": "2022-09-03T13:59:59.377Z"
      },
      {
        "duration": 53,
        "start_time": "2022-09-03T13:59:59.388Z"
      },
      {
        "duration": 7,
        "start_time": "2022-09-03T13:59:59.443Z"
      },
      {
        "duration": 13,
        "start_time": "2022-09-03T13:59:59.452Z"
      },
      {
        "duration": 12,
        "start_time": "2022-09-03T13:59:59.468Z"
      },
      {
        "duration": 236,
        "start_time": "2022-09-03T13:59:59.482Z"
      },
      {
        "duration": 7,
        "start_time": "2022-09-03T13:59:59.722Z"
      },
      {
        "duration": 36,
        "start_time": "2022-09-03T13:59:59.732Z"
      },
      {
        "duration": 238,
        "start_time": "2022-09-03T13:59:59.770Z"
      },
      {
        "duration": 9,
        "start_time": "2022-09-03T14:00:00.013Z"
      },
      {
        "duration": 36,
        "start_time": "2022-09-03T14:00:00.024Z"
      },
      {
        "duration": 2391,
        "start_time": "2022-09-03T14:00:00.062Z"
      },
      {
        "duration": 15,
        "start_time": "2022-09-03T14:00:02.455Z"
      },
      {
        "duration": 28,
        "start_time": "2022-09-03T14:00:02.472Z"
      },
      {
        "duration": 283,
        "start_time": "2022-09-03T14:00:02.501Z"
      },
      {
        "duration": 25,
        "start_time": "2022-09-03T14:00:02.788Z"
      },
      {
        "duration": 236,
        "start_time": "2022-09-03T14:01:13.747Z"
      },
      {
        "duration": 5,
        "start_time": "2022-09-03T15:12:14.760Z"
      },
      {
        "duration": 11,
        "start_time": "2022-09-03T15:12:20.721Z"
      },
      {
        "duration": 7,
        "start_time": "2022-09-03T15:13:07.139Z"
      },
      {
        "duration": 99,
        "start_time": "2022-09-03T15:17:08.057Z"
      },
      {
        "duration": 18,
        "start_time": "2022-09-03T15:19:31.373Z"
      },
      {
        "duration": 6,
        "start_time": "2022-09-03T15:20:08.307Z"
      },
      {
        "duration": 7,
        "start_time": "2022-09-03T15:20:25.372Z"
      },
      {
        "duration": 6,
        "start_time": "2022-09-03T15:20:32.996Z"
      },
      {
        "duration": 5,
        "start_time": "2022-09-03T15:20:46.716Z"
      },
      {
        "duration": 7,
        "start_time": "2022-09-03T15:21:17.295Z"
      },
      {
        "duration": 12,
        "start_time": "2022-09-03T15:22:52.354Z"
      },
      {
        "duration": 3,
        "start_time": "2022-09-03T15:23:41.259Z"
      },
      {
        "duration": 3,
        "start_time": "2022-09-03T15:29:25.836Z"
      },
      {
        "duration": 17,
        "start_time": "2022-09-03T15:30:17.102Z"
      },
      {
        "duration": 15,
        "start_time": "2022-09-03T15:30:22.916Z"
      },
      {
        "duration": 3,
        "start_time": "2022-09-03T15:31:00.420Z"
      },
      {
        "duration": 5,
        "start_time": "2022-09-03T15:34:47.462Z"
      },
      {
        "duration": 17,
        "start_time": "2022-09-03T15:38:24.152Z"
      },
      {
        "duration": 16,
        "start_time": "2022-09-03T15:40:08.000Z"
      },
      {
        "duration": 16,
        "start_time": "2022-09-03T15:41:39.200Z"
      },
      {
        "duration": 9,
        "start_time": "2022-09-03T15:42:30.309Z"
      },
      {
        "duration": 9,
        "start_time": "2022-09-03T15:42:40.669Z"
      },
      {
        "duration": 57,
        "start_time": "2022-09-03T15:43:53.921Z"
      },
      {
        "duration": 5,
        "start_time": "2022-09-03T15:44:31.469Z"
      },
      {
        "duration": 21,
        "start_time": "2022-09-03T15:44:31.477Z"
      },
      {
        "duration": 84,
        "start_time": "2022-09-03T15:44:31.500Z"
      },
      {
        "duration": 5,
        "start_time": "2022-09-03T15:44:31.587Z"
      },
      {
        "duration": 36,
        "start_time": "2022-09-03T15:44:31.595Z"
      },
      {
        "duration": 20,
        "start_time": "2022-09-03T15:44:31.633Z"
      },
      {
        "duration": 17,
        "start_time": "2022-09-03T15:44:31.655Z"
      },
      {
        "duration": 21,
        "start_time": "2022-09-03T15:44:31.684Z"
      },
      {
        "duration": 2037,
        "start_time": "2022-09-03T15:44:31.708Z"
      },
      {
        "duration": 9,
        "start_time": "2022-09-03T15:44:33.750Z"
      },
      {
        "duration": 25,
        "start_time": "2022-09-03T15:44:33.761Z"
      },
      {
        "duration": 28,
        "start_time": "2022-09-03T15:44:33.789Z"
      },
      {
        "duration": 33,
        "start_time": "2022-09-03T15:44:33.819Z"
      },
      {
        "duration": 22,
        "start_time": "2022-09-03T15:44:33.856Z"
      },
      {
        "duration": 308,
        "start_time": "2022-09-03T15:44:33.880Z"
      },
      {
        "duration": 8,
        "start_time": "2022-09-03T15:44:34.190Z"
      },
      {
        "duration": 41,
        "start_time": "2022-09-03T15:44:34.200Z"
      },
      {
        "duration": 303,
        "start_time": "2022-09-03T15:44:34.244Z"
      },
      {
        "duration": 12,
        "start_time": "2022-09-03T15:44:34.549Z"
      },
      {
        "duration": 68,
        "start_time": "2022-09-03T15:44:34.564Z"
      },
      {
        "duration": 2846,
        "start_time": "2022-09-03T15:44:34.635Z"
      },
      {
        "duration": 18,
        "start_time": "2022-09-03T15:44:37.485Z"
      },
      {
        "duration": 30,
        "start_time": "2022-09-03T15:44:37.505Z"
      },
      {
        "duration": 331,
        "start_time": "2022-09-03T15:44:37.537Z"
      },
      {
        "duration": 20,
        "start_time": "2022-09-03T15:44:37.871Z"
      },
      {
        "duration": 23,
        "start_time": "2022-09-03T15:44:37.893Z"
      },
      {
        "duration": 30,
        "start_time": "2022-09-03T15:44:37.919Z"
      },
      {
        "duration": 33,
        "start_time": "2022-09-03T15:44:37.957Z"
      },
      {
        "duration": 24,
        "start_time": "2022-09-03T15:44:37.993Z"
      },
      {
        "duration": 22,
        "start_time": "2022-09-03T15:44:38.020Z"
      },
      {
        "duration": 17,
        "start_time": "2022-09-03T15:44:38.045Z"
      },
      {
        "duration": 20,
        "start_time": "2022-09-03T15:44:38.064Z"
      },
      {
        "duration": 3,
        "start_time": "2022-09-03T15:44:42.357Z"
      },
      {
        "duration": 28,
        "start_time": "2022-09-03T15:44:42.701Z"
      },
      {
        "duration": 18,
        "start_time": "2022-09-03T15:44:43.035Z"
      },
      {
        "duration": 59,
        "start_time": "2022-09-03T15:54:18.093Z"
      },
      {
        "duration": 19,
        "start_time": "2022-09-03T15:54:39.695Z"
      },
      {
        "duration": 4,
        "start_time": "2022-09-03T15:54:51.409Z"
      },
      {
        "duration": 4,
        "start_time": "2022-09-03T15:55:03.934Z"
      },
      {
        "duration": 11,
        "start_time": "2022-09-03T15:55:03.941Z"
      },
      {
        "duration": 54,
        "start_time": "2022-09-03T15:55:03.954Z"
      },
      {
        "duration": 7,
        "start_time": "2022-09-03T15:55:04.010Z"
      },
      {
        "duration": 28,
        "start_time": "2022-09-03T15:55:04.019Z"
      },
      {
        "duration": 14,
        "start_time": "2022-09-03T15:55:04.049Z"
      },
      {
        "duration": 27,
        "start_time": "2022-09-03T15:55:04.065Z"
      },
      {
        "duration": 17,
        "start_time": "2022-09-03T15:55:04.094Z"
      },
      {
        "duration": 1357,
        "start_time": "2022-09-03T15:55:04.115Z"
      },
      {
        "duration": 12,
        "start_time": "2022-09-03T15:55:05.474Z"
      },
      {
        "duration": 8,
        "start_time": "2022-09-03T15:55:05.488Z"
      },
      {
        "duration": 10,
        "start_time": "2022-09-03T15:55:05.498Z"
      },
      {
        "duration": 11,
        "start_time": "2022-09-03T15:55:05.510Z"
      },
      {
        "duration": 11,
        "start_time": "2022-09-03T15:55:05.522Z"
      },
      {
        "duration": 199,
        "start_time": "2022-09-03T15:55:05.535Z"
      },
      {
        "duration": 8,
        "start_time": "2022-09-03T15:55:05.736Z"
      },
      {
        "duration": 8,
        "start_time": "2022-09-03T15:55:05.746Z"
      },
      {
        "duration": 191,
        "start_time": "2022-09-03T15:55:05.756Z"
      },
      {
        "duration": 7,
        "start_time": "2022-09-03T15:55:05.948Z"
      },
      {
        "duration": 39,
        "start_time": "2022-09-03T15:55:05.957Z"
      },
      {
        "duration": 2073,
        "start_time": "2022-09-03T15:55:05.999Z"
      },
      {
        "duration": 18,
        "start_time": "2022-09-03T15:55:08.074Z"
      },
      {
        "duration": 13,
        "start_time": "2022-09-03T15:55:08.094Z"
      },
      {
        "duration": 256,
        "start_time": "2022-09-03T15:55:08.110Z"
      },
      {
        "duration": 18,
        "start_time": "2022-09-03T15:55:08.368Z"
      },
      {
        "duration": 6,
        "start_time": "2022-09-03T15:55:08.388Z"
      },
      {
        "duration": 20,
        "start_time": "2022-09-03T15:55:08.396Z"
      },
      {
        "duration": 11,
        "start_time": "2022-09-03T15:55:08.418Z"
      },
      {
        "duration": 9,
        "start_time": "2022-09-03T15:55:08.431Z"
      },
      {
        "duration": 11,
        "start_time": "2022-09-03T15:55:08.442Z"
      },
      {
        "duration": 31,
        "start_time": "2022-09-03T15:55:08.456Z"
      },
      {
        "duration": 21,
        "start_time": "2022-09-03T15:55:08.489Z"
      },
      {
        "duration": 5,
        "start_time": "2022-09-03T15:55:08.513Z"
      },
      {
        "duration": 24,
        "start_time": "2022-09-03T15:55:08.520Z"
      },
      {
        "duration": 13,
        "start_time": "2022-09-03T15:55:08.545Z"
      },
      {
        "duration": 26,
        "start_time": "2022-09-03T15:55:08.560Z"
      },
      {
        "duration": 11,
        "start_time": "2022-09-03T15:55:08.588Z"
      },
      {
        "duration": 6,
        "start_time": "2022-09-03T15:55:08.601Z"
      },
      {
        "duration": 7,
        "start_time": "2022-09-03T15:55:08.609Z"
      },
      {
        "duration": 3,
        "start_time": "2022-09-03T15:55:28.187Z"
      },
      {
        "duration": 12994,
        "start_time": "2022-09-03T15:55:28.194Z"
      },
      {
        "duration": 17720,
        "start_time": "2022-09-03T15:55:42.573Z"
      },
      {
        "duration": 3,
        "start_time": "2022-09-03T15:56:00.295Z"
      },
      {
        "duration": 9,
        "start_time": "2022-09-03T15:56:26.955Z"
      },
      {
        "duration": 15,
        "start_time": "2022-09-03T15:58:20.405Z"
      },
      {
        "duration": 46,
        "start_time": "2022-09-03T15:58:34.792Z"
      },
      {
        "duration": 3,
        "start_time": "2022-09-03T15:58:40.947Z"
      },
      {
        "duration": 9,
        "start_time": "2022-09-03T16:00:24.881Z"
      },
      {
        "duration": 3,
        "start_time": "2022-09-03T16:00:53.901Z"
      },
      {
        "duration": 18,
        "start_time": "2022-09-03T16:01:01.261Z"
      },
      {
        "duration": 4,
        "start_time": "2022-09-03T16:01:17.941Z"
      },
      {
        "duration": 6,
        "start_time": "2022-09-03T16:01:20.877Z"
      },
      {
        "duration": 1680400,
        "start_time": "2022-09-03T16:19:57.660Z"
      },
      {
        "duration": 4,
        "start_time": "2022-09-03T16:48:25.654Z"
      },
      {
        "duration": 10,
        "start_time": "2022-09-03T16:48:43.472Z"
      },
      {
        "duration": 3,
        "start_time": "2022-09-03T16:48:51.104Z"
      },
      {
        "duration": 101,
        "start_time": "2022-09-03T16:48:51.884Z"
      },
      {
        "duration": 3,
        "start_time": "2022-09-03T16:49:06.136Z"
      },
      {
        "duration": 10,
        "start_time": "2022-09-03T16:49:07.033Z"
      },
      {
        "duration": 3,
        "start_time": "2022-09-03T16:49:15.995Z"
      },
      {
        "duration": 31,
        "start_time": "2022-09-03T16:49:16.539Z"
      },
      {
        "duration": 34,
        "start_time": "2022-09-03T16:51:20.218Z"
      },
      {
        "duration": 30,
        "start_time": "2022-09-03T16:51:35.016Z"
      },
      {
        "duration": 88,
        "start_time": "2022-09-03T16:52:59.066Z"
      },
      {
        "duration": 0,
        "start_time": "2022-09-03T17:27:19.713Z"
      },
      {
        "duration": 0,
        "start_time": "2022-09-03T17:27:19.714Z"
      },
      {
        "duration": 6,
        "start_time": "2022-09-03T17:27:28.165Z"
      },
      {
        "duration": 10,
        "start_time": "2022-09-03T17:27:28.173Z"
      },
      {
        "duration": 49,
        "start_time": "2022-09-03T17:27:28.185Z"
      },
      {
        "duration": 4,
        "start_time": "2022-09-03T17:27:28.236Z"
      },
      {
        "duration": 18,
        "start_time": "2022-09-03T17:27:28.242Z"
      },
      {
        "duration": 12,
        "start_time": "2022-09-03T17:27:28.262Z"
      },
      {
        "duration": 8,
        "start_time": "2022-09-03T17:27:28.285Z"
      },
      {
        "duration": 15,
        "start_time": "2022-09-03T17:27:28.295Z"
      },
      {
        "duration": 1232,
        "start_time": "2022-09-03T17:27:28.312Z"
      },
      {
        "duration": 4,
        "start_time": "2022-09-03T17:27:29.546Z"
      },
      {
        "duration": 14,
        "start_time": "2022-09-03T17:27:29.552Z"
      },
      {
        "duration": 21,
        "start_time": "2022-09-03T17:27:29.569Z"
      },
      {
        "duration": 9,
        "start_time": "2022-09-03T17:27:29.592Z"
      },
      {
        "duration": 15,
        "start_time": "2022-09-03T17:27:29.606Z"
      },
      {
        "duration": 206,
        "start_time": "2022-09-03T17:27:29.623Z"
      },
      {
        "duration": 8,
        "start_time": "2022-09-03T17:27:29.831Z"
      },
      {
        "duration": 6,
        "start_time": "2022-09-03T17:27:29.841Z"
      },
      {
        "duration": 191,
        "start_time": "2022-09-03T17:27:29.849Z"
      },
      {
        "duration": 8,
        "start_time": "2022-09-03T17:27:30.042Z"
      },
      {
        "duration": 29,
        "start_time": "2022-09-03T17:27:30.051Z"
      },
      {
        "duration": 2068,
        "start_time": "2022-09-03T17:27:30.085Z"
      },
      {
        "duration": 12,
        "start_time": "2022-09-03T17:27:32.155Z"
      },
      {
        "duration": 23,
        "start_time": "2022-09-03T17:27:32.169Z"
      },
      {
        "duration": 229,
        "start_time": "2022-09-03T17:27:32.194Z"
      },
      {
        "duration": 12,
        "start_time": "2022-09-03T17:27:32.425Z"
      },
      {
        "duration": 22,
        "start_time": "2022-09-03T17:27:32.439Z"
      },
      {
        "duration": 40,
        "start_time": "2022-09-03T17:27:32.464Z"
      },
      {
        "duration": 23,
        "start_time": "2022-09-03T17:27:32.506Z"
      },
      {
        "duration": 28,
        "start_time": "2022-09-03T17:27:32.532Z"
      },
      {
        "duration": 23,
        "start_time": "2022-09-03T17:27:32.563Z"
      },
      {
        "duration": 19,
        "start_time": "2022-09-03T17:27:32.588Z"
      },
      {
        "duration": 35,
        "start_time": "2022-09-03T17:27:32.608Z"
      },
      {
        "duration": 14,
        "start_time": "2022-09-03T17:27:32.646Z"
      },
      {
        "duration": 61,
        "start_time": "2022-09-03T17:27:32.662Z"
      },
      {
        "duration": 21,
        "start_time": "2022-09-03T17:27:32.726Z"
      },
      {
        "duration": 18,
        "start_time": "2022-09-03T17:27:32.749Z"
      },
      {
        "duration": 44,
        "start_time": "2022-09-03T17:27:32.770Z"
      },
      {
        "duration": 9,
        "start_time": "2022-09-03T17:27:32.816Z"
      },
      {
        "duration": 37,
        "start_time": "2022-09-03T17:27:32.827Z"
      },
      {
        "duration": 16324,
        "start_time": "2022-09-03T17:27:32.866Z"
      },
      {
        "duration": 88,
        "start_time": "2022-09-03T17:27:49.198Z"
      },
      {
        "duration": 12,
        "start_time": "2022-09-03T17:27:49.289Z"
      },
      {
        "duration": 89,
        "start_time": "2022-09-03T17:27:49.304Z"
      },
      {
        "duration": 89,
        "start_time": "2022-09-03T17:27:49.397Z"
      },
      {
        "duration": 6178,
        "start_time": "2022-09-03T17:27:56.770Z"
      },
      {
        "duration": 2542,
        "start_time": "2022-09-03T17:29:32.232Z"
      },
      {
        "duration": 3,
        "start_time": "2022-09-03T17:30:08.181Z"
      },
      {
        "duration": 584712,
        "start_time": "2022-09-03T17:30:08.553Z"
      },
      {
        "duration": 4,
        "start_time": "2022-09-03T17:45:21.270Z"
      },
      {
        "duration": 4,
        "start_time": "2022-09-03T17:45:39.665Z"
      },
      {
        "duration": 4,
        "start_time": "2022-09-03T18:12:15.717Z"
      },
      {
        "duration": 6,
        "start_time": "2022-09-03T18:12:15.724Z"
      },
      {
        "duration": 48,
        "start_time": "2022-09-03T18:12:15.732Z"
      },
      {
        "duration": 13,
        "start_time": "2022-09-03T18:12:15.782Z"
      },
      {
        "duration": 23,
        "start_time": "2022-09-03T18:12:15.798Z"
      },
      {
        "duration": 14,
        "start_time": "2022-09-03T18:12:15.823Z"
      },
      {
        "duration": 10,
        "start_time": "2022-09-03T18:12:15.839Z"
      },
      {
        "duration": 21,
        "start_time": "2022-09-03T18:12:15.850Z"
      },
      {
        "duration": 1278,
        "start_time": "2022-09-03T18:12:15.873Z"
      },
      {
        "duration": 5,
        "start_time": "2022-09-03T18:12:17.153Z"
      },
      {
        "duration": 10,
        "start_time": "2022-09-03T18:12:17.160Z"
      },
      {
        "duration": 5,
        "start_time": "2022-09-03T18:12:17.189Z"
      },
      {
        "duration": 17,
        "start_time": "2022-09-03T18:12:17.199Z"
      },
      {
        "duration": 13,
        "start_time": "2022-09-03T18:12:17.218Z"
      },
      {
        "duration": 199,
        "start_time": "2022-09-03T18:12:17.233Z"
      },
      {
        "duration": 7,
        "start_time": "2022-09-03T18:12:17.434Z"
      },
      {
        "duration": 6,
        "start_time": "2022-09-03T18:12:17.443Z"
      },
      {
        "duration": 209,
        "start_time": "2022-09-03T18:12:17.451Z"
      },
      {
        "duration": 7,
        "start_time": "2022-09-03T18:12:17.662Z"
      },
      {
        "duration": 31,
        "start_time": "2022-09-03T18:12:17.671Z"
      },
      {
        "duration": 2160,
        "start_time": "2022-09-03T18:12:17.704Z"
      },
      {
        "duration": 32,
        "start_time": "2022-09-03T18:12:19.866Z"
      },
      {
        "duration": 12,
        "start_time": "2022-09-03T18:12:19.900Z"
      },
      {
        "duration": 244,
        "start_time": "2022-09-03T18:12:19.913Z"
      },
      {
        "duration": 14,
        "start_time": "2022-09-03T18:12:20.159Z"
      },
      {
        "duration": 18,
        "start_time": "2022-09-03T18:12:20.174Z"
      },
      {
        "duration": 25,
        "start_time": "2022-09-03T18:12:20.199Z"
      },
      {
        "duration": 14,
        "start_time": "2022-09-03T18:12:20.226Z"
      },
      {
        "duration": 15,
        "start_time": "2022-09-03T18:12:20.242Z"
      },
      {
        "duration": 9,
        "start_time": "2022-09-03T18:12:20.260Z"
      },
      {
        "duration": 7,
        "start_time": "2022-09-03T18:12:20.271Z"
      },
      {
        "duration": 17,
        "start_time": "2022-09-03T18:12:20.288Z"
      },
      {
        "duration": 10,
        "start_time": "2022-09-03T18:12:20.307Z"
      },
      {
        "duration": 24,
        "start_time": "2022-09-03T18:12:20.319Z"
      },
      {
        "duration": 13,
        "start_time": "2022-09-03T18:12:20.345Z"
      },
      {
        "duration": 8,
        "start_time": "2022-09-03T18:12:20.360Z"
      },
      {
        "duration": 15,
        "start_time": "2022-09-03T18:12:20.389Z"
      },
      {
        "duration": 9,
        "start_time": "2022-09-03T18:12:20.406Z"
      },
      {
        "duration": 8,
        "start_time": "2022-09-03T18:12:20.417Z"
      },
      {
        "duration": 27775,
        "start_time": "2022-09-03T18:12:20.427Z"
      },
      {
        "duration": 3,
        "start_time": "2022-09-03T18:12:48.204Z"
      },
      {
        "duration": 111,
        "start_time": "2022-09-03T18:12:48.286Z"
      },
      {
        "duration": 90,
        "start_time": "2022-09-03T18:12:48.399Z"
      },
      {
        "duration": 115,
        "start_time": "2022-09-03T18:12:48.491Z"
      },
      {
        "duration": 588662,
        "start_time": "2022-09-03T18:12:48.607Z"
      },
      {
        "duration": 596626,
        "start_time": "2022-09-03T18:22:37.271Z"
      },
      {
        "duration": 7,
        "start_time": "2022-09-03T18:32:33.906Z"
      },
      {
        "duration": 211,
        "start_time": "2022-09-03T21:38:33.643Z"
      },
      {
        "duration": 218,
        "start_time": "2022-09-03T21:38:59.329Z"
      },
      {
        "duration": 11,
        "start_time": "2022-09-03T21:39:44.534Z"
      },
      {
        "duration": 92,
        "start_time": "2022-09-04T09:38:10.424Z"
      },
      {
        "duration": 15,
        "start_time": "2022-09-04T09:39:39.820Z"
      },
      {
        "duration": 2043,
        "start_time": "2022-09-04T09:39:47.178Z"
      },
      {
        "duration": 6,
        "start_time": "2022-09-04T09:39:49.224Z"
      },
      {
        "duration": 161,
        "start_time": "2022-09-04T09:39:49.233Z"
      },
      {
        "duration": 26,
        "start_time": "2022-09-04T09:39:49.397Z"
      },
      {
        "duration": 106,
        "start_time": "2022-09-04T09:39:49.425Z"
      },
      {
        "duration": 53,
        "start_time": "2022-09-04T09:39:49.534Z"
      },
      {
        "duration": 20,
        "start_time": "2022-09-04T09:39:49.590Z"
      },
      {
        "duration": 91,
        "start_time": "2022-09-04T09:39:49.616Z"
      },
      {
        "duration": 1658,
        "start_time": "2022-09-04T09:39:49.709Z"
      },
      {
        "duration": 11,
        "start_time": "2022-09-04T09:39:51.373Z"
      },
      {
        "duration": 27,
        "start_time": "2022-09-04T09:39:51.386Z"
      },
      {
        "duration": 55,
        "start_time": "2022-09-04T09:39:51.416Z"
      },
      {
        "duration": 17,
        "start_time": "2022-09-04T09:39:51.473Z"
      },
      {
        "duration": 60,
        "start_time": "2022-09-04T09:39:51.492Z"
      },
      {
        "duration": 279,
        "start_time": "2022-09-04T09:39:51.554Z"
      },
      {
        "duration": 23,
        "start_time": "2022-09-04T09:39:51.834Z"
      },
      {
        "duration": 33,
        "start_time": "2022-09-04T09:39:51.859Z"
      },
      {
        "duration": 345,
        "start_time": "2022-09-04T09:39:51.894Z"
      },
      {
        "duration": 8,
        "start_time": "2022-09-04T09:39:52.241Z"
      },
      {
        "duration": 60,
        "start_time": "2022-09-04T09:39:52.251Z"
      },
      {
        "duration": 2869,
        "start_time": "2022-09-04T09:39:52.313Z"
      },
      {
        "duration": 30,
        "start_time": "2022-09-04T09:39:55.185Z"
      },
      {
        "duration": 43,
        "start_time": "2022-09-04T09:39:55.217Z"
      },
      {
        "duration": 323,
        "start_time": "2022-09-04T09:39:55.262Z"
      },
      {
        "duration": 27,
        "start_time": "2022-09-04T09:39:55.588Z"
      },
      {
        "duration": 42,
        "start_time": "2022-09-04T09:39:55.617Z"
      },
      {
        "duration": 18,
        "start_time": "2022-09-04T09:39:55.661Z"
      },
      {
        "duration": 8,
        "start_time": "2022-09-04T09:39:55.682Z"
      },
      {
        "duration": 20,
        "start_time": "2022-09-04T09:39:55.692Z"
      },
      {
        "duration": 45,
        "start_time": "2022-09-04T09:39:55.715Z"
      },
      {
        "duration": 5,
        "start_time": "2022-09-04T09:39:55.762Z"
      },
      {
        "duration": 17,
        "start_time": "2022-09-04T09:39:55.769Z"
      },
      {
        "duration": 6,
        "start_time": "2022-09-04T09:39:55.788Z"
      },
      {
        "duration": 62,
        "start_time": "2022-09-04T09:39:55.796Z"
      },
      {
        "duration": 19,
        "start_time": "2022-09-04T09:39:55.860Z"
      },
      {
        "duration": 10,
        "start_time": "2022-09-04T09:39:55.881Z"
      },
      {
        "duration": 29,
        "start_time": "2022-09-04T09:39:55.893Z"
      },
      {
        "duration": 25,
        "start_time": "2022-09-04T09:39:55.924Z"
      },
      {
        "duration": 9,
        "start_time": "2022-09-04T09:39:55.952Z"
      },
      {
        "duration": 43949,
        "start_time": "2022-09-04T09:39:55.963Z"
      },
      {
        "duration": 2,
        "start_time": "2022-09-04T09:40:39.915Z"
      },
      {
        "duration": 100,
        "start_time": "2022-09-04T09:40:39.919Z"
      },
      {
        "duration": 137,
        "start_time": "2022-09-04T09:40:40.025Z"
      },
      {
        "duration": 43,
        "start_time": "2022-09-04T09:40:40.165Z"
      },
      {
        "duration": 24523,
        "start_time": "2022-09-04T09:40:40.213Z"
      },
      {
        "duration": 24390,
        "start_time": "2022-09-04T09:41:04.746Z"
      },
      {
        "duration": 362,
        "start_time": "2022-09-04T09:44:10.648Z"
      },
      {
        "duration": 320,
        "start_time": "2022-09-04T09:44:18.300Z"
      },
      {
        "duration": 408,
        "start_time": "2022-09-04T09:44:34.150Z"
      },
      {
        "duration": 623,
        "start_time": "2022-09-04T09:45:32.095Z"
      },
      {
        "duration": 24,
        "start_time": "2022-09-04T09:47:12.788Z"
      },
      {
        "duration": 39,
        "start_time": "2022-09-04T09:48:04.144Z"
      },
      {
        "duration": 9,
        "start_time": "2022-09-04T09:48:26.644Z"
      },
      {
        "duration": 53,
        "start_time": "2022-09-04T09:48:33.766Z"
      },
      {
        "duration": 61,
        "start_time": "2022-09-04T09:48:39.342Z"
      },
      {
        "duration": 330,
        "start_time": "2022-09-04T09:48:43.443Z"
      },
      {
        "duration": 348,
        "start_time": "2022-09-04T09:51:09.760Z"
      },
      {
        "duration": 296,
        "start_time": "2022-09-04T09:51:21.677Z"
      },
      {
        "duration": 354,
        "start_time": "2022-09-04T09:52:09.077Z"
      },
      {
        "duration": 490,
        "start_time": "2022-09-04T09:52:26.747Z"
      },
      {
        "duration": 233,
        "start_time": "2022-09-04T09:53:00.152Z"
      },
      {
        "duration": 317,
        "start_time": "2022-09-04T09:53:15.754Z"
      },
      {
        "duration": 363,
        "start_time": "2022-09-04T09:54:03.495Z"
      },
      {
        "duration": 391,
        "start_time": "2022-09-04T09:54:09.689Z"
      },
      {
        "duration": 295,
        "start_time": "2022-09-04T09:54:17.331Z"
      },
      {
        "duration": 3,
        "start_time": "2022-09-04T09:54:43.961Z"
      },
      {
        "duration": 271,
        "start_time": "2022-09-04T09:54:47.521Z"
      },
      {
        "duration": 11,
        "start_time": "2022-09-04T09:54:55.723Z"
      },
      {
        "duration": 261,
        "start_time": "2022-09-04T09:54:56.576Z"
      },
      {
        "duration": 302,
        "start_time": "2022-09-04T10:01:29.653Z"
      },
      {
        "duration": 6,
        "start_time": "2022-09-04T10:01:40.347Z"
      },
      {
        "duration": 3,
        "start_time": "2022-09-04T10:03:35.153Z"
      },
      {
        "duration": 5,
        "start_time": "2022-09-04T10:03:42.084Z"
      },
      {
        "duration": 3,
        "start_time": "2022-09-04T10:03:51.548Z"
      },
      {
        "duration": 5,
        "start_time": "2022-09-04T10:03:52.053Z"
      },
      {
        "duration": 8,
        "start_time": "2022-09-04T10:04:50.684Z"
      },
      {
        "duration": 3,
        "start_time": "2022-09-04T10:06:23.341Z"
      },
      {
        "duration": 8,
        "start_time": "2022-09-04T10:06:23.644Z"
      },
      {
        "duration": 3,
        "start_time": "2022-09-04T10:06:28.546Z"
      },
      {
        "duration": 11,
        "start_time": "2022-09-04T10:06:28.953Z"
      },
      {
        "duration": 2,
        "start_time": "2022-09-04T10:06:34.942Z"
      },
      {
        "duration": 12,
        "start_time": "2022-09-04T10:06:35.197Z"
      },
      {
        "duration": 32,
        "start_time": "2022-09-04T10:07:47.699Z"
      },
      {
        "duration": 16,
        "start_time": "2022-09-04T10:07:54.136Z"
      },
      {
        "duration": 600,
        "start_time": "2022-09-04T10:08:24.674Z"
      },
      {
        "duration": 691,
        "start_time": "2022-09-04T10:08:46.701Z"
      },
      {
        "duration": 622,
        "start_time": "2022-09-04T10:08:53.251Z"
      },
      {
        "duration": 643,
        "start_time": "2022-09-04T10:08:59.298Z"
      },
      {
        "duration": 651,
        "start_time": "2022-09-04T10:09:05.348Z"
      },
      {
        "duration": 10,
        "start_time": "2022-09-04T10:16:27.038Z"
      },
      {
        "duration": 4,
        "start_time": "2022-09-04T10:16:39.566Z"
      },
      {
        "duration": 6,
        "start_time": "2022-09-04T10:16:56.471Z"
      },
      {
        "duration": 15,
        "start_time": "2022-09-04T10:20:58.836Z"
      },
      {
        "duration": 322,
        "start_time": "2022-09-04T10:21:04.042Z"
      },
      {
        "duration": 208,
        "start_time": "2022-09-04T10:21:15.138Z"
      },
      {
        "duration": 11,
        "start_time": "2022-09-04T10:23:24.287Z"
      },
      {
        "duration": 290,
        "start_time": "2022-09-04T10:26:40.351Z"
      },
      {
        "duration": 221,
        "start_time": "2022-09-04T10:26:50.538Z"
      },
      {
        "duration": 250,
        "start_time": "2022-09-04T10:27:04.495Z"
      },
      {
        "duration": 241,
        "start_time": "2022-09-04T10:27:24.238Z"
      },
      {
        "duration": 2440,
        "start_time": "2022-09-04T10:28:05.052Z"
      },
      {
        "duration": 2441,
        "start_time": "2022-09-04T10:28:19.342Z"
      },
      {
        "duration": 2608,
        "start_time": "2022-09-04T10:28:52.638Z"
      },
      {
        "duration": 279,
        "start_time": "2022-09-04T10:29:31.456Z"
      },
      {
        "duration": 295,
        "start_time": "2022-09-04T10:29:40.452Z"
      },
      {
        "duration": 1555,
        "start_time": "2022-09-04T10:29:58.564Z"
      },
      {
        "duration": 4,
        "start_time": "2022-09-04T10:30:00.125Z"
      },
      {
        "duration": 53,
        "start_time": "2022-09-04T10:30:00.131Z"
      },
      {
        "duration": 6,
        "start_time": "2022-09-04T10:30:00.186Z"
      },
      {
        "duration": 75,
        "start_time": "2022-09-04T10:30:00.194Z"
      },
      {
        "duration": 25,
        "start_time": "2022-09-04T10:30:00.271Z"
      },
      {
        "duration": 19,
        "start_time": "2022-09-04T10:30:00.299Z"
      },
      {
        "duration": 38,
        "start_time": "2022-09-04T10:30:00.320Z"
      },
      {
        "duration": 1412,
        "start_time": "2022-09-04T10:30:00.360Z"
      },
      {
        "duration": 5,
        "start_time": "2022-09-04T10:30:01.775Z"
      },
      {
        "duration": 28,
        "start_time": "2022-09-04T10:30:01.781Z"
      },
      {
        "duration": 20,
        "start_time": "2022-09-04T10:30:01.814Z"
      },
      {
        "duration": 15,
        "start_time": "2022-09-04T10:30:01.836Z"
      },
      {
        "duration": 35,
        "start_time": "2022-09-04T10:30:01.853Z"
      },
      {
        "duration": 206,
        "start_time": "2022-09-04T10:30:01.890Z"
      },
      {
        "duration": 11,
        "start_time": "2022-09-04T10:30:02.098Z"
      },
      {
        "duration": 21,
        "start_time": "2022-09-04T10:30:02.113Z"
      },
      {
        "duration": 225,
        "start_time": "2022-09-04T10:30:02.136Z"
      },
      {
        "duration": 7,
        "start_time": "2022-09-04T10:30:02.363Z"
      },
      {
        "duration": 51,
        "start_time": "2022-09-04T10:30:02.372Z"
      },
      {
        "duration": 2289,
        "start_time": "2022-09-04T10:30:02.426Z"
      },
      {
        "duration": 13,
        "start_time": "2022-09-04T10:30:04.717Z"
      },
      {
        "duration": 22,
        "start_time": "2022-09-04T10:30:04.731Z"
      },
      {
        "duration": 228,
        "start_time": "2022-09-04T10:30:04.756Z"
      },
      {
        "duration": 33,
        "start_time": "2022-09-04T10:30:04.986Z"
      },
      {
        "duration": 7,
        "start_time": "2022-09-04T10:30:05.021Z"
      },
      {
        "duration": 20,
        "start_time": "2022-09-04T10:30:05.031Z"
      },
      {
        "duration": 9,
        "start_time": "2022-09-04T10:30:05.056Z"
      },
      {
        "duration": 12,
        "start_time": "2022-09-04T10:30:05.067Z"
      },
      {
        "duration": 25,
        "start_time": "2022-09-04T10:30:05.081Z"
      },
      {
        "duration": 20,
        "start_time": "2022-09-04T10:30:05.108Z"
      },
      {
        "duration": 19,
        "start_time": "2022-09-04T10:30:05.130Z"
      },
      {
        "duration": 12,
        "start_time": "2022-09-04T10:30:05.150Z"
      },
      {
        "duration": 25,
        "start_time": "2022-09-04T10:30:05.164Z"
      },
      {
        "duration": 19,
        "start_time": "2022-09-04T10:30:05.191Z"
      },
      {
        "duration": 16,
        "start_time": "2022-09-04T10:30:05.211Z"
      },
      {
        "duration": 13,
        "start_time": "2022-09-04T10:30:05.230Z"
      },
      {
        "duration": 14,
        "start_time": "2022-09-04T10:30:05.244Z"
      },
      {
        "duration": 13,
        "start_time": "2022-09-04T10:30:05.259Z"
      },
      {
        "duration": 29751,
        "start_time": "2022-09-04T10:30:05.273Z"
      },
      {
        "duration": 6,
        "start_time": "2022-09-04T10:30:35.104Z"
      },
      {
        "duration": 105,
        "start_time": "2022-09-04T10:30:35.118Z"
      },
      {
        "duration": 88,
        "start_time": "2022-09-04T10:30:35.235Z"
      },
      {
        "duration": 16,
        "start_time": "2022-09-04T10:30:35.326Z"
      },
      {
        "duration": 21168,
        "start_time": "2022-09-04T10:30:35.409Z"
      },
      {
        "duration": 21429,
        "start_time": "2022-09-04T10:30:56.579Z"
      },
      {
        "duration": 259,
        "start_time": "2022-09-04T10:31:18.011Z"
      },
      {
        "duration": 4,
        "start_time": "2022-09-04T10:31:18.273Z"
      },
      {
        "duration": 295,
        "start_time": "2022-09-04T10:31:18.279Z"
      },
      {
        "duration": 5,
        "start_time": "2022-09-04T10:31:18.575Z"
      },
      {
        "duration": 23,
        "start_time": "2022-09-04T10:31:18.581Z"
      },
      {
        "duration": 12,
        "start_time": "2022-09-04T10:31:18.616Z"
      },
      {
        "duration": 208,
        "start_time": "2022-09-04T10:31:18.630Z"
      },
      {
        "duration": 12,
        "start_time": "2022-09-04T10:31:18.841Z"
      },
      {
        "duration": 2932,
        "start_time": "2022-09-04T10:31:18.860Z"
      },
      {
        "duration": 5,
        "start_time": "2022-09-04T10:53:59.839Z"
      },
      {
        "duration": 5831,
        "start_time": "2022-09-04T10:54:16.896Z"
      },
      {
        "duration": 8356,
        "start_time": "2022-09-04T10:54:43.033Z"
      },
      {
        "duration": 40,
        "start_time": "2022-09-04T10:59:09.285Z"
      },
      {
        "duration": 8197,
        "start_time": "2022-09-04T10:59:50.393Z"
      },
      {
        "duration": 8629,
        "start_time": "2022-09-04T11:00:36.385Z"
      },
      {
        "duration": 10371,
        "start_time": "2022-09-04T11:01:35.184Z"
      },
      {
        "duration": 68628,
        "start_time": "2022-09-04T11:03:36.794Z"
      },
      {
        "duration": 69604,
        "start_time": "2022-09-04T11:06:43.635Z"
      },
      {
        "duration": 156143,
        "start_time": "2022-09-04T11:09:10.280Z"
      },
      {
        "duration": 919259,
        "start_time": "2022-09-04T11:14:50.552Z"
      },
      {
        "duration": 1558,
        "start_time": "2022-09-04T11:48:55.424Z"
      },
      {
        "duration": 4,
        "start_time": "2022-09-04T11:48:56.984Z"
      },
      {
        "duration": 67,
        "start_time": "2022-09-04T11:48:56.990Z"
      },
      {
        "duration": 6,
        "start_time": "2022-09-04T11:48:57.059Z"
      },
      {
        "duration": 29,
        "start_time": "2022-09-04T11:48:57.067Z"
      },
      {
        "duration": 32,
        "start_time": "2022-09-04T11:48:57.098Z"
      },
      {
        "duration": 32,
        "start_time": "2022-09-04T11:48:57.133Z"
      },
      {
        "duration": 18,
        "start_time": "2022-09-04T11:48:57.167Z"
      },
      {
        "duration": 1494,
        "start_time": "2022-09-04T11:48:57.187Z"
      },
      {
        "duration": 5,
        "start_time": "2022-09-04T11:48:58.684Z"
      },
      {
        "duration": 38,
        "start_time": "2022-09-04T11:48:58.691Z"
      },
      {
        "duration": 16,
        "start_time": "2022-09-04T11:48:58.731Z"
      },
      {
        "duration": 10,
        "start_time": "2022-09-04T11:48:58.749Z"
      },
      {
        "duration": 11,
        "start_time": "2022-09-04T11:48:58.761Z"
      },
      {
        "duration": 266,
        "start_time": "2022-09-04T11:48:58.774Z"
      },
      {
        "duration": 10,
        "start_time": "2022-09-04T11:48:59.042Z"
      },
      {
        "duration": 9,
        "start_time": "2022-09-04T11:48:59.055Z"
      },
      {
        "duration": 276,
        "start_time": "2022-09-04T11:48:59.066Z"
      },
      {
        "duration": 7,
        "start_time": "2022-09-04T11:48:59.345Z"
      },
      {
        "duration": 21,
        "start_time": "2022-09-04T11:48:59.353Z"
      },
      {
        "duration": 2416,
        "start_time": "2022-09-04T11:48:59.376Z"
      },
      {
        "duration": 16,
        "start_time": "2022-09-04T11:49:01.794Z"
      },
      {
        "duration": 36,
        "start_time": "2022-09-04T11:49:01.812Z"
      },
      {
        "duration": 231,
        "start_time": "2022-09-04T11:49:01.850Z"
      },
      {
        "duration": 24,
        "start_time": "2022-09-04T11:49:02.083Z"
      },
      {
        "duration": 40,
        "start_time": "2022-09-04T11:49:02.111Z"
      },
      {
        "duration": 24,
        "start_time": "2022-09-04T11:49:02.153Z"
      },
      {
        "duration": 19,
        "start_time": "2022-09-04T11:49:02.182Z"
      },
      {
        "duration": 36,
        "start_time": "2022-09-04T11:49:02.207Z"
      },
      {
        "duration": 17,
        "start_time": "2022-09-04T11:49:02.245Z"
      },
      {
        "duration": 12,
        "start_time": "2022-09-04T11:49:02.264Z"
      },
      {
        "duration": 18,
        "start_time": "2022-09-04T11:49:02.278Z"
      },
      {
        "duration": 44,
        "start_time": "2022-09-04T11:49:02.300Z"
      },
      {
        "duration": 26,
        "start_time": "2022-09-04T11:49:02.345Z"
      },
      {
        "duration": 18,
        "start_time": "2022-09-04T11:49:02.373Z"
      },
      {
        "duration": 54,
        "start_time": "2022-09-04T11:49:02.393Z"
      },
      {
        "duration": 20,
        "start_time": "2022-09-04T11:49:02.450Z"
      },
      {
        "duration": 47,
        "start_time": "2022-09-04T11:49:02.472Z"
      },
      {
        "duration": 26,
        "start_time": "2022-09-04T11:49:02.528Z"
      },
      {
        "duration": 57385,
        "start_time": "2022-09-04T11:49:02.555Z"
      },
      {
        "duration": 60,
        "start_time": "2022-09-04T11:49:59.942Z"
      },
      {
        "duration": 150,
        "start_time": "2022-09-04T11:50:00.004Z"
      },
      {
        "duration": 183,
        "start_time": "2022-09-04T11:50:00.156Z"
      },
      {
        "duration": 20,
        "start_time": "2022-09-04T11:50:00.342Z"
      },
      {
        "duration": 21630,
        "start_time": "2022-09-04T11:50:00.364Z"
      },
      {
        "duration": 22015,
        "start_time": "2022-09-04T11:50:21.996Z"
      },
      {
        "duration": 254,
        "start_time": "2022-09-04T11:50:44.016Z"
      },
      {
        "duration": 4,
        "start_time": "2022-09-04T11:50:44.272Z"
      },
      {
        "duration": 309,
        "start_time": "2022-09-04T11:50:44.277Z"
      },
      {
        "duration": 5,
        "start_time": "2022-09-04T11:50:44.588Z"
      },
      {
        "duration": 3,
        "start_time": "2022-09-04T11:50:44.604Z"
      },
      {
        "duration": 34,
        "start_time": "2022-09-04T11:50:44.611Z"
      },
      {
        "duration": 214,
        "start_time": "2022-09-04T11:50:44.647Z"
      },
      {
        "duration": 11,
        "start_time": "2022-09-04T11:50:44.862Z"
      },
      {
        "duration": 69770,
        "start_time": "2022-09-04T11:50:44.875Z"
      },
      {
        "duration": 905132,
        "start_time": "2022-09-04T11:51:54.647Z"
      },
      {
        "duration": 51,
        "start_time": "2022-09-04T12:14:38.908Z"
      },
      {
        "duration": 4,
        "start_time": "2022-09-04T12:14:45.098Z"
      },
      {
        "duration": 176864,
        "start_time": "2022-09-04T12:23:20.897Z"
      },
      {
        "duration": 10,
        "start_time": "2022-09-04T12:37:31.888Z"
      },
      {
        "duration": 11,
        "start_time": "2022-09-04T12:37:45.482Z"
      },
      {
        "duration": 10,
        "start_time": "2022-09-04T12:39:12.327Z"
      },
      {
        "duration": 10,
        "start_time": "2022-09-04T12:39:23.653Z"
      },
      {
        "duration": 59892,
        "start_time": "2022-09-04T12:42:56.164Z"
      },
      {
        "duration": 176628,
        "start_time": "2022-09-04T12:43:56.058Z"
      },
      {
        "duration": 176117,
        "start_time": "2022-09-04T12:48:00.605Z"
      },
      {
        "duration": 1463,
        "start_time": "2022-09-04T13:21:56.081Z"
      },
      {
        "duration": 4,
        "start_time": "2022-09-04T13:21:57.547Z"
      },
      {
        "duration": 62,
        "start_time": "2022-09-04T13:21:57.553Z"
      },
      {
        "duration": 6,
        "start_time": "2022-09-04T13:21:57.617Z"
      },
      {
        "duration": 16,
        "start_time": "2022-09-04T13:21:57.625Z"
      },
      {
        "duration": 16,
        "start_time": "2022-09-04T13:21:57.643Z"
      },
      {
        "duration": 7,
        "start_time": "2022-09-04T13:21:57.662Z"
      },
      {
        "duration": 40,
        "start_time": "2022-09-04T13:21:57.671Z"
      },
      {
        "duration": 1385,
        "start_time": "2022-09-04T13:21:57.713Z"
      },
      {
        "duration": 7,
        "start_time": "2022-09-04T13:21:59.103Z"
      },
      {
        "duration": 17,
        "start_time": "2022-09-04T13:21:59.112Z"
      },
      {
        "duration": 9,
        "start_time": "2022-09-04T13:21:59.132Z"
      },
      {
        "duration": 11,
        "start_time": "2022-09-04T13:21:59.143Z"
      },
      {
        "duration": 11,
        "start_time": "2022-09-04T13:21:59.157Z"
      },
      {
        "duration": 226,
        "start_time": "2022-09-04T13:21:59.170Z"
      },
      {
        "duration": 10,
        "start_time": "2022-09-04T13:21:59.397Z"
      },
      {
        "duration": 7,
        "start_time": "2022-09-04T13:21:59.408Z"
      },
      {
        "duration": 216,
        "start_time": "2022-09-04T13:21:59.417Z"
      },
      {
        "duration": 6,
        "start_time": "2022-09-04T13:21:59.635Z"
      },
      {
        "duration": 24,
        "start_time": "2022-09-04T13:21:59.642Z"
      },
      {
        "duration": 2211,
        "start_time": "2022-09-04T13:21:59.668Z"
      },
      {
        "duration": 23,
        "start_time": "2022-09-04T13:22:01.881Z"
      },
      {
        "duration": 12,
        "start_time": "2022-09-04T13:22:01.905Z"
      },
      {
        "duration": 257,
        "start_time": "2022-09-04T13:22:01.919Z"
      },
      {
        "duration": 12,
        "start_time": "2022-09-04T13:22:02.178Z"
      },
      {
        "duration": 10,
        "start_time": "2022-09-04T13:22:02.202Z"
      },
      {
        "duration": 12,
        "start_time": "2022-09-04T13:22:02.213Z"
      },
      {
        "duration": 9,
        "start_time": "2022-09-04T13:22:02.229Z"
      },
      {
        "duration": 8,
        "start_time": "2022-09-04T13:22:02.239Z"
      },
      {
        "duration": 7,
        "start_time": "2022-09-04T13:22:02.249Z"
      },
      {
        "duration": 6,
        "start_time": "2022-09-04T13:22:02.257Z"
      },
      {
        "duration": 39,
        "start_time": "2022-09-04T13:22:02.265Z"
      },
      {
        "duration": 5,
        "start_time": "2022-09-04T13:22:02.306Z"
      },
      {
        "duration": 22,
        "start_time": "2022-09-04T13:22:02.313Z"
      },
      {
        "duration": 13,
        "start_time": "2022-09-04T13:22:02.337Z"
      },
      {
        "duration": 14,
        "start_time": "2022-09-04T13:22:02.352Z"
      },
      {
        "duration": 17,
        "start_time": "2022-09-04T13:22:02.367Z"
      },
      {
        "duration": 19,
        "start_time": "2022-09-04T13:22:02.386Z"
      },
      {
        "duration": 22,
        "start_time": "2022-09-04T13:22:02.407Z"
      },
      {
        "duration": 8,
        "start_time": "2022-09-04T13:22:02.431Z"
      },
      {
        "duration": 28467,
        "start_time": "2022-09-04T13:22:02.441Z"
      },
      {
        "duration": 3,
        "start_time": "2022-09-04T13:22:30.910Z"
      },
      {
        "duration": 32,
        "start_time": "2022-09-04T13:22:31.003Z"
      },
      {
        "duration": 184,
        "start_time": "2022-09-04T13:22:31.037Z"
      },
      {
        "duration": 24,
        "start_time": "2022-09-04T13:22:31.223Z"
      },
      {
        "duration": 20307,
        "start_time": "2022-09-04T13:22:31.249Z"
      },
      {
        "duration": 20560,
        "start_time": "2022-09-04T13:22:51.558Z"
      },
      {
        "duration": 229,
        "start_time": "2022-09-04T13:23:12.120Z"
      },
      {
        "duration": 4,
        "start_time": "2022-09-04T13:23:12.351Z"
      },
      {
        "duration": 283,
        "start_time": "2022-09-04T13:23:12.356Z"
      },
      {
        "duration": 5,
        "start_time": "2022-09-04T13:23:12.641Z"
      },
      {
        "duration": 10,
        "start_time": "2022-09-04T13:23:12.647Z"
      },
      {
        "duration": 12,
        "start_time": "2022-09-04T13:23:12.658Z"
      },
      {
        "duration": 212,
        "start_time": "2022-09-04T13:23:12.672Z"
      },
      {
        "duration": 17,
        "start_time": "2022-09-04T13:23:12.886Z"
      },
      {
        "duration": 58914,
        "start_time": "2022-09-04T13:23:12.905Z"
      },
      {
        "duration": 176281,
        "start_time": "2022-09-04T13:24:11.821Z"
      },
      {
        "duration": 136,
        "start_time": "2022-09-04T13:35:49.911Z"
      },
      {
        "duration": 30,
        "start_time": "2022-09-04T13:35:57.344Z"
      },
      {
        "duration": 3,
        "start_time": "2022-09-04T13:36:25.878Z"
      },
      {
        "duration": 30,
        "start_time": "2022-09-04T13:36:41.678Z"
      },
      {
        "duration": 31,
        "start_time": "2022-09-04T13:37:58.555Z"
      },
      {
        "duration": 4,
        "start_time": "2022-09-04T13:39:16.228Z"
      },
      {
        "duration": 9,
        "start_time": "2022-09-04T13:39:16.234Z"
      },
      {
        "duration": 43,
        "start_time": "2022-09-04T13:39:16.244Z"
      },
      {
        "duration": 4,
        "start_time": "2022-09-04T13:39:16.290Z"
      },
      {
        "duration": 17,
        "start_time": "2022-09-04T13:39:16.296Z"
      },
      {
        "duration": 16,
        "start_time": "2022-09-04T13:39:16.315Z"
      },
      {
        "duration": 7,
        "start_time": "2022-09-04T13:39:16.333Z"
      },
      {
        "duration": 19,
        "start_time": "2022-09-04T13:39:16.342Z"
      },
      {
        "duration": 1282,
        "start_time": "2022-09-04T13:39:16.364Z"
      },
      {
        "duration": 5,
        "start_time": "2022-09-04T13:39:17.648Z"
      },
      {
        "duration": 10,
        "start_time": "2022-09-04T13:39:17.654Z"
      },
      {
        "duration": 6,
        "start_time": "2022-09-04T13:39:17.666Z"
      },
      {
        "duration": 8,
        "start_time": "2022-09-04T13:39:17.673Z"
      },
      {
        "duration": 9,
        "start_time": "2022-09-04T13:39:17.703Z"
      },
      {
        "duration": 193,
        "start_time": "2022-09-04T13:39:17.714Z"
      },
      {
        "duration": 6,
        "start_time": "2022-09-04T13:39:17.909Z"
      },
      {
        "duration": 7,
        "start_time": "2022-09-04T13:39:17.917Z"
      },
      {
        "duration": 209,
        "start_time": "2022-09-04T13:39:17.926Z"
      },
      {
        "duration": 8,
        "start_time": "2022-09-04T13:39:18.137Z"
      },
      {
        "duration": 21,
        "start_time": "2022-09-04T13:39:18.147Z"
      },
      {
        "duration": 2315,
        "start_time": "2022-09-04T13:39:18.170Z"
      },
      {
        "duration": 20,
        "start_time": "2022-09-04T13:39:20.487Z"
      },
      {
        "duration": 12,
        "start_time": "2022-09-04T13:39:20.509Z"
      },
      {
        "duration": 234,
        "start_time": "2022-09-04T13:39:20.525Z"
      },
      {
        "duration": 11,
        "start_time": "2022-09-04T13:39:20.761Z"
      },
      {
        "duration": 4,
        "start_time": "2022-09-04T13:39:20.774Z"
      },
      {
        "duration": 30,
        "start_time": "2022-09-04T13:39:20.780Z"
      },
      {
        "duration": 10,
        "start_time": "2022-09-04T13:39:20.812Z"
      },
      {
        "duration": 13,
        "start_time": "2022-09-04T13:39:20.824Z"
      },
      {
        "duration": 11,
        "start_time": "2022-09-04T13:39:20.839Z"
      },
      {
        "duration": 14,
        "start_time": "2022-09-04T13:39:20.851Z"
      },
      {
        "duration": 22,
        "start_time": "2022-09-04T13:39:20.867Z"
      },
      {
        "duration": 5,
        "start_time": "2022-09-04T13:39:20.891Z"
      },
      {
        "duration": 21,
        "start_time": "2022-09-04T13:39:20.904Z"
      },
      {
        "duration": 12,
        "start_time": "2022-09-04T13:39:20.926Z"
      },
      {
        "duration": 9,
        "start_time": "2022-09-04T13:39:20.939Z"
      },
      {
        "duration": 15,
        "start_time": "2022-09-04T13:39:20.950Z"
      },
      {
        "duration": 5,
        "start_time": "2022-09-04T13:39:20.967Z"
      },
      {
        "duration": 9,
        "start_time": "2022-09-04T13:39:20.974Z"
      },
      {
        "duration": 19,
        "start_time": "2022-09-04T13:39:20.985Z"
      },
      {
        "duration": 25606,
        "start_time": "2022-09-04T13:39:21.005Z"
      },
      {
        "duration": 91,
        "start_time": "2022-09-04T13:39:46.613Z"
      },
      {
        "duration": 102,
        "start_time": "2022-09-04T13:39:46.707Z"
      },
      {
        "duration": 92,
        "start_time": "2022-09-04T13:39:46.811Z"
      },
      {
        "duration": 114,
        "start_time": "2022-09-04T13:39:46.906Z"
      },
      {
        "duration": 19691,
        "start_time": "2022-09-04T13:39:47.022Z"
      },
      {
        "duration": 19717,
        "start_time": "2022-09-04T13:40:06.715Z"
      },
      {
        "duration": 243,
        "start_time": "2022-09-04T13:40:26.435Z"
      },
      {
        "duration": 3,
        "start_time": "2022-09-04T13:40:26.681Z"
      },
      {
        "duration": 249,
        "start_time": "2022-09-04T13:40:26.686Z"
      },
      {
        "duration": 4,
        "start_time": "2022-09-04T13:40:26.937Z"
      },
      {
        "duration": 4,
        "start_time": "2022-09-04T13:40:26.943Z"
      },
      {
        "duration": 10,
        "start_time": "2022-09-04T13:40:26.948Z"
      },
      {
        "duration": 342,
        "start_time": "2022-09-04T13:40:26.961Z"
      },
      {
        "duration": 28,
        "start_time": "2022-09-04T13:40:27.307Z"
      },
      {
        "duration": 16,
        "start_time": "2022-09-04T13:42:17.219Z"
      },
      {
        "duration": 5,
        "start_time": "2022-09-04T13:47:00.101Z"
      },
      {
        "duration": 113895,
        "start_time": "2022-09-04T13:48:08.917Z"
      },
      {
        "duration": 179032,
        "start_time": "2022-09-04T13:55:50.414Z"
      },
      {
        "duration": 177110,
        "start_time": "2022-09-04T13:58:49.448Z"
      },
      {
        "duration": 225,
        "start_time": "2022-09-04T14:01:46.559Z"
      },
      {
        "duration": 30,
        "start_time": "2022-09-04T14:01:46.786Z"
      },
      {
        "duration": 0,
        "start_time": "2022-09-04T14:09:34.644Z"
      },
      {
        "duration": 15,
        "start_time": "2022-09-04T14:09:37.080Z"
      },
      {
        "duration": 13,
        "start_time": "2022-09-04T14:11:20.723Z"
      },
      {
        "duration": 42338,
        "start_time": "2022-09-04T14:12:09.688Z"
      },
      {
        "duration": 4,
        "start_time": "2022-09-04T14:13:10.113Z"
      },
      {
        "duration": 18308,
        "start_time": "2022-09-04T14:13:31.120Z"
      },
      {
        "duration": 52127,
        "start_time": "2022-09-04T14:14:25.299Z"
      },
      {
        "duration": 524477,
        "start_time": "2022-09-04T14:15:28.132Z"
      },
      {
        "duration": 2,
        "start_time": "2022-09-04T14:26:20.888Z"
      },
      {
        "duration": 6345,
        "start_time": "2022-09-04T14:26:32.189Z"
      },
      {
        "duration": 4,
        "start_time": "2022-09-04T14:26:47.228Z"
      },
      {
        "duration": 3,
        "start_time": "2022-09-04T14:26:47.669Z"
      },
      {
        "duration": 5,
        "start_time": "2022-09-04T14:26:48.900Z"
      },
      {
        "duration": 3,
        "start_time": "2022-09-04T14:27:07.310Z"
      },
      {
        "duration": 461438,
        "start_time": "2022-09-04T14:27:25.980Z"
      },
      {
        "duration": 1396,
        "start_time": "2022-09-04T14:37:12.556Z"
      },
      {
        "duration": 3,
        "start_time": "2022-09-04T14:37:13.954Z"
      },
      {
        "duration": 17,
        "start_time": "2022-09-04T14:37:13.958Z"
      },
      {
        "duration": 62,
        "start_time": "2022-09-04T14:37:13.976Z"
      },
      {
        "duration": 6,
        "start_time": "2022-09-04T14:37:14.040Z"
      },
      {
        "duration": 23,
        "start_time": "2022-09-04T14:37:14.048Z"
      },
      {
        "duration": 26,
        "start_time": "2022-09-04T14:37:14.073Z"
      },
      {
        "duration": 18,
        "start_time": "2022-09-04T14:37:14.101Z"
      },
      {
        "duration": 28,
        "start_time": "2022-09-04T14:37:14.120Z"
      },
      {
        "duration": 1289,
        "start_time": "2022-09-04T14:37:14.150Z"
      },
      {
        "duration": 5,
        "start_time": "2022-09-04T14:37:15.442Z"
      },
      {
        "duration": 15,
        "start_time": "2022-09-04T14:37:15.449Z"
      },
      {
        "duration": 7,
        "start_time": "2022-09-04T14:37:15.466Z"
      },
      {
        "duration": 28,
        "start_time": "2022-09-04T14:37:15.476Z"
      },
      {
        "duration": 12,
        "start_time": "2022-09-04T14:37:15.505Z"
      },
      {
        "duration": 198,
        "start_time": "2022-09-04T14:37:15.519Z"
      },
      {
        "duration": 7,
        "start_time": "2022-09-04T14:37:15.719Z"
      },
      {
        "duration": 6,
        "start_time": "2022-09-04T14:37:15.727Z"
      },
      {
        "duration": 205,
        "start_time": "2022-09-04T14:37:15.735Z"
      },
      {
        "duration": 6,
        "start_time": "2022-09-04T14:37:15.942Z"
      },
      {
        "duration": 29,
        "start_time": "2022-09-04T14:37:15.949Z"
      },
      {
        "duration": 2232,
        "start_time": "2022-09-04T14:37:15.979Z"
      },
      {
        "duration": 12,
        "start_time": "2022-09-04T14:37:18.213Z"
      },
      {
        "duration": 15,
        "start_time": "2022-09-04T14:37:18.227Z"
      },
      {
        "duration": 261,
        "start_time": "2022-09-04T14:37:18.244Z"
      },
      {
        "duration": 11,
        "start_time": "2022-09-04T14:37:18.507Z"
      },
      {
        "duration": 5,
        "start_time": "2022-09-04T14:37:18.520Z"
      },
      {
        "duration": 12,
        "start_time": "2022-09-04T14:37:18.527Z"
      },
      {
        "duration": 8,
        "start_time": "2022-09-04T14:37:18.540Z"
      },
      {
        "duration": 7,
        "start_time": "2022-09-04T14:37:18.550Z"
      },
      {
        "duration": 12,
        "start_time": "2022-09-04T14:37:18.559Z"
      },
      {
        "duration": 37,
        "start_time": "2022-09-04T14:37:18.572Z"
      },
      {
        "duration": 13,
        "start_time": "2022-09-04T14:37:18.610Z"
      },
      {
        "duration": 5,
        "start_time": "2022-09-04T14:37:18.625Z"
      },
      {
        "duration": 23,
        "start_time": "2022-09-04T14:37:18.631Z"
      },
      {
        "duration": 12,
        "start_time": "2022-09-04T14:37:18.655Z"
      },
      {
        "duration": 13,
        "start_time": "2022-09-04T14:37:18.669Z"
      },
      {
        "duration": 26,
        "start_time": "2022-09-04T14:37:18.684Z"
      },
      {
        "duration": 10,
        "start_time": "2022-09-04T14:37:18.712Z"
      },
      {
        "duration": 12,
        "start_time": "2022-09-04T14:37:18.724Z"
      },
      {
        "duration": 10,
        "start_time": "2022-09-04T14:37:18.740Z"
      },
      {
        "duration": 22259,
        "start_time": "2022-09-04T14:37:18.751Z"
      },
      {
        "duration": 6,
        "start_time": "2022-09-04T14:37:41.102Z"
      },
      {
        "duration": 100,
        "start_time": "2022-09-04T14:37:41.111Z"
      },
      {
        "duration": 92,
        "start_time": "2022-09-04T14:37:41.213Z"
      },
      {
        "duration": 96,
        "start_time": "2022-09-04T14:37:41.311Z"
      },
      {
        "duration": 19582,
        "start_time": "2022-09-04T14:37:41.409Z"
      },
      {
        "duration": 19695,
        "start_time": "2022-09-04T14:38:00.993Z"
      },
      {
        "duration": 221,
        "start_time": "2022-09-04T14:38:20.690Z"
      },
      {
        "duration": 4,
        "start_time": "2022-09-04T14:38:20.913Z"
      },
      {
        "duration": 253,
        "start_time": "2022-09-04T14:38:20.918Z"
      },
      {
        "duration": 3,
        "start_time": "2022-09-04T14:38:21.173Z"
      },
      {
        "duration": 7,
        "start_time": "2022-09-04T14:38:21.178Z"
      },
      {
        "duration": 23,
        "start_time": "2022-09-04T14:38:21.186Z"
      },
      {
        "duration": 216,
        "start_time": "2022-09-04T14:38:21.211Z"
      },
      {
        "duration": 10,
        "start_time": "2022-09-04T14:38:21.429Z"
      },
      {
        "duration": 17,
        "start_time": "2022-09-04T14:38:21.441Z"
      },
      {
        "duration": 116224,
        "start_time": "2022-09-04T14:38:21.460Z"
      },
      {
        "duration": 77,
        "start_time": "2022-09-04T14:40:17.685Z"
      },
      {
        "duration": 419053,
        "start_time": "2022-09-04T14:40:17.764Z"
      },
      {
        "duration": 179519,
        "start_time": "2022-09-04T14:47:16.819Z"
      },
      {
        "duration": 182739,
        "start_time": "2022-09-04T14:50:16.340Z"
      },
      {
        "duration": 124,
        "start_time": "2022-09-04T14:55:31.136Z"
      },
      {
        "duration": 93708,
        "start_time": "2022-09-04T14:55:50.416Z"
      },
      {
        "duration": 29458,
        "start_time": "2022-09-04T14:58:15.789Z"
      },
      {
        "duration": 28106,
        "start_time": "2022-09-04T15:04:13.023Z"
      },
      {
        "duration": 9,
        "start_time": "2022-09-04T15:07:16.915Z"
      },
      {
        "duration": 3,
        "start_time": "2022-09-04T15:07:28.393Z"
      },
      {
        "duration": 4,
        "start_time": "2022-09-04T15:07:28.729Z"
      },
      {
        "duration": 96651,
        "start_time": "2022-09-04T15:08:48.923Z"
      },
      {
        "duration": 1085,
        "start_time": "2022-09-04T15:11:12.851Z"
      },
      {
        "duration": 3,
        "start_time": "2022-09-04T15:11:13.938Z"
      },
      {
        "duration": 28,
        "start_time": "2022-09-04T15:11:13.942Z"
      },
      {
        "duration": 49,
        "start_time": "2022-09-04T15:11:13.971Z"
      },
      {
        "duration": 6,
        "start_time": "2022-09-04T15:11:14.022Z"
      },
      {
        "duration": 30,
        "start_time": "2022-09-04T15:11:14.030Z"
      },
      {
        "duration": 16,
        "start_time": "2022-09-04T15:11:14.062Z"
      },
      {
        "duration": 13,
        "start_time": "2022-09-04T15:11:14.080Z"
      },
      {
        "duration": 19,
        "start_time": "2022-09-04T15:11:14.094Z"
      },
      {
        "duration": 1189,
        "start_time": "2022-09-04T15:11:14.115Z"
      },
      {
        "duration": 6,
        "start_time": "2022-09-04T15:11:15.305Z"
      },
      {
        "duration": 42,
        "start_time": "2022-09-04T15:11:15.313Z"
      },
      {
        "duration": 15,
        "start_time": "2022-09-04T15:11:15.356Z"
      },
      {
        "duration": 31,
        "start_time": "2022-09-04T15:11:15.373Z"
      },
      {
        "duration": 32,
        "start_time": "2022-09-04T15:11:15.405Z"
      },
      {
        "duration": 291,
        "start_time": "2022-09-04T15:11:15.438Z"
      },
      {
        "duration": 6,
        "start_time": "2022-09-04T15:11:15.731Z"
      },
      {
        "duration": 6,
        "start_time": "2022-09-04T15:11:15.738Z"
      },
      {
        "duration": 196,
        "start_time": "2022-09-04T15:11:15.745Z"
      },
      {
        "duration": 7,
        "start_time": "2022-09-04T15:11:15.942Z"
      },
      {
        "duration": 19,
        "start_time": "2022-09-04T15:11:15.950Z"
      },
      {
        "duration": 2209,
        "start_time": "2022-09-04T15:11:15.970Z"
      },
      {
        "duration": 24,
        "start_time": "2022-09-04T15:11:18.180Z"
      },
      {
        "duration": 11,
        "start_time": "2022-09-04T15:11:18.205Z"
      },
      {
        "duration": 237,
        "start_time": "2022-09-04T15:11:18.218Z"
      },
      {
        "duration": 10,
        "start_time": "2022-09-04T15:11:18.457Z"
      },
      {
        "duration": 5,
        "start_time": "2022-09-04T15:11:18.468Z"
      },
      {
        "duration": 30,
        "start_time": "2022-09-04T15:11:18.474Z"
      },
      {
        "duration": 6,
        "start_time": "2022-09-04T15:11:18.505Z"
      },
      {
        "duration": 10,
        "start_time": "2022-09-04T15:11:18.513Z"
      },
      {
        "duration": 8,
        "start_time": "2022-09-04T15:11:18.525Z"
      },
      {
        "duration": 6,
        "start_time": "2022-09-04T15:11:18.535Z"
      },
      {
        "duration": 14,
        "start_time": "2022-09-04T15:11:18.542Z"
      },
      {
        "duration": 8,
        "start_time": "2022-09-04T15:11:18.557Z"
      },
      {
        "duration": 46,
        "start_time": "2022-09-04T15:11:18.566Z"
      },
      {
        "duration": 12,
        "start_time": "2022-09-04T15:11:18.614Z"
      },
      {
        "duration": 6,
        "start_time": "2022-09-04T15:11:18.628Z"
      },
      {
        "duration": 10,
        "start_time": "2022-09-04T15:11:18.636Z"
      },
      {
        "duration": 6,
        "start_time": "2022-09-04T15:11:18.647Z"
      },
      {
        "duration": 7,
        "start_time": "2022-09-04T15:11:18.655Z"
      },
      {
        "duration": 4,
        "start_time": "2022-09-04T15:11:18.665Z"
      },
      {
        "duration": 20937,
        "start_time": "2022-09-04T15:11:18.670Z"
      },
      {
        "duration": 91,
        "start_time": "2022-09-04T15:11:39.612Z"
      },
      {
        "duration": 13,
        "start_time": "2022-09-04T15:11:39.706Z"
      },
      {
        "duration": 182,
        "start_time": "2022-09-04T15:11:39.721Z"
      },
      {
        "duration": 9,
        "start_time": "2022-09-04T15:11:39.905Z"
      },
      {
        "duration": 254,
        "start_time": "2022-09-04T15:11:39.917Z"
      },
      {
        "duration": 3,
        "start_time": "2022-09-04T15:11:40.174Z"
      },
      {
        "duration": 102,
        "start_time": "2022-09-04T15:12:13.954Z"
      },
      {
        "duration": 175947,
        "start_time": "2022-09-04T15:12:18.354Z"
      },
      {
        "duration": 2781,
        "start_time": "2022-09-04T15:15:14.342Z"
      },
      {
        "duration": 3,
        "start_time": "2022-09-04T15:15:17.125Z"
      },
      {
        "duration": 14,
        "start_time": "2022-09-04T15:15:17.130Z"
      },
      {
        "duration": 3,
        "start_time": "2022-09-04T15:15:19.749Z"
      },
      {
        "duration": 3,
        "start_time": "2022-09-04T15:15:20.305Z"
      },
      {
        "duration": 2768,
        "start_time": "2022-09-04T15:15:25.943Z"
      },
      {
        "duration": 10346,
        "start_time": "2022-09-04T15:16:24.243Z"
      },
      {
        "duration": 4160,
        "start_time": "2022-09-04T15:17:00.389Z"
      },
      {
        "duration": 4,
        "start_time": "2022-09-04T15:19:40.646Z"
      },
      {
        "duration": 10145,
        "start_time": "2022-09-04T15:19:56.918Z"
      },
      {
        "duration": 4,
        "start_time": "2022-09-04T15:29:34.377Z"
      },
      {
        "duration": 3,
        "start_time": "2022-09-04T15:29:49.624Z"
      },
      {
        "duration": 130,
        "start_time": "2022-09-04T15:31:52.349Z"
      },
      {
        "duration": 4,
        "start_time": "2022-09-04T15:32:37.103Z"
      },
      {
        "duration": 20817,
        "start_time": "2022-09-04T15:32:39.732Z"
      },
      {
        "duration": 266699,
        "start_time": "2022-09-04T15:33:16.007Z"
      },
      {
        "duration": 4,
        "start_time": "2022-09-04T15:38:23.807Z"
      },
      {
        "duration": 3,
        "start_time": "2022-09-04T15:40:45.479Z"
      },
      {
        "duration": 4,
        "start_time": "2022-09-04T15:41:12.008Z"
      },
      {
        "duration": 66376,
        "start_time": "2022-09-04T15:41:12.352Z"
      },
      {
        "duration": 0,
        "start_time": "2022-09-04T15:42:18.730Z"
      },
      {
        "duration": 0,
        "start_time": "2022-09-04T15:42:18.731Z"
      },
      {
        "duration": 4,
        "start_time": "2022-09-04T15:42:24.753Z"
      },
      {
        "duration": 268712,
        "start_time": "2022-09-04T15:42:25.185Z"
      },
      {
        "duration": 4,
        "start_time": "2022-09-04T15:46:53.899Z"
      },
      {
        "duration": 26999,
        "start_time": "2022-09-04T15:46:53.905Z"
      },
      {
        "duration": 4,
        "start_time": "2022-09-04T15:49:37.653Z"
      },
      {
        "duration": 3133,
        "start_time": "2022-09-04T15:49:38.832Z"
      },
      {
        "duration": 4,
        "start_time": "2022-09-04T15:50:51.602Z"
      },
      {
        "duration": 3745,
        "start_time": "2022-09-04T15:50:51.910Z"
      },
      {
        "duration": 50,
        "start_time": "2022-09-04T15:54:57.374Z"
      },
      {
        "duration": 3,
        "start_time": "2022-09-04T15:55:01.344Z"
      },
      {
        "duration": 14073,
        "start_time": "2022-09-04T15:55:01.710Z"
      },
      {
        "duration": 41,
        "start_time": "2022-09-04T15:57:15.755Z"
      },
      {
        "duration": 14327,
        "start_time": "2022-09-04T15:58:36.338Z"
      },
      {
        "duration": 25,
        "start_time": "2022-09-04T15:58:50.667Z"
      },
      {
        "duration": 3602,
        "start_time": "2022-09-10T18:35:28.881Z"
      },
      {
        "duration": 3,
        "start_time": "2022-09-10T18:35:32.485Z"
      },
      {
        "duration": 6,
        "start_time": "2022-09-10T18:35:32.489Z"
      },
      {
        "duration": 169,
        "start_time": "2022-09-10T18:35:32.497Z"
      },
      {
        "duration": 5,
        "start_time": "2022-09-10T18:35:32.668Z"
      },
      {
        "duration": 14,
        "start_time": "2022-09-10T18:35:32.674Z"
      },
      {
        "duration": 12,
        "start_time": "2022-09-10T18:35:32.690Z"
      },
      {
        "duration": 6,
        "start_time": "2022-09-10T18:35:32.703Z"
      },
      {
        "duration": 10,
        "start_time": "2022-09-10T18:35:32.710Z"
      },
      {
        "duration": 993,
        "start_time": "2022-09-10T18:35:32.722Z"
      },
      {
        "duration": 4,
        "start_time": "2022-09-10T18:35:33.716Z"
      },
      {
        "duration": 9,
        "start_time": "2022-09-10T18:35:33.722Z"
      },
      {
        "duration": 5,
        "start_time": "2022-09-10T18:35:33.732Z"
      },
      {
        "duration": 6,
        "start_time": "2022-09-10T18:35:33.756Z"
      },
      {
        "duration": 7,
        "start_time": "2022-09-10T18:35:33.764Z"
      },
      {
        "duration": 172,
        "start_time": "2022-09-10T18:35:33.773Z"
      },
      {
        "duration": 8,
        "start_time": "2022-09-10T18:35:33.947Z"
      },
      {
        "duration": 13,
        "start_time": "2022-09-10T18:35:33.957Z"
      },
      {
        "duration": 8,
        "start_time": "2022-09-10T18:35:33.972Z"
      },
      {
        "duration": 1258,
        "start_time": "2022-09-10T18:35:47.779Z"
      },
      {
        "duration": 10,
        "start_time": "2022-09-10T18:36:03.095Z"
      },
      {
        "duration": 923,
        "start_time": "2022-09-10T18:36:17.417Z"
      },
      {
        "duration": 983,
        "start_time": "2022-09-10T18:36:42.054Z"
      }
    ],
    "colab": {
      "collapsed_sections": [],
      "provenance": [],
      "include_colab_link": true
    },
    "kernelspec": {
      "display_name": "Python 3 (ipykernel)",
      "language": "python",
      "name": "python3"
    },
    "language_info": {
      "codemirror_mode": {
        "name": "ipython",
        "version": 3
      },
      "file_extension": ".py",
      "mimetype": "text/x-python",
      "name": "python",
      "nbconvert_exporter": "python",
      "pygments_lexer": "ipython3",
      "version": "3.9.5"
    },
    "toc": {
      "base_numbering": 1,
      "nav_menu": {},
      "number_sections": true,
      "sideBar": true,
      "skip_h1_title": true,
      "title_cell": "Table of Contents",
      "title_sidebar": "Contents",
      "toc_cell": false,
      "toc_position": {},
      "toc_section_display": true,
      "toc_window_display": false
    }
  },
  "nbformat": 4,
  "nbformat_minor": 0
}