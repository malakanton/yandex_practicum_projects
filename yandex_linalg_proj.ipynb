{
  "cells": [
    {
      "cell_type": "markdown",
      "metadata": {
        "id": "QnLciJWTKsA_"
      },
      "source": [
        "# Защита персональных данных клиентов"
      ]
    },
    {
      "cell_type": "markdown",
      "metadata": {
        "id": "f06chrdyKsA_"
      },
      "source": [
        "<font size=4>*Описание проекта:*</font>\n",
        "\n",
        "Страховой компании \"Хоть Потоп\" необходимо защитить данные путем шифрования. При этом зашифрованные данные должны быть пригодны для модели машинного обучения для предсказания количества страховых выплат клиенту.\n",
        "\n",
        "<font size=4>*Задачи проекта:*</font>\n",
        "\n",
        " - Провести первичный анализ данных\n",
        " - Обосновать возможность умножения матрицы признаков на обратимую матрицу при котором не изменятся качество предсказаний модели линейной регрессии. \n",
        " - Проверить алгоритм умножения матрицы признаков на матрицу-ключ и обучить модель на этих признаках. Сравнить показания метрик MSE и R2 с показаниями модели обученной на исходных данных\n",
        " - Усложнить алгоритм добавив несколько ключей шифрования\n",
        " - Проверить качество модели на зашифрованных данных и сравнить дешифрованные признаки с исходными\n",
        " - Сохранить класс шифрования/дешифрования для последующего использования."
      ]
    },
    {
      "cell_type": "markdown",
      "metadata": {
        "id": "r_wpYiCiKsBA"
      },
      "source": [
        "## Загрузка и подготовка данных"
      ]
    },
    {
      "cell_type": "code",
      "source": [
        "import pandas as pd\n",
        "import numpy as np\n",
        "from sklearn.linear_model import LinearRegression\n",
        "from sklearn.metrics import r2_score, mean_squared_error\n",
        "import sys"
      ],
      "metadata": {
        "id": "TFoWEHdbViHf"
      },
      "execution_count": null,
      "outputs": []
    },
    {
      "cell_type": "code",
      "execution_count": null,
      "metadata": {
        "id": "1pDQQDi7KsBA"
      },
      "outputs": [],
      "source": [
        "try:\n",
        "  df = pd.read_csv('/datasets/insurance.csv')\n",
        "except:\n",
        "  df = pd.read_csv('https://code.s3.yandex.net/datasets/insurance.csv')"
      ]
    },
    {
      "cell_type": "markdown",
      "source": [
        "Переменная MAX будет равна максимальному значению которое может принимать тип int64"
      ],
      "metadata": {
        "id": "IsZJO3NUO9DP"
      }
    },
    {
      "cell_type": "code",
      "source": [
        "MAX = sys.maxsize"
      ],
      "metadata": {
        "id": "_-hk20mf5qSs"
      },
      "execution_count": null,
      "outputs": []
    },
    {
      "cell_type": "code",
      "source": [
        "df.info()"
      ],
      "metadata": {
        "id": "Yt--MxJiWQnF",
        "colab": {
          "base_uri": "https://localhost:8080/"
        },
        "outputId": "8604dd65-057e-4ef9-d460-9a84af020ce9"
      },
      "execution_count": null,
      "outputs": [
        {
          "output_type": "stream",
          "name": "stdout",
          "text": [
            "<class 'pandas.core.frame.DataFrame'>\n",
            "RangeIndex: 5000 entries, 0 to 4999\n",
            "Data columns (total 5 columns):\n",
            " #   Column             Non-Null Count  Dtype  \n",
            "---  ------             --------------  -----  \n",
            " 0   Пол                5000 non-null   int64  \n",
            " 1   Возраст            5000 non-null   float64\n",
            " 2   Зарплата           5000 non-null   float64\n",
            " 3   Члены семьи        5000 non-null   int64  \n",
            " 4   Страховые выплаты  5000 non-null   int64  \n",
            "dtypes: float64(2), int64(3)\n",
            "memory usage: 195.4 KB\n"
          ]
        }
      ]
    },
    {
      "cell_type": "code",
      "source": [
        "df.head()"
      ],
      "metadata": {
        "id": "Uk4Pv7H8VxyN",
        "colab": {
          "base_uri": "https://localhost:8080/",
          "height": 204
        },
        "outputId": "707a91e0-fe11-43fb-8cce-6cb8c8e58161"
      },
      "execution_count": null,
      "outputs": [
        {
          "output_type": "execute_result",
          "data": {
            "text/plain": [
              "   Пол  Возраст  Зарплата  Члены семьи  Страховые выплаты\n",
              "0    1     41.0   49600.0            1                  0\n",
              "1    0     46.0   38000.0            1                  1\n",
              "2    0     29.0   21000.0            0                  0\n",
              "3    0     21.0   41700.0            2                  0\n",
              "4    1     28.0   26100.0            0                  0"
            ],
            "text/html": [
              "\n",
              "  <div id=\"df-58080e81-177c-4f53-a0ce-08b46b2ea502\">\n",
              "    <div class=\"colab-df-container\">\n",
              "      <div>\n",
              "<style scoped>\n",
              "    .dataframe tbody tr th:only-of-type {\n",
              "        vertical-align: middle;\n",
              "    }\n",
              "\n",
              "    .dataframe tbody tr th {\n",
              "        vertical-align: top;\n",
              "    }\n",
              "\n",
              "    .dataframe thead th {\n",
              "        text-align: right;\n",
              "    }\n",
              "</style>\n",
              "<table border=\"1\" class=\"dataframe\">\n",
              "  <thead>\n",
              "    <tr style=\"text-align: right;\">\n",
              "      <th></th>\n",
              "      <th>Пол</th>\n",
              "      <th>Возраст</th>\n",
              "      <th>Зарплата</th>\n",
              "      <th>Члены семьи</th>\n",
              "      <th>Страховые выплаты</th>\n",
              "    </tr>\n",
              "  </thead>\n",
              "  <tbody>\n",
              "    <tr>\n",
              "      <th>0</th>\n",
              "      <td>1</td>\n",
              "      <td>41.0</td>\n",
              "      <td>49600.0</td>\n",
              "      <td>1</td>\n",
              "      <td>0</td>\n",
              "    </tr>\n",
              "    <tr>\n",
              "      <th>1</th>\n",
              "      <td>0</td>\n",
              "      <td>46.0</td>\n",
              "      <td>38000.0</td>\n",
              "      <td>1</td>\n",
              "      <td>1</td>\n",
              "    </tr>\n",
              "    <tr>\n",
              "      <th>2</th>\n",
              "      <td>0</td>\n",
              "      <td>29.0</td>\n",
              "      <td>21000.0</td>\n",
              "      <td>0</td>\n",
              "      <td>0</td>\n",
              "    </tr>\n",
              "    <tr>\n",
              "      <th>3</th>\n",
              "      <td>0</td>\n",
              "      <td>21.0</td>\n",
              "      <td>41700.0</td>\n",
              "      <td>2</td>\n",
              "      <td>0</td>\n",
              "    </tr>\n",
              "    <tr>\n",
              "      <th>4</th>\n",
              "      <td>1</td>\n",
              "      <td>28.0</td>\n",
              "      <td>26100.0</td>\n",
              "      <td>0</td>\n",
              "      <td>0</td>\n",
              "    </tr>\n",
              "  </tbody>\n",
              "</table>\n",
              "</div>\n",
              "      <button class=\"colab-df-convert\" onclick=\"convertToInteractive('df-58080e81-177c-4f53-a0ce-08b46b2ea502')\"\n",
              "              title=\"Convert this dataframe to an interactive table.\"\n",
              "              style=\"display:none;\">\n",
              "        \n",
              "  <svg xmlns=\"http://www.w3.org/2000/svg\" height=\"24px\"viewBox=\"0 0 24 24\"\n",
              "       width=\"24px\">\n",
              "    <path d=\"M0 0h24v24H0V0z\" fill=\"none\"/>\n",
              "    <path d=\"M18.56 5.44l.94 2.06.94-2.06 2.06-.94-2.06-.94-.94-2.06-.94 2.06-2.06.94zm-11 1L8.5 8.5l.94-2.06 2.06-.94-2.06-.94L8.5 2.5l-.94 2.06-2.06.94zm10 10l.94 2.06.94-2.06 2.06-.94-2.06-.94-.94-2.06-.94 2.06-2.06.94z\"/><path d=\"M17.41 7.96l-1.37-1.37c-.4-.4-.92-.59-1.43-.59-.52 0-1.04.2-1.43.59L10.3 9.45l-7.72 7.72c-.78.78-.78 2.05 0 2.83L4 21.41c.39.39.9.59 1.41.59.51 0 1.02-.2 1.41-.59l7.78-7.78 2.81-2.81c.8-.78.8-2.07 0-2.86zM5.41 20L4 18.59l7.72-7.72 1.47 1.35L5.41 20z\"/>\n",
              "  </svg>\n",
              "      </button>\n",
              "      \n",
              "  <style>\n",
              "    .colab-df-container {\n",
              "      display:flex;\n",
              "      flex-wrap:wrap;\n",
              "      gap: 12px;\n",
              "    }\n",
              "\n",
              "    .colab-df-convert {\n",
              "      background-color: #E8F0FE;\n",
              "      border: none;\n",
              "      border-radius: 50%;\n",
              "      cursor: pointer;\n",
              "      display: none;\n",
              "      fill: #1967D2;\n",
              "      height: 32px;\n",
              "      padding: 0 0 0 0;\n",
              "      width: 32px;\n",
              "    }\n",
              "\n",
              "    .colab-df-convert:hover {\n",
              "      background-color: #E2EBFA;\n",
              "      box-shadow: 0px 1px 2px rgba(60, 64, 67, 0.3), 0px 1px 3px 1px rgba(60, 64, 67, 0.15);\n",
              "      fill: #174EA6;\n",
              "    }\n",
              "\n",
              "    [theme=dark] .colab-df-convert {\n",
              "      background-color: #3B4455;\n",
              "      fill: #D2E3FC;\n",
              "    }\n",
              "\n",
              "    [theme=dark] .colab-df-convert:hover {\n",
              "      background-color: #434B5C;\n",
              "      box-shadow: 0px 1px 3px 1px rgba(0, 0, 0, 0.15);\n",
              "      filter: drop-shadow(0px 1px 2px rgba(0, 0, 0, 0.3));\n",
              "      fill: #FFFFFF;\n",
              "    }\n",
              "  </style>\n",
              "\n",
              "      <script>\n",
              "        const buttonEl =\n",
              "          document.querySelector('#df-58080e81-177c-4f53-a0ce-08b46b2ea502 button.colab-df-convert');\n",
              "        buttonEl.style.display =\n",
              "          google.colab.kernel.accessAllowed ? 'block' : 'none';\n",
              "\n",
              "        async function convertToInteractive(key) {\n",
              "          const element = document.querySelector('#df-58080e81-177c-4f53-a0ce-08b46b2ea502');\n",
              "          const dataTable =\n",
              "            await google.colab.kernel.invokeFunction('convertToInteractive',\n",
              "                                                     [key], {});\n",
              "          if (!dataTable) return;\n",
              "\n",
              "          const docLinkHtml = 'Like what you see? Visit the ' +\n",
              "            '<a target=\"_blank\" href=https://colab.research.google.com/notebooks/data_table.ipynb>data table notebook</a>'\n",
              "            + ' to learn more about interactive tables.';\n",
              "          element.innerHTML = '';\n",
              "          dataTable['output_type'] = 'display_data';\n",
              "          await google.colab.output.renderOutput(dataTable, element);\n",
              "          const docLink = document.createElement('div');\n",
              "          docLink.innerHTML = docLinkHtml;\n",
              "          element.appendChild(docLink);\n",
              "        }\n",
              "      </script>\n",
              "    </div>\n",
              "  </div>\n",
              "  "
            ]
          },
          "metadata": {},
          "execution_count": 5
        }
      ]
    },
    {
      "cell_type": "markdown",
      "source": [
        "Переименуем колонки в соответствии со стандартами Python"
      ],
      "metadata": {
        "id": "jnog2AqdPWz2"
      }
    },
    {
      "cell_type": "code",
      "source": [
        "df.columns = ['gender', 'age', 'salary', 'family', 'payments']\n",
        "df.head()"
      ],
      "metadata": {
        "id": "aB9Xcq1AV_Qn",
        "colab": {
          "base_uri": "https://localhost:8080/",
          "height": 204
        },
        "outputId": "1e412990-188e-45c2-ff7a-5e76db6763ef"
      },
      "execution_count": null,
      "outputs": [
        {
          "output_type": "execute_result",
          "data": {
            "text/plain": [
              "   gender   age   salary  family  payments\n",
              "0       1  41.0  49600.0       1         0\n",
              "1       0  46.0  38000.0       1         1\n",
              "2       0  29.0  21000.0       0         0\n",
              "3       0  21.0  41700.0       2         0\n",
              "4       1  28.0  26100.0       0         0"
            ],
            "text/html": [
              "\n",
              "  <div id=\"df-610eefba-2348-43ac-86e1-efbba519fe33\">\n",
              "    <div class=\"colab-df-container\">\n",
              "      <div>\n",
              "<style scoped>\n",
              "    .dataframe tbody tr th:only-of-type {\n",
              "        vertical-align: middle;\n",
              "    }\n",
              "\n",
              "    .dataframe tbody tr th {\n",
              "        vertical-align: top;\n",
              "    }\n",
              "\n",
              "    .dataframe thead th {\n",
              "        text-align: right;\n",
              "    }\n",
              "</style>\n",
              "<table border=\"1\" class=\"dataframe\">\n",
              "  <thead>\n",
              "    <tr style=\"text-align: right;\">\n",
              "      <th></th>\n",
              "      <th>gender</th>\n",
              "      <th>age</th>\n",
              "      <th>salary</th>\n",
              "      <th>family</th>\n",
              "      <th>payments</th>\n",
              "    </tr>\n",
              "  </thead>\n",
              "  <tbody>\n",
              "    <tr>\n",
              "      <th>0</th>\n",
              "      <td>1</td>\n",
              "      <td>41.0</td>\n",
              "      <td>49600.0</td>\n",
              "      <td>1</td>\n",
              "      <td>0</td>\n",
              "    </tr>\n",
              "    <tr>\n",
              "      <th>1</th>\n",
              "      <td>0</td>\n",
              "      <td>46.0</td>\n",
              "      <td>38000.0</td>\n",
              "      <td>1</td>\n",
              "      <td>1</td>\n",
              "    </tr>\n",
              "    <tr>\n",
              "      <th>2</th>\n",
              "      <td>0</td>\n",
              "      <td>29.0</td>\n",
              "      <td>21000.0</td>\n",
              "      <td>0</td>\n",
              "      <td>0</td>\n",
              "    </tr>\n",
              "    <tr>\n",
              "      <th>3</th>\n",
              "      <td>0</td>\n",
              "      <td>21.0</td>\n",
              "      <td>41700.0</td>\n",
              "      <td>2</td>\n",
              "      <td>0</td>\n",
              "    </tr>\n",
              "    <tr>\n",
              "      <th>4</th>\n",
              "      <td>1</td>\n",
              "      <td>28.0</td>\n",
              "      <td>26100.0</td>\n",
              "      <td>0</td>\n",
              "      <td>0</td>\n",
              "    </tr>\n",
              "  </tbody>\n",
              "</table>\n",
              "</div>\n",
              "      <button class=\"colab-df-convert\" onclick=\"convertToInteractive('df-610eefba-2348-43ac-86e1-efbba519fe33')\"\n",
              "              title=\"Convert this dataframe to an interactive table.\"\n",
              "              style=\"display:none;\">\n",
              "        \n",
              "  <svg xmlns=\"http://www.w3.org/2000/svg\" height=\"24px\"viewBox=\"0 0 24 24\"\n",
              "       width=\"24px\">\n",
              "    <path d=\"M0 0h24v24H0V0z\" fill=\"none\"/>\n",
              "    <path d=\"M18.56 5.44l.94 2.06.94-2.06 2.06-.94-2.06-.94-.94-2.06-.94 2.06-2.06.94zm-11 1L8.5 8.5l.94-2.06 2.06-.94-2.06-.94L8.5 2.5l-.94 2.06-2.06.94zm10 10l.94 2.06.94-2.06 2.06-.94-2.06-.94-.94-2.06-.94 2.06-2.06.94z\"/><path d=\"M17.41 7.96l-1.37-1.37c-.4-.4-.92-.59-1.43-.59-.52 0-1.04.2-1.43.59L10.3 9.45l-7.72 7.72c-.78.78-.78 2.05 0 2.83L4 21.41c.39.39.9.59 1.41.59.51 0 1.02-.2 1.41-.59l7.78-7.78 2.81-2.81c.8-.78.8-2.07 0-2.86zM5.41 20L4 18.59l7.72-7.72 1.47 1.35L5.41 20z\"/>\n",
              "  </svg>\n",
              "      </button>\n",
              "      \n",
              "  <style>\n",
              "    .colab-df-container {\n",
              "      display:flex;\n",
              "      flex-wrap:wrap;\n",
              "      gap: 12px;\n",
              "    }\n",
              "\n",
              "    .colab-df-convert {\n",
              "      background-color: #E8F0FE;\n",
              "      border: none;\n",
              "      border-radius: 50%;\n",
              "      cursor: pointer;\n",
              "      display: none;\n",
              "      fill: #1967D2;\n",
              "      height: 32px;\n",
              "      padding: 0 0 0 0;\n",
              "      width: 32px;\n",
              "    }\n",
              "\n",
              "    .colab-df-convert:hover {\n",
              "      background-color: #E2EBFA;\n",
              "      box-shadow: 0px 1px 2px rgba(60, 64, 67, 0.3), 0px 1px 3px 1px rgba(60, 64, 67, 0.15);\n",
              "      fill: #174EA6;\n",
              "    }\n",
              "\n",
              "    [theme=dark] .colab-df-convert {\n",
              "      background-color: #3B4455;\n",
              "      fill: #D2E3FC;\n",
              "    }\n",
              "\n",
              "    [theme=dark] .colab-df-convert:hover {\n",
              "      background-color: #434B5C;\n",
              "      box-shadow: 0px 1px 3px 1px rgba(0, 0, 0, 0.15);\n",
              "      filter: drop-shadow(0px 1px 2px rgba(0, 0, 0, 0.3));\n",
              "      fill: #FFFFFF;\n",
              "    }\n",
              "  </style>\n",
              "\n",
              "      <script>\n",
              "        const buttonEl =\n",
              "          document.querySelector('#df-610eefba-2348-43ac-86e1-efbba519fe33 button.colab-df-convert');\n",
              "        buttonEl.style.display =\n",
              "          google.colab.kernel.accessAllowed ? 'block' : 'none';\n",
              "\n",
              "        async function convertToInteractive(key) {\n",
              "          const element = document.querySelector('#df-610eefba-2348-43ac-86e1-efbba519fe33');\n",
              "          const dataTable =\n",
              "            await google.colab.kernel.invokeFunction('convertToInteractive',\n",
              "                                                     [key], {});\n",
              "          if (!dataTable) return;\n",
              "\n",
              "          const docLinkHtml = 'Like what you see? Visit the ' +\n",
              "            '<a target=\"_blank\" href=https://colab.research.google.com/notebooks/data_table.ipynb>data table notebook</a>'\n",
              "            + ' to learn more about interactive tables.';\n",
              "          element.innerHTML = '';\n",
              "          dataTable['output_type'] = 'display_data';\n",
              "          await google.colab.output.renderOutput(dataTable, element);\n",
              "          const docLink = document.createElement('div');\n",
              "          docLink.innerHTML = docLinkHtml;\n",
              "          element.appendChild(docLink);\n",
              "        }\n",
              "      </script>\n",
              "    </div>\n",
              "  </div>\n",
              "  "
            ]
          },
          "metadata": {},
          "execution_count": 6
        }
      ]
    },
    {
      "cell_type": "markdown",
      "source": [
        "Проверка явных дубликатов:"
      ],
      "metadata": {
        "id": "p1gci6ZaPeZj"
      }
    },
    {
      "cell_type": "code",
      "source": [
        "df.duplicated().sum()"
      ],
      "metadata": {
        "id": "PX-xd9m-Wayv",
        "colab": {
          "base_uri": "https://localhost:8080/"
        },
        "outputId": "4bf23a9c-a017-41f3-d3e6-d9030ad3121f"
      },
      "execution_count": null,
      "outputs": [
        {
          "output_type": "execute_result",
          "data": {
            "text/plain": [
              "153"
            ]
          },
          "metadata": {},
          "execution_count": 7
        }
      ]
    },
    {
      "cell_type": "markdown",
      "source": [
        "Проверка дубликатов в признаках:"
      ],
      "metadata": {
        "id": "nLb-yUrZPlab"
      }
    },
    {
      "cell_type": "code",
      "source": [
        "df.iloc[:,0:4].duplicated().sum()"
      ],
      "metadata": {
        "id": "x6giG5KlWj65",
        "colab": {
          "base_uri": "https://localhost:8080/"
        },
        "outputId": "90de1e4d-2579-4e04-c5a7-55179cc51b88"
      },
      "execution_count": null,
      "outputs": [
        {
          "output_type": "execute_result",
          "data": {
            "text/plain": [
              "153"
            ]
          },
          "metadata": {},
          "execution_count": 8
        }
      ]
    },
    {
      "cell_type": "markdown",
      "source": [
        "Количество дубликатов в признаках совпадает с общим количеством дубликатов. На обучения модели линейной регрессии это не должно повлиять. "
      ],
      "metadata": {
        "id": "6JcvXBTrv5WY"
      }
    },
    {
      "cell_type": "markdown",
      "source": [
        "###Базовая модель"
      ],
      "metadata": {
        "id": "wOkBBrihQFq3"
      }
    },
    {
      "cell_type": "markdown",
      "source": [
        "Объявим переменные признаков и целевого признака. Признаки в формате DataFrame пригодятся для сравнения дешифрованных данных."
      ],
      "metadata": {
        "id": "4rh-nFglQPMi"
      }
    },
    {
      "cell_type": "code",
      "source": [
        "X_df = df.drop(['payments'], axis=1)\n",
        "X = X_df.values\n",
        "y = df.payments.values"
      ],
      "metadata": {
        "id": "D11HV7Lu9tEu"
      },
      "execution_count": null,
      "outputs": []
    },
    {
      "cell_type": "markdown",
      "source": [
        "Обучим модель линейной регрессии и посмотрим метрики предсказаний:"
      ],
      "metadata": {
        "id": "aBAtejooQbhP"
      }
    },
    {
      "cell_type": "code",
      "source": [
        "lr = LinearRegression()\n",
        "lr.fit(X, y)\n",
        "y_hat = lr.predict(X)\n",
        "\n",
        "mse_base = mean_squared_error(y, y_hat)\n",
        "r2_base = r2_score(y, y_hat)\n",
        "\n",
        "print(f'MSE: {mse_base}')\n",
        "print(f'R2: {r2_base}')\n"
      ],
      "metadata": {
        "colab": {
          "base_uri": "https://localhost:8080/"
        },
        "id": "uov4X-_7kObg",
        "outputId": "24484e86-2626-44cc-8343-9823454779a9"
      },
      "execution_count": null,
      "outputs": [
        {
          "output_type": "stream",
          "name": "stdout",
          "text": [
            "MSE: 0.1233468894171086\n",
            "R2: 0.42494550286668\n"
          ]
        }
      ]
    },
    {
      "cell_type": "markdown",
      "metadata": {
        "id": "LeDIQcTGKsBB"
      },
      "source": [
        "## Умножение матриц"
      ]
    },
    {
      "cell_type": "markdown",
      "source": [
        "### Теоретическое обоснование"
      ],
      "metadata": {
        "id": "gPiMfdEoREl8"
      }
    },
    {
      "cell_type": "markdown",
      "source": [
        "При умножении матрицы признаков на обратимую квадратную матрицу происходит следующее(на примере квадратных матриц $A$ и $B$ размером 3х3):\n",
        "\n",
        "\n",
        "$$  \n",
        "\\begin{bmatrix}\n",
        "    a_{11} & a_{12} & a_{13}  \\\\\n",
        "    a_{21} & a_{22} & a_{23} \\\\\n",
        "    a_{31} & a_{32} & a_{33} \n",
        "\\end{bmatrix}\n",
        "*\n",
        "\\begin{bmatrix}\n",
        "    b_{11} & b_{12} & b_{13}  \\\\\n",
        "    b_{21} & b_{22} & b_{23} \\\\\n",
        "    b_{31} & b_{32} & b_{33} \n",
        "\\end{bmatrix}\n",
        "=\n",
        "\\begin{bmatrix}\n",
        "    c_{11} & c_{12} & c_{13}  \\\\\n",
        "    c_{21} & c_{22} & c_{23} \\\\\n",
        "    c_{31} & c_{32} & c_{33} \n",
        "\\end{bmatrix}\n",
        "$$\n",
        "\n",
        "Где:\n",
        "\n",
        "$$\n",
        "c_{11} = a_{11}*b_{11} + a_{12}*b_{21} + a_{13}*b_{31}\\\\\n",
        "c_{12} = a_{11}*b_{12} + a_{12}*b_{22} + a_{13}*b_{32}\\\\\n",
        "\\dots\\\\\n",
        "c_{33} = a_{31}*b_{13} + a_{32}*b_{23} + a_{33}*b_{33}\\\\\n",
        "$$\n",
        "\n",
        "То есть мы видим что с каждой строкой матрицы $A$ происходят линейные преобразования на основе значений столбцов матрицы $B$. При этом эти изменения одинаковы для каждой строки и каждого элемента матрицы $A$. Таким образом это не должно влиять на результаты предсказаний линейной регрессии. \n",
        "\n",
        "Декодировть закодированные признаки можно умножив матрицу закодированных признаков на матрицу обратную матрице $B$, это и будет ключ к дешифрованию:\n",
        "\n",
        "\n",
        "$X$ - матрица признаков\\\n",
        "$E$ - матрица ключ для шифрования\\\n",
        "$E^{-1}$ - матрица ключ для дешифрования\\\n",
        "$I$ - единичная матрица\\\n",
        "$E * E^{-1} = I$ - произведение матрицы на обратную равно единичной матрице\n",
        "\n",
        "$$\n",
        "(X*E)* E^{-1} = X*(E* E^{-1}) = X * I = X\n",
        "$$"
      ],
      "metadata": {
        "id": "OedBltSQwrJA"
      }
    },
    {
      "cell_type": "markdown",
      "source": [
        "Таким образом мы можем производить над признаками любые линейные преобразования не влияя на качество модели линейной регрессии. "
      ],
      "metadata": {
        "id": "Sj-ZdXjY3qwX"
      }
    },
    {
      "cell_type": "markdown",
      "source": [
        "### Проверка шифрования/дешифрования"
      ],
      "metadata": {
        "id": "AVSpOiCkRJxp"
      }
    },
    {
      "cell_type": "markdown",
      "source": [
        "Проверим качество модели на исходных данных и на зашифрованных при помощи создания матрицы_ключа:"
      ],
      "metadata": {
        "id": "6ReoJtQx37IG"
      }
    },
    {
      "cell_type": "code",
      "source": [
        "state = np.random.RandomState(42)\n",
        "n = X.shape[1]"
      ],
      "metadata": {
        "id": "Is1DS85k4obL"
      },
      "execution_count": null,
      "outputs": []
    },
    {
      "cell_type": "markdown",
      "source": [
        "Матрица-ключ шифрования:"
      ],
      "metadata": {
        "id": "KemAQKCc4yzi"
      }
    },
    {
      "cell_type": "code",
      "source": [
        "E = state.randint(MAX, size=(n,n))\n",
        "E"
      ],
      "metadata": {
        "colab": {
          "base_uri": "https://localhost:8080/"
        },
        "id": "dQC_CaUH4xn4",
        "outputId": "baa8ecba-16a6-4765-cead-877bb865ff0a"
      },
      "execution_count": null,
      "outputs": [
        {
          "output_type": "execute_result",
          "data": {
            "text/plain": [
              "array([[6909045637428952499, 8314211556539077902, 4279532810384561223,\n",
              "        1819927849474927636],\n",
              "       [2878035897379592313, 2877591057541362902, 1071453510346823114,\n",
              "        6754757701360545140],\n",
              "       [1865242737500154727, 3838261603483033730,  379716980844854580,\n",
              "        8668306688712173911],\n",
              "       [6132484236315524509, 3916965252892395905, 3354078637317002171,\n",
              "        3383216058915832992]])"
            ]
          },
          "metadata": {},
          "execution_count": 12
        }
      ]
    },
    {
      "cell_type": "markdown",
      "source": [
        "Матрица-ключ для дешифрования(матрица обратная E):"
      ],
      "metadata": {
        "id": "5PK281dL56NF"
      }
    },
    {
      "cell_type": "code",
      "source": [
        "D = np.linalg.inv(E)"
      ],
      "metadata": {
        "id": "XwoM_cDb6C8D"
      },
      "execution_count": null,
      "outputs": []
    },
    {
      "cell_type": "markdown",
      "source": [
        "Зашифрованные признаки:"
      ],
      "metadata": {
        "id": "dvAVUTjJ6H0e"
      }
    },
    {
      "cell_type": "code",
      "source": [
        "enc_X = X @ E"
      ],
      "metadata": {
        "id": "qtamb1a250uj"
      },
      "execution_count": null,
      "outputs": []
    },
    {
      "cell_type": "markdown",
      "source": [
        "Дешифрованные признаки:"
      ],
      "metadata": {
        "id": "vLmWoTcp6RoD"
      }
    },
    {
      "cell_type": "code",
      "source": [
        "dec_X = enc_X @ D"
      ],
      "metadata": {
        "id": "fi3yRmYXwqh9"
      },
      "execution_count": null,
      "outputs": []
    },
    {
      "cell_type": "markdown",
      "source": [
        "Дешифрованные признаки преобразуем в датафрейм и сравним их с исходными, округлив значения:"
      ],
      "metadata": {
        "id": "8lBlln_r7mOW"
      }
    },
    {
      "cell_type": "code",
      "source": [
        "dec_X_df = pd.DataFrame(dec_X, columns=df.columns[:-1])\n",
        "dec_X_df = np.abs(round(dec_X_df))\n",
        "dec_X_df"
      ],
      "metadata": {
        "colab": {
          "base_uri": "https://localhost:8080/",
          "height": 419
        },
        "id": "_gBpVPJe6XCM",
        "outputId": "431df469-4a54-485c-a043-a14cf64231d1"
      },
      "execution_count": null,
      "outputs": [
        {
          "output_type": "execute_result",
          "data": {
            "text/plain": [
              "      gender   age   salary  family\n",
              "0        1.0  41.0  49600.0     1.0\n",
              "1        0.0  46.0  38000.0     1.0\n",
              "2        0.0  29.0  21000.0     0.0\n",
              "3        0.0  21.0  41700.0     2.0\n",
              "4        1.0  28.0  26100.0     0.0\n",
              "...      ...   ...      ...     ...\n",
              "4995     0.0  28.0  35700.0     2.0\n",
              "4996     0.0  34.0  52400.0     1.0\n",
              "4997     0.0  20.0  33900.0     2.0\n",
              "4998     1.0  22.0  32700.0     3.0\n",
              "4999     1.0  28.0  40600.0     1.0\n",
              "\n",
              "[5000 rows x 4 columns]"
            ],
            "text/html": [
              "\n",
              "  <div id=\"df-2d9ea241-b69e-4f91-b676-cf441c74238c\">\n",
              "    <div class=\"colab-df-container\">\n",
              "      <div>\n",
              "<style scoped>\n",
              "    .dataframe tbody tr th:only-of-type {\n",
              "        vertical-align: middle;\n",
              "    }\n",
              "\n",
              "    .dataframe tbody tr th {\n",
              "        vertical-align: top;\n",
              "    }\n",
              "\n",
              "    .dataframe thead th {\n",
              "        text-align: right;\n",
              "    }\n",
              "</style>\n",
              "<table border=\"1\" class=\"dataframe\">\n",
              "  <thead>\n",
              "    <tr style=\"text-align: right;\">\n",
              "      <th></th>\n",
              "      <th>gender</th>\n",
              "      <th>age</th>\n",
              "      <th>salary</th>\n",
              "      <th>family</th>\n",
              "    </tr>\n",
              "  </thead>\n",
              "  <tbody>\n",
              "    <tr>\n",
              "      <th>0</th>\n",
              "      <td>1.0</td>\n",
              "      <td>41.0</td>\n",
              "      <td>49600.0</td>\n",
              "      <td>1.0</td>\n",
              "    </tr>\n",
              "    <tr>\n",
              "      <th>1</th>\n",
              "      <td>0.0</td>\n",
              "      <td>46.0</td>\n",
              "      <td>38000.0</td>\n",
              "      <td>1.0</td>\n",
              "    </tr>\n",
              "    <tr>\n",
              "      <th>2</th>\n",
              "      <td>0.0</td>\n",
              "      <td>29.0</td>\n",
              "      <td>21000.0</td>\n",
              "      <td>0.0</td>\n",
              "    </tr>\n",
              "    <tr>\n",
              "      <th>3</th>\n",
              "      <td>0.0</td>\n",
              "      <td>21.0</td>\n",
              "      <td>41700.0</td>\n",
              "      <td>2.0</td>\n",
              "    </tr>\n",
              "    <tr>\n",
              "      <th>4</th>\n",
              "      <td>1.0</td>\n",
              "      <td>28.0</td>\n",
              "      <td>26100.0</td>\n",
              "      <td>0.0</td>\n",
              "    </tr>\n",
              "    <tr>\n",
              "      <th>...</th>\n",
              "      <td>...</td>\n",
              "      <td>...</td>\n",
              "      <td>...</td>\n",
              "      <td>...</td>\n",
              "    </tr>\n",
              "    <tr>\n",
              "      <th>4995</th>\n",
              "      <td>0.0</td>\n",
              "      <td>28.0</td>\n",
              "      <td>35700.0</td>\n",
              "      <td>2.0</td>\n",
              "    </tr>\n",
              "    <tr>\n",
              "      <th>4996</th>\n",
              "      <td>0.0</td>\n",
              "      <td>34.0</td>\n",
              "      <td>52400.0</td>\n",
              "      <td>1.0</td>\n",
              "    </tr>\n",
              "    <tr>\n",
              "      <th>4997</th>\n",
              "      <td>0.0</td>\n",
              "      <td>20.0</td>\n",
              "      <td>33900.0</td>\n",
              "      <td>2.0</td>\n",
              "    </tr>\n",
              "    <tr>\n",
              "      <th>4998</th>\n",
              "      <td>1.0</td>\n",
              "      <td>22.0</td>\n",
              "      <td>32700.0</td>\n",
              "      <td>3.0</td>\n",
              "    </tr>\n",
              "    <tr>\n",
              "      <th>4999</th>\n",
              "      <td>1.0</td>\n",
              "      <td>28.0</td>\n",
              "      <td>40600.0</td>\n",
              "      <td>1.0</td>\n",
              "    </tr>\n",
              "  </tbody>\n",
              "</table>\n",
              "<p>5000 rows × 4 columns</p>\n",
              "</div>\n",
              "      <button class=\"colab-df-convert\" onclick=\"convertToInteractive('df-2d9ea241-b69e-4f91-b676-cf441c74238c')\"\n",
              "              title=\"Convert this dataframe to an interactive table.\"\n",
              "              style=\"display:none;\">\n",
              "        \n",
              "  <svg xmlns=\"http://www.w3.org/2000/svg\" height=\"24px\"viewBox=\"0 0 24 24\"\n",
              "       width=\"24px\">\n",
              "    <path d=\"M0 0h24v24H0V0z\" fill=\"none\"/>\n",
              "    <path d=\"M18.56 5.44l.94 2.06.94-2.06 2.06-.94-2.06-.94-.94-2.06-.94 2.06-2.06.94zm-11 1L8.5 8.5l.94-2.06 2.06-.94-2.06-.94L8.5 2.5l-.94 2.06-2.06.94zm10 10l.94 2.06.94-2.06 2.06-.94-2.06-.94-.94-2.06-.94 2.06-2.06.94z\"/><path d=\"M17.41 7.96l-1.37-1.37c-.4-.4-.92-.59-1.43-.59-.52 0-1.04.2-1.43.59L10.3 9.45l-7.72 7.72c-.78.78-.78 2.05 0 2.83L4 21.41c.39.39.9.59 1.41.59.51 0 1.02-.2 1.41-.59l7.78-7.78 2.81-2.81c.8-.78.8-2.07 0-2.86zM5.41 20L4 18.59l7.72-7.72 1.47 1.35L5.41 20z\"/>\n",
              "  </svg>\n",
              "      </button>\n",
              "      \n",
              "  <style>\n",
              "    .colab-df-container {\n",
              "      display:flex;\n",
              "      flex-wrap:wrap;\n",
              "      gap: 12px;\n",
              "    }\n",
              "\n",
              "    .colab-df-convert {\n",
              "      background-color: #E8F0FE;\n",
              "      border: none;\n",
              "      border-radius: 50%;\n",
              "      cursor: pointer;\n",
              "      display: none;\n",
              "      fill: #1967D2;\n",
              "      height: 32px;\n",
              "      padding: 0 0 0 0;\n",
              "      width: 32px;\n",
              "    }\n",
              "\n",
              "    .colab-df-convert:hover {\n",
              "      background-color: #E2EBFA;\n",
              "      box-shadow: 0px 1px 2px rgba(60, 64, 67, 0.3), 0px 1px 3px 1px rgba(60, 64, 67, 0.15);\n",
              "      fill: #174EA6;\n",
              "    }\n",
              "\n",
              "    [theme=dark] .colab-df-convert {\n",
              "      background-color: #3B4455;\n",
              "      fill: #D2E3FC;\n",
              "    }\n",
              "\n",
              "    [theme=dark] .colab-df-convert:hover {\n",
              "      background-color: #434B5C;\n",
              "      box-shadow: 0px 1px 3px 1px rgba(0, 0, 0, 0.15);\n",
              "      filter: drop-shadow(0px 1px 2px rgba(0, 0, 0, 0.3));\n",
              "      fill: #FFFFFF;\n",
              "    }\n",
              "  </style>\n",
              "\n",
              "      <script>\n",
              "        const buttonEl =\n",
              "          document.querySelector('#df-2d9ea241-b69e-4f91-b676-cf441c74238c button.colab-df-convert');\n",
              "        buttonEl.style.display =\n",
              "          google.colab.kernel.accessAllowed ? 'block' : 'none';\n",
              "\n",
              "        async function convertToInteractive(key) {\n",
              "          const element = document.querySelector('#df-2d9ea241-b69e-4f91-b676-cf441c74238c');\n",
              "          const dataTable =\n",
              "            await google.colab.kernel.invokeFunction('convertToInteractive',\n",
              "                                                     [key], {});\n",
              "          if (!dataTable) return;\n",
              "\n",
              "          const docLinkHtml = 'Like what you see? Visit the ' +\n",
              "            '<a target=\"_blank\" href=https://colab.research.google.com/notebooks/data_table.ipynb>data table notebook</a>'\n",
              "            + ' to learn more about interactive tables.';\n",
              "          element.innerHTML = '';\n",
              "          dataTable['output_type'] = 'display_data';\n",
              "          await google.colab.output.renderOutput(dataTable, element);\n",
              "          const docLink = document.createElement('div');\n",
              "          docLink.innerHTML = docLinkHtml;\n",
              "          element.appendChild(docLink);\n",
              "        }\n",
              "      </script>\n",
              "    </div>\n",
              "  </div>\n",
              "  "
            ]
          },
          "metadata": {},
          "execution_count": 16
        }
      ]
    },
    {
      "cell_type": "markdown",
      "source": [
        "Исходыне признаки:"
      ],
      "metadata": {
        "id": "h-OpNTRq73MG"
      }
    },
    {
      "cell_type": "code",
      "source": [
        "(dec_X_df == X_df).sum()"
      ],
      "metadata": {
        "colab": {
          "base_uri": "https://localhost:8080/"
        },
        "id": "A18Mn_py7KFg",
        "outputId": "32182430-f0ba-41e0-beda-8f8b546d9470"
      },
      "execution_count": null,
      "outputs": [
        {
          "output_type": "execute_result",
          "data": {
            "text/plain": [
              "gender    5000\n",
              "age       5000\n",
              "salary    4960\n",
              "family    5000\n",
              "dtype: int64"
            ]
          },
          "metadata": {},
          "execution_count": 17
        }
      ]
    },
    {
      "cell_type": "markdown",
      "source": [
        "Мы видим что почти по всем значениям после дешифрования у нас признаки совпали. Исключения лишь в столбце Зарплата. Проверим среднюю ошибку в этих столбцах:"
      ],
      "metadata": {
        "id": "zefuxWbj770i"
      }
    },
    {
      "cell_type": "code",
      "source": [
        "mean_squared_error(X_df.salary, dec_X_df.salary)"
      ],
      "metadata": {
        "colab": {
          "base_uri": "https://localhost:8080/"
        },
        "id": "vo3VBjVM8LND",
        "outputId": "e6a9e253-b07f-4230-f91e-34b624c1b05c"
      },
      "execution_count": null,
      "outputs": [
        {
          "output_type": "execute_result",
          "data": {
            "text/plain": [
              "1.4558378780933286e-25"
            ]
          },
          "metadata": {},
          "execution_count": 18
        }
      ]
    },
    {
      "cell_type": "markdown",
      "source": [
        "Среднеквадратичная ошибка почти равна нулю, то есть это означает что наш метод шифрования работает на практике. "
      ],
      "metadata": {
        "id": "Zw8fqW1a8TSO"
      }
    },
    {
      "cell_type": "markdown",
      "source": [
        "Проверим модель линейной регрессии на зашифрованных данных:"
      ],
      "metadata": {
        "id": "8heKGDiJ8cZH"
      }
    },
    {
      "cell_type": "code",
      "source": [
        "lr.fit(enc_X, y)\n",
        "y_hat = lr.predict(enc_X)\n",
        "\n",
        "mse_enc = mean_squared_error(y, y_hat)\n",
        "r2_enc = r2_score(y, y_hat)\n",
        "\n",
        "print(f'MSE encoded: {mse_enc}\\nR2 encoded: {r2_enc}\\n')\n",
        "print(f'MSE difference: {mse_base-mse_enc}\\nR2 difference: {r2_base-r2_enc}')\n",
        "\n"
      ],
      "metadata": {
        "colab": {
          "base_uri": "https://localhost:8080/"
        },
        "id": "KobJ2pX88iXy",
        "outputId": "5ff15cae-d6f5-4134-d414-e74490d9419d"
      },
      "execution_count": null,
      "outputs": [
        {
          "output_type": "stream",
          "name": "stdout",
          "text": [
            "MSE encoded: 0.12334688941721106\n",
            "R2 encoded: 0.42494550286620236\n",
            "\n",
            "MSE difference: -1.0245970738509413e-13\n",
            "R2 difference: 4.776179451937423e-13\n"
          ]
        }
      ]
    },
    {
      "cell_type": "markdown",
      "source": [
        "Как мы видим модель обученная на зашифрованных данных показывает такой же результат как и на исходных. Разница в метриках стремится к нулю. "
      ],
      "metadata": {
        "id": "rPwKVxdTRTh8"
      }
    },
    {
      "cell_type": "markdown",
      "metadata": {
        "id": "wczg7ru-KsBD"
      },
      "source": [
        "## Алгоритм преобразования"
      ]
    },
    {
      "cell_type": "markdown",
      "metadata": {
        "id": "p2s5NGMdKsBE"
      },
      "source": [
        "**Алгоритм**\n",
        "\n",
        "Для более защищенного шифрования используем три ключа: матрицу на которую будем умножать исходные признаки, матрицу которую будем прибавлять к произведению и матрицу которую будем умножить на сумму матриц:\n",
        "\n",
        "$E_1$ - первая матрица-множитель\\\n",
        "$E_2$ - вторая матрица-множитель\\\n",
        "$W$ - матрица-слагаемое\\\n",
        "\n",
        "Матрицы ключи дешифрования соответственно будут:\\\n",
        "$D_1 = E_1^{-1}$ - матрица обратная матрице $E_1$ \\\n",
        "$D_2 = E_2^{-1}$ - матрица обратная матрице $E_2$ \\\n",
        "$W$ - матрица-слагаемое(его мы будем вычитать при дешифровке\n",
        "\n",
        "Алгоритм шифрования выглядит следующим образом:\n",
        "\n",
        "$$\n",
        "X_{enc} = (X * E_1 + W) * E_2\n",
        "$$\n",
        "Алгоритм дешифрования:\n",
        "$$\n",
        "X_{dec} = (X_{enc} * D_2 - W) * D_1\n",
        "$$"
      ]
    },
    {
      "cell_type": "markdown",
      "metadata": {
        "id": "fy5c-hZtKsBE"
      },
      "source": [
        "**Обоснование**\n",
        "\n",
        "Подставим в формулу $X_{enc}$ значение $X_{dec}$ имея ввиду что произведение матрицы на обратную от самой себя равно единичной матрице:\n",
        "$$\n",
        "X_{enc} = (X * E_1 + W) * E_2 = ((X_{enc} * D_2 - W) * D_1 * E_1 + W) * E_2 = ((X_{enc} * E_2^{-1} - W) * E_1^{-1} * E_1 + W) * E_2 = ((X_{enc} * E_2^{-1} - W) * I + W) * E_2 = ((X_{enc} * E_2^{-1} - W) * I + W) * E_2 = (X_{enc} * E_2^{-1} - W+ W) * E_2 = X_{enc} * E_2^{-1} * E_2 = X_{enc}\n",
        "$$"
      ]
    },
    {
      "cell_type": "markdown",
      "source": [
        "Мы видим что равенство выполняется, значит метод шифрования и дешифрования работает. "
      ],
      "metadata": {
        "id": "0mke7tlEMUsi"
      }
    },
    {
      "cell_type": "markdown",
      "metadata": {
        "id": "1x5-fI-rKsBE"
      },
      "source": [
        "## Проверка алгоритма"
      ]
    },
    {
      "cell_type": "markdown",
      "source": [
        "Для шифрования и дешифрованию матрицы признаков любого размера создадим класс LinearEncoder:"
      ],
      "metadata": {
        "id": "vGbwguHxN2rT"
      }
    },
    {
      "cell_type": "code",
      "source": [
        "class LinearEncoder():\n",
        "\n",
        "# Класс LinearEncoder шифрует матрицу признаков шифрованием Хилла. \n",
        "# Метод encode принимает на вход признаки для шифрования, возвращает зашифрованные признаки. \n",
        "# Метод decode возвращает дешифрованные признаки. \n",
        "  \n",
        "\n",
        "  def encode(self, X):\n",
        "    MAX = sys.maxsize\n",
        "    state1 = np.random.RandomState(42)\n",
        "    state2 = np.random.RandomState(43)\n",
        "    self.n = X.shape[1]\n",
        "    self.m = X.shape[0]\n",
        "    self.E1 = state1.randint(MAX, size=(self.n, self.n))\n",
        "    self.E2 = state2.randint(MAX, size=(self.n, self.n))\n",
        "    self.D1 = np.linalg.inv(self.E1)\n",
        "    self.D2 = np.linalg.inv(self.E2)\n",
        "    self.W = state1.randn(self.m, self.n)\n",
        "\n",
        "    enc_X = (X @ self.E1 + self.W) @ self.E2\n",
        "\n",
        "    return enc_X\n",
        "  \n",
        "  def decode(self, enc_X):\n",
        "    dec_X = ((enc_X @ self.D2) - self.W) @ self.D1\n",
        "    return dec_X\n",
        "\n",
        "  "
      ],
      "metadata": {
        "id": "Ur58VArGMhWr"
      },
      "execution_count": null,
      "outputs": []
    },
    {
      "cell_type": "markdown",
      "source": [
        "Создадим объект класса и зашифруем признаки клиентов страховой компании:"
      ],
      "metadata": {
        "id": "DUJ-mH3bOKbZ"
      }
    },
    {
      "cell_type": "code",
      "source": [
        "encoder = LinearEncoder()\n",
        "X_enc = encoder.encode(X)"
      ],
      "metadata": {
        "id": "nW0y18w_MqiH"
      },
      "execution_count": null,
      "outputs": []
    },
    {
      "cell_type": "markdown",
      "source": [
        "Обучим модель линейной регрессии и сравним ее метрики с метриками базовой модели, обученной на незашифрованных данных:"
      ],
      "metadata": {
        "id": "P4XXBqWyOUyP"
      }
    },
    {
      "cell_type": "code",
      "source": [
        "lr = LinearRegression()\n",
        "lr.fit(X_enc, y)\n",
        "y_hat = lr.predict(X_enc)\n",
        "\n",
        "mse_enc = mean_squared_error(y, y_hat)\n",
        "r2_enc = r2_score(y, y_hat)\n",
        "\n",
        "print(f'MSE encoded: {mse_enc}\\nR2 encoded: {r2_enc}\\n')\n",
        "print(f'MSE difference: {mse_base-mse_enc}\\nR2 difference: {r2_base-r2_enc}')\n",
        "\n"
      ],
      "metadata": {
        "colab": {
          "base_uri": "https://localhost:8080/"
        },
        "id": "a6-52VWEBL2w",
        "outputId": "847a2cf2-ddc3-4c8c-eb23-16c52e11e77a"
      },
      "execution_count": null,
      "outputs": [
        {
          "output_type": "stream",
          "name": "stdout",
          "text": [
            "MSE encoded: 0.12334688941895945\n",
            "R2 encoded: 0.4249455028580512\n",
            "\n",
            "MSE difference: -1.8508528043525985e-12\n",
            "R2 difference: 8.628764369689179e-12\n"
          ]
        }
      ]
    },
    {
      "cell_type": "markdown",
      "source": [
        "Очеувидно, модель предсказывает с такой же точностью как и модель обученная на исходных данных. Ошибка между предсказаниями почти равна нулю. "
      ],
      "metadata": {
        "id": "QYsnABn8Oh7U"
      }
    },
    {
      "cell_type": "markdown",
      "source": [
        "Дешифруем матрицу признаков методом decode:"
      ],
      "metadata": {
        "id": "5E7FiSKSOeg_"
      }
    },
    {
      "cell_type": "code",
      "source": [
        "X_dec = encoder.decode(X_enc)\n",
        "X_dec_df = pd.DataFrame(X_dec, columns=X_df.columns)"
      ],
      "metadata": {
        "id": "QyiymgrEM3_T"
      },
      "execution_count": null,
      "outputs": []
    },
    {
      "cell_type": "markdown",
      "source": [
        "Проверим разницу в датафреймах:"
      ],
      "metadata": {
        "id": "di2lDIgaEouN"
      }
    },
    {
      "cell_type": "code",
      "source": [
        "X_dec_df = np.abs(round(dec_X_df))\n",
        "(dec_X_df == X_df).sum()"
      ],
      "metadata": {
        "colab": {
          "base_uri": "https://localhost:8080/"
        },
        "id": "_yaH095ORsod",
        "outputId": "a08f6c29-7ed8-484d-f2a4-2d1112a239be"
      },
      "execution_count": null,
      "outputs": [
        {
          "output_type": "execute_result",
          "data": {
            "text/plain": [
              "gender    5000\n",
              "age       5000\n",
              "salary    4960\n",
              "family    5000\n",
              "dtype: int64"
            ]
          },
          "metadata": {},
          "execution_count": 24
        }
      ]
    },
    {
      "cell_type": "markdown",
      "source": [
        "Результат получился такой же как и при простом умножении на обратимую матрицу. "
      ],
      "metadata": {
        "id": "NG4q52HYR9Ab"
      }
    },
    {
      "cell_type": "markdown",
      "source": [
        "## Итоговый вывод:\n",
        "\n",
        "Было проведено исследование данных клиентов страховой компании. Для защиты персональных данных было предложено два алгоритма шифрования данных по принципу шифрования Хилла:\n",
        "\n",
        " - Первый: с одним ключем шифрования\n",
        " - Второй: с тремя ключами шифрования.\n",
        "\n",
        "Для большей сохранности персональных предлагается использовать второй алгоритм так как большее число ключей снижает вероятность расшифровки со стороны. \n",
        "\n",
        "Так же было проведено исследования качества моделей линейной регрессии для предсказания количества страховых случаев для каждого клиента на основании его данных(исходных и закодированных при помощи алгоритма шифрования). \n",
        "Модели и в том и в другом случае показали одинаковые результаты. Что говорит о том, что для моделей линейных регрессий шифрование признаков таким способом можно смело применять для сохранения конфиденциальности. "
      ],
      "metadata": {
        "id": "t2ISlnDESU87"
      }
    }
  ],
  "metadata": {
    "kernelspec": {
      "display_name": "Python 3 (ipykernel)",
      "language": "python",
      "name": "python3"
    },
    "language_info": {
      "codemirror_mode": {
        "name": "ipython",
        "version": 3
      },
      "file_extension": ".py",
      "mimetype": "text/x-python",
      "name": "python",
      "nbconvert_exporter": "python",
      "pygments_lexer": "ipython3",
      "version": "3.9.5"
    },
    "toc": {
      "base_numbering": 1,
      "nav_menu": {},
      "number_sections": true,
      "sideBar": true,
      "skip_h1_title": true,
      "title_cell": "Содержание",
      "title_sidebar": "Contents",
      "toc_cell": true,
      "toc_position": {},
      "toc_section_display": true,
      "toc_window_display": true
    },
    "colab": {
      "provenance": [],
      "collapsed_sections": []
    }
  },
  "nbformat": 4,
  "nbformat_minor": 0
}